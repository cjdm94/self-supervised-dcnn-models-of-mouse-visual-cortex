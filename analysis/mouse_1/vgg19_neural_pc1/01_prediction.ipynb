{
 "cells": [
  {
   "cell_type": "code",
   "execution_count": null,
   "id": "66091cb3",
   "metadata": {},
   "outputs": [],
   "source": [
    "from cortexlib.utils.file import write_json_file, save_filtered_neural_data, save_model_features, Model\n",
    "from cortexlib.mouse import CortexlabMouse\n",
    "from cortexlib.images import CortexlabImages\n",
    "from cortexlib.vgg19 import PreTrainedVGG19Model\n",
    "from cortexlib.predictor import NeuralResponsePredictor\n",
    "from cortexlib.utils.plotting import vgg_colours\n",
    "from cortexlib.utils.random import set_global_seed\n",
    "from cortexlib.utils.logging import Logger\n",
    "import matplotlib.pyplot as plt\n",
    "import pandas as pd\n",
    "\n",
    "logger = Logger()\n",
    "set_global_seed()"
   ]
  },
  {
   "cell_type": "code",
   "execution_count": 2,
   "id": "4360dedb",
   "metadata": {},
   "outputs": [
    {
     "name": "stderr",
     "output_type": "stream",
     "text": [
      "\u001b[1;37m19:50:09 | INFO     | ⏳ Computing null distributions for all neurons...\u001b[0m\n",
      "\u001b[1;32m19:50:31 | SUCCESS  | ✅ Null distributions computed!\u001b[0m\n",
      "\u001b[1;37m19:50:31 | INFO     | ℹ️ Neural responses shape: (1573, 2, 500)\u001b[0m\n"
     ]
    }
   ],
   "source": [
    "mouse = CortexlabMouse()\n",
    "\n",
    "logger.progress(\"Computing null distributions for all neurons\")\n",
    "null_srv_all_neurons = mouse.compute_null_all_neurons(n_shuffles=100)\n",
    "logger.success(f\"Null distributions computed\")\n",
    "\n",
    "real_srv_all_neurons = mouse.compute_real_srv_all_neurons()\n",
    "reliable_neuron_indices = mouse.get_reliable_neuron_indices(\n",
    "            null_srv_all_neurons, real_srv_all_neurons, percentile_threshold=99)\n",
    "neural_responses_mean, neural_responses, _ = mouse.get_responses_for_reliable_neurons(reliable_neuron_indices, real_srv_all_neurons, num_neurons=500)\n",
    "\n",
    "logger.info(f\"Neural responses shape: {neural_responses.shape}\")"
   ]
  },
  {
   "cell_type": "code",
   "execution_count": 3,
   "id": "6ff4a36a",
   "metadata": {},
   "outputs": [
    {
     "name": "stderr",
     "output_type": "stream",
     "text": [
      "\u001b[1;37m19:50:32 | INFO     | ℹ️ Skipping save, file already exists at /Users/callummessiter/workspace/msc-neuro/research-project/analysis/mouse_1/_neural_data/neural_data_mouse_1.pt\u001b[0m\n"
     ]
    }
   ],
   "source": [
    "save_filtered_neural_data(\n",
    "    mouse_id='1', # TODO: use real mouse.id\n",
    "    neural_responses=neural_responses,\n",
    "    neural_responses_mean=neural_responses_mean)"
   ]
  },
  {
   "cell_type": "code",
   "execution_count": null,
   "id": "897fd22d",
   "metadata": {},
   "outputs": [
    {
     "name": "stderr",
     "output_type": "stream",
     "text": [
      "\u001b[1;37m19:50:32 | INFO     | ℹ️ Already downloaded pretrained SimCLR model\u001b[0m\n",
      "\u001b[1;37m19:50:32 | INFO     | ⏳ Loading and preprocessing images shown to mouse...\u001b[0m\n",
      "\u001b[1;32m19:50:47 | SUCCESS  | ✅ Images processed!\u001b[0m\n"
     ]
    }
   ],
   "source": [
    "vgg19 = PreTrainedVGG19Model()\n",
    "\n",
    "settings = vgg19.get_image_settings()\n",
    "images = CortexlabImages(\n",
    "    size=settings['size'],\n",
    "    channels=settings['channels'],\n",
    "    normalise_mean=settings['mean'], \n",
    "    normalise_std=settings['std'],\n",
    "    rescale_per_image=settings['rescale_per_image'],\n",
    ")\n",
    "\n",
    "logger.progress(\"Loading and preprocessing images shown to mouse\")\n",
    "image_dataset = images.load_images_shown_to_mouse(mouse.image_ids)\n",
    "logger.success(\"Images processed\")"
   ]
  },
  {
   "cell_type": "code",
   "execution_count": null,
   "id": "c967cae7",
   "metadata": {},
   "outputs": [
    {
     "name": "stderr",
     "output_type": "stream",
     "text": [
      "\u001b[1;37m19:50:47 | INFO     | ⏳ SimCLR: extracting features from images shown to mouse...\u001b[0m\n"
     ]
    },
    {
     "data": {
      "application/vnd.jupyter.widget-view+json": {
       "model_id": "946f9d72803d4fd6a2ff21984f6381ef",
       "version_major": 2,
       "version_minor": 0
      },
      "text/plain": [
       "  0%|          | 0/25 [00:00<?, ?it/s]"
      ]
     },
     "metadata": {},
     "output_type": "display_data"
    },
    {
     "name": "stderr",
     "output_type": "stream",
     "text": [
      "\u001b[1;32m19:51:04 | SUCCESS  | ✅ SimCLR features extracted!\u001b[0m\n",
      "\u001b[1;37m19:51:04 | INFO     | ℹ️ layer1 feats shape: (1573, 64, 24, 24)\u001b[0m\n",
      "\u001b[1;37m19:51:04 | INFO     | ℹ️ layer2 feats shape: (1573, 128, 12, 12)\u001b[0m\n",
      "\u001b[1;37m19:51:04 | INFO     | ℹ️ layer3 feats shape: (1573, 256, 6, 6)\u001b[0m\n",
      "\u001b[1;37m19:51:04 | INFO     | ℹ️ layer4 feats shape: (1573, 512, 3, 3)\u001b[0m\n",
      "\u001b[1;37m19:51:04 | INFO     | ℹ️ fc feats shape: (1573, 512)\u001b[0m\n"
     ]
    }
   ],
   "source": [
    "logger.progress(\"VGG19: extracting features from images shown to mouse\")\n",
    "vgg19_feats, labels = vgg19.extract_features(image_dataset)\n",
    "logger.success(\"VGG19 features extracted\")\n",
    "\n",
    "for layer, feats in vgg19_feats.items():\n",
    "    logger.info(f\"{layer} feats shape: {tuple(feats.shape)}\")"
   ]
  },
  {
   "cell_type": "code",
   "execution_count": null,
   "id": "d61ee23c",
   "metadata": {},
   "outputs": [
    {
     "name": "stderr",
     "output_type": "stream",
     "text": [
      "\u001b[1;37m19:51:04 | INFO     | ℹ️ Skipping save, file already exists at /Users/callummessiter/workspace/msc-neuro/research-project/analysis/mouse_1/_model_features/simclr_features_mouse_1.pt\u001b[0m\n"
     ]
    }
   ],
   "source": [
    "save_model_features(model=Model.VGG19, mouse_id=\"1\", features=vgg19_feats, labels=labels) # TODO: use real mouse.id"
   ]
  },
  {
   "cell_type": "code",
   "execution_count": null,
   "id": "ad6b86a4",
   "metadata": {},
   "outputs": [
    {
     "name": "stderr",
     "output_type": "stream",
     "text": [
      "\u001b[1;37m19:51:04 | INFO     | ⏳ Running regressions: SimCLR Feats => PC1 Neural Data...\u001b[0m\n",
      "\u001b[1;37m19:51:04 | INFO     | ⏳ SimCLR layer1...\u001b[0m\n"
     ]
    }
   ],
   "source": [
    "fev_results = []\n",
    "\n",
    "logger.progress(\"Running regressions: VGG19 Feats => PC1 Neural Data\")\n",
    "for layer, feats in vgg19_feats.items():\n",
    "    logger.progress(f\"VGG19 {layer}\")\n",
    "    \n",
    "    for n_pcs in [None, 10, 20, 50, 100, 200, 300, 400, 500]:\n",
    "        predictor = NeuralResponsePredictor(reduce_image_representation_to_n_pcs=n_pcs, neural_data_pc_index=0)\n",
    "        r_squared = predictor.compute_r_squared(feats, neural_responses)\n",
    "        fev = predictor.compute_fev(feats, neural_responses)\n",
    "\n",
    "        fev_results.append({\n",
    "            'layer': layer,\n",
    "            'n_pcs': n_pcs,\n",
    "            'test_r2': r_squared['test_r2'],\n",
    "            'mean_fev': fev['mean_fev']\n",
    "        })\n",
    "\n",
    "logger.success(f\"Regressions complete\")"
   ]
  },
  {
   "cell_type": "code",
   "execution_count": null,
   "id": "dceacf6c",
   "metadata": {},
   "outputs": [],
   "source": [
    "write_json_file(fev_results, f'./prediction.json')"
   ]
  },
  {
   "cell_type": "code",
   "execution_count": null,
   "id": "a9e59a56",
   "metadata": {},
   "outputs": [],
   "source": [
    "fev_results_df = pd.DataFrame(fev_results)\n",
    "fev_results_df.head(12)"
   ]
  },
  {
   "cell_type": "code",
   "execution_count": null,
   "id": "2ac0bf65",
   "metadata": {},
   "outputs": [],
   "source": [
    "plt.figure(figsize=(10, 6))\n",
    "\n",
    "for layer in fev_results_df['layer'].unique():\n",
    "    layer_results = fev_results_df[fev_results_df['layer'] == layer]\n",
    "    plt.plot(layer_results['n_pcs'], layer_results['mean_fev'], marker='o', color=vgg19_colours[layer], label=layer)\n",
    "\n",
    "plt.xlabel('Number of Principal Components')\n",
    "plt.ylabel('Mean FEV')\n",
    "plt.title('Mean FEV vs Number of PCs for VGG19 Layers')\n",
    "plt.legend(title='Layer')\n",
    "plt.grid(True)\n",
    "plt.tight_layout()\n",
    "plt.show()"
   ]
  },
  {
   "cell_type": "code",
   "execution_count": null,
   "id": "bb6a2323",
   "metadata": {},
   "outputs": [],
   "source": [
    "best_fev_per_layer = fev_results_df.loc[fev_results_df.groupby(\"layer\")[\"mean_fev\"].idxmax()]\n",
    "best_fev_per_layer"
   ]
  },
  {
   "cell_type": "code",
   "execution_count": null,
   "id": "a7e62384",
   "metadata": {},
   "outputs": [],
   "source": [
    "desired_order = vgg19_feats.keys()\n",
    "best_fev_per_layer = best_fev_per_layer.set_index(\"layer\").loc[desired_order].reset_index()\n",
    "layers = [row[\"layer\"] for _, row in best_fev_per_layer.iterrows()]\n",
    "mean_fevs = [row[\"mean_fev\"] for _, row in best_fev_per_layer.iterrows()]\n",
    "\n",
    "colors = [vgg19_colours[layer] for layer in layers]\n",
    "\n",
    "plt.figure(figsize=(8, 5))\n",
    "plt.bar(layers, mean_fevs, color=colors)\n",
    "plt.ylabel(\"Mean FEV\")\n",
    "plt.xlabel(\"VGG19 Layer\")\n",
    "plt.title(\"Raw Neural Data: Mean FEV per Layer\")\n",
    "plt.xticks(rotation=45)\n",
    "plt.tight_layout()\n",
    "plt.show()"
   ]
  }
 ],
 "metadata": {
  "kernelspec": {
   "display_name": "myenv",
   "language": "python",
   "name": "python3"
  },
  "language_info": {
   "codemirror_mode": {
    "name": "ipython",
    "version": 3
   },
   "file_extension": ".py",
   "mimetype": "text/x-python",
   "name": "python",
   "nbconvert_exporter": "python",
   "pygments_lexer": "ipython3",
   "version": "3.11.4"
  }
 },
 "nbformat": 4,
 "nbformat_minor": 5
}
