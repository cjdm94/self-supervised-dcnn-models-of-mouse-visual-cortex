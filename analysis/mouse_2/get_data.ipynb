{
 "cells": [
  {
   "cell_type": "code",
   "execution_count": null,
   "id": "5b79a6a6",
   "metadata": {},
   "outputs": [
    {
     "name": "stdout",
     "output_type": "stream",
     "text": [
      "[ref mouse], resps shape: (1573, 2, 15363), stims shape: (1573,)\n",
      "[natimg-data-M01-D2], resps shape: (3445, 17842), stims shape: (3445,)\n",
      "[natimg-data-M02-D3], resps shape: (3445, 20387), stims shape: (3445,)\n",
      "[natimg-data-M03-D4], resps shape: (3445, 15363), stims shape: (3445,)\n"
     ]
    }
   ],
   "source": [
    "import pickle\n",
    "import numpy as np\n",
    "import os\n",
    "\n",
    "ref_resps = np.load('../../data/neural/imresps.npy')\n",
    "ref_stims = np.load('../../data/neural/stimids.npy')\n",
    "\n",
    "print(f'[ref mouse], resps shape: {ref_resps.shape}, stims shape: {ref_stims.shape}')\n",
    "\n",
    "other_resps = {}\n",
    "other_stims = {}\n",
    "\n",
    "for mouse_id in ['m01-d2', 'm02-d3', 'm03-d4']:\n",
    "    with open(f'../../data/natimg-data-{mouse_id.upper()}.pickle', 'rb') as f:\n",
    "        data = pickle.load(f)\n",
    "    imresps = data['resps']\n",
    "    stimids = data['stims']\n",
    "    other_resps[mouse_id] = imresps\n",
    "    other_stims[mouse_id] = stimids\n",
    "    print(f'[natimg-data-{mouse_id.upper()}], resps shape: {imresps.shape}, stims shape: {stimids.shape}')\n",
    "\n",
    "# Ref mouse is m03-d4, both have 15363 neurons, but different number of images, because ref has been filtered and reshaped to account for repeated images"
   ]
  },
  {
   "cell_type": "code",
   "execution_count": null,
   "id": "988744e3",
   "metadata": {},
   "outputs": [
    {
     "name": "stdout",
     "output_type": "stream",
     "text": [
      "(1585,)\n",
      "Extra image IDs in m03-d4 but not in ref set: [  42.   43.   96.  251.  508.  783.  876.  972. 1171. 1218. 1380. 1587.]\n",
      "Stim ID 42.0: trial indices [1366 3402], shapes [(15363,), (15363,)]\n",
      "Stim ID 43.0: trial indices [1369 3153], shapes [(15363,), (15363,)]\n",
      "Stim ID 96.0: trial indices [1363 2509], shapes [(15363,), (15363,)]\n",
      "Stim ID 251.0: trial indices [1370 2369], shapes [(15363,), (15363,)]\n",
      "Stim ID 508.0: trial indices [1374 2497], shapes [(15363,), (15363,)]\n",
      "Stim ID 783.0: trial indices [1365 2187], shapes [(15363,), (15363,)]\n",
      "Stim ID 876.0: trial indices [1372 2284], shapes [(15363,), (15363,)]\n",
      "Stim ID 972.0: trial indices [1361 3235], shapes [(15363,), (15363,)]\n",
      "Stim ID 1171.0: trial indices [1362 2352], shapes [(15363,), (15363,)]\n",
      "Stim ID 1218.0: trial indices [1368 2647], shapes [(15363,), (15363,)]\n",
      "Stim ID 1380.0: trial indices [1371 3120], shapes [(15363,), (15363,)]\n",
      "Stim ID 1587.0: trial indices [1373 2194], shapes [(15363,), (15363,)]\n",
      "(1573, 2, 15363)\n",
      "True\n",
      "Same shape? True\n",
      "Same values (within tolerance)? False\n",
      "Mean neuron-wise Spearman correlation: 0.667\n"
     ]
    }
   ],
   "source": [
    "ref_ids = np.unique(ref_stims)\n",
    "stims = other_stims['m03-d4']\n",
    "resps = other_resps['m03-d4']\n",
    "\n",
    "# Find stimulus IDs with exactly 2 repeats *and* present in the ref set\n",
    "unique, counts = np.unique(stims, return_counts=True)\n",
    "valid_stims = unique[(counts == 2)]\n",
    "\n",
    "print(valid_stims.shape)  # Should be (1573,)\n",
    "\n",
    "# Print which stims are missing from ref\n",
    "extra_ids = np.setdiff1d(valid_stims, ref_ids)\n",
    "print(\"Extra image IDs in m03-d4 but not in ref set:\", extra_ids)\n",
    "\n",
    "# Print out some example values for same images \n",
    "missing = np.setdiff1d(valid_stims, ref_ids)\n",
    "\n",
    "for stim in missing:\n",
    "    idxs = np.where(other_stims['m03-d4'] == stim)[0]\n",
    "    print(f\"Stim ID {stim}: trial indices {idxs}, shapes {[other_resps['m03-d4'][i].shape for i in idxs]}\")\n",
    "\n",
    "# Remove those extra ones\n",
    "valid_stims = unique[(counts == 2) & np.isin(unique, ref_ids)]\n",
    "\n",
    "# Reconstruct (n_images, 2, n_neurons)\n",
    "reshaped_resps = []\n",
    "for stim in valid_stims:\n",
    "    indices = np.where(stims == stim)[0]\n",
    "    indices = sorted(indices)\n",
    "    reshaped_resps.append(resps[indices])\n",
    "\n",
    "reshaped_resps = np.stack(reshaped_resps)\n",
    "print(reshaped_resps.shape)  # Should now be (1573, 2, 15363)\n",
    "\n",
    "# Check contents of rehhaped_resps is same as ref_resps\n",
    "# Get stimulus IDs in order from reshaped_resps\n",
    "reshaped_ids = sorted([stim for stim in valid_stims if stim in ref_ids])\n",
    "ref_ids_sorted = ref_stims[:len(reshaped_ids)]  # assuming ref_stims is ordered\n",
    "\n",
    "# Check if the IDs match in order\n",
    "print(np.array_equal(ref_ids_sorted, reshaped_ids))  # Should be True\n",
    "\n",
    "# Check contents match\n",
    "same_shape = ref_resps.shape == reshaped_resps.shape\n",
    "same_values = np.allclose(ref_resps, reshaped_resps)\n",
    "\n",
    "print(f\"Same shape? {same_shape}\")\n",
    "print(f\"Same values (within tolerance)? {same_values}\")\n",
    "\n",
    "# Flatten both arrays across repeats and stimuli\n",
    "ref_flat = ref_resps.reshape(-1, ref_resps.shape[-1])\n",
    "new_flat = reshaped_resps.reshape(-1, reshaped_resps.shape[-1])"
   ]
  },
  {
   "cell_type": "code",
   "execution_count": 80,
   "id": "a85bd2c9",
   "metadata": {},
   "outputs": [
    {
     "name": "stdout",
     "output_type": "stream",
     "text": [
      "Mean neuron-wise Spearman correlation: 0.667\n",
      "Mean of per-neuron means (ref vs new): 0.3331099231207367 0.026415929451672003\n",
      "Mean of per-neuron stds (ref vs new): 0.6021887032253692 0.45298689256960945\n"
     ]
    }
   ],
   "source": [
    "# Correlate across neurons\n",
    "from scipy.stats import spearmanr\n",
    "corrs = [spearmanr(ref_flat[:, i], new_flat[:, i]).correlation for i in range(ref_flat.shape[1])]\n",
    "print(f\"Mean neuron-wise Spearman correlation: {np.mean(corrs):.3f}\")\n",
    "\n",
    "# Per-neuron mean and std before and after\n",
    "ref_mean = ref_resps.mean(axis=(0, 1))\n",
    "new_mean = reshaped_resps.mean(axis=(0, 1))\n",
    "print(\"Mean of per-neuron means (ref vs new):\", ref_mean.mean(), new_mean.mean())\n",
    "\n",
    "ref_std = ref_resps.std(axis=(0, 1))\n",
    "new_std = reshaped_resps.std(axis=(0, 1))\n",
    "print(\"Mean of per-neuron stds (ref vs new):\", ref_std.mean(), new_std.mean())"
   ]
  },
  {
   "cell_type": "code",
   "execution_count": null,
   "id": "032faa55",
   "metadata": {},
   "outputs": [
    {
     "name": "stdout",
     "output_type": "stream",
     "text": [
      "Same shape? True\n",
      "Same values (within tolerance)? False\n",
      "Neuron 0:\n",
      "Ref mouse response: [0. 0.]\n",
      "Other mouse response: [-0.2487094  -0.69744443]\n",
      "\n",
      "Neuron 1:\n",
      "Ref mouse response: [0.03512369 0.35232964]\n",
      "Other mouse response: [-0.45895129  1.64350555]\n",
      "\n",
      "Neuron 2:\n",
      "Ref mouse response: [0. 0.]\n",
      "Other mouse response: [-0.36489253 -0.68108141]\n",
      "\n",
      "Neuron 3:\n",
      "Ref mouse response: [0.07362656 0.96354928]\n",
      "Other mouse response: [-0.27635827  0.32450405]\n",
      "\n",
      "Neuron 4:\n",
      "Ref mouse response: [2.89037304 0.        ]\n",
      "Other mouse response: [ 2.67573886 -0.29235265]\n",
      "\n"
     ]
    }
   ],
   "source": [
    "reshaped_resps /= reshaped_resps.std(axis=(0, 1), keepdims=True)\n",
    "\n",
    "# Check contents match\n",
    "same_shape = ref_resps.shape == reshaped_resps.shape\n",
    "same_values = np.allclose(ref_resps, reshaped_resps)\n",
    "\n",
    "print(f\"Same shape? {same_shape}\")\n",
    "print(f\"Same values (within tolerance)? {same_values}\")"
   ]
  },
  {
   "cell_type": "code",
   "execution_count": null,
   "id": "5e99a5d9",
   "metadata": {},
   "outputs": [
    {
     "name": "stdout",
     "output_type": "stream",
     "text": [
      "Stim 42: NaNs? False, Infs? False, Means: (-0.20, 0.00)\n",
      "Stim 43: NaNs? False, Infs? False, Means: (-0.20, 0.01)\n",
      "Stim 96: NaNs? False, Infs? False, Means: (-0.20, -0.02)\n",
      "Stim 251: NaNs? False, Infs? False, Means: (-0.20, 0.07)\n",
      "Stim 508: NaNs? False, Infs? False, Means: (-0.20, 0.01)\n",
      "Stim 783: NaNs? False, Infs? False, Means: (-0.20, -0.02)\n",
      "Stim 876: NaNs? False, Infs? False, Means: (-0.20, 0.09)\n",
      "Stim 972: NaNs? False, Infs? False, Means: (-0.20, -0.01)\n",
      "Stim 1171: NaNs? False, Infs? False, Means: (-0.20, 0.02)\n",
      "Stim 1218: NaNs? False, Infs? False, Means: (-0.20, 0.00)\n",
      "Stim 1380: NaNs? False, Infs? False, Means: (-0.20, -0.05)\n",
      "Stim 1587: NaNs? False, Infs? False, Means: (-0.20, 0.07)\n",
      "Sampled included stimuli:\n",
      "Stim 39: NaNs? False, Infs? False, Means: (0.07, -0.01)\n",
      "Stim 401: NaNs? False, Infs? False, Means: (0.04, -0.02)\n",
      "Stim 1496: NaNs? False, Infs? False, Means: (0.03, 0.08)\n",
      "Stim 1812: NaNs? False, Infs? False, Means: (0.05, 0.01)\n",
      "Stim 859: NaNs? False, Infs? False, Means: (0.01, 0.04)\n"
     ]
    }
   ],
   "source": [
    "import numpy as np\n",
    "\n",
    "stims = other_stims['m03-d4']\n",
    "resps = other_resps['m03-d4']\n",
    "missing = [42.0, 43.0, 96.0, 251.0, 508.0, 783.0, 876.0, 972.0, 1171.0, 1218.0, 1380.0, 1587.0]\n",
    "\n",
    "for stim in missing:\n",
    "    idxs = np.where(stims == stim)[0]\n",
    "    r1, r2 = resps[idxs[0]], resps[idxs[1]]\n",
    "    nan1, nan2 = np.isnan(r1).any(), np.isnan(r2).any()\n",
    "    inf1, inf2 = np.isinf(r1).any(), np.isinf(r2).any()\n",
    "    mean1, mean2 = np.mean(r1), np.mean(r2)\n",
    "    print(f\"Stim {stim:.0f}: NaNs? {nan1 or nan2}, Infs? {inf1 or inf2}, Means: ({mean1:.2f}, {mean2:.2f})\")"
   ]
  },
  {
   "cell_type": "code",
   "execution_count": 76,
   "id": "e17d65df",
   "metadata": {},
   "outputs": [
    {
     "name": "stdout",
     "output_type": "stream",
     "text": [
      "Sampled included stimuli:\n",
      "Stim 1607: NaNs? False, Infs? False, Means: (-0.03, 0.00)\n",
      "Stim 1103: NaNs? False, Infs? False, Means: (0.07, 0.04)\n",
      "Stim 1132: NaNs? False, Infs? False, Means: (0.02, -0.01)\n",
      "Stim 1036: NaNs? False, Infs? False, Means: (0.06, -0.02)\n",
      "Stim 1439: NaNs? False, Infs? False, Means: (0.02, -0.05)\n"
     ]
    }
   ],
   "source": [
    "import numpy as np\n",
    "\n",
    "# Get all valid stimulus IDs that are included in the ref set\n",
    "ref_ids = np.unique(ref_stims)\n",
    "included_ids = [stim for stim in valid_stims if stim in ref_ids and stim not in [42.0, 43.0, 96.0, 251.0, 508.0, 783.0, 876.0, 972.0, 1171.0, 1218.0, 1380.0, 1587.0]]\n",
    "\n",
    "# Randomly select 5 included stim IDs\n",
    "# np.random.seed(0)  # for reproducibility\n",
    "sampled_ids = np.random.choice(included_ids, size=5, replace=False)\n",
    "\n",
    "# Print same stats for comparison\n",
    "print(\"Sampled included stimuli:\")\n",
    "for stim in sampled_ids:\n",
    "    idxs = np.where(stims == stim)[0]\n",
    "    r1, r2 = resps[idxs[0]], resps[idxs[1]]\n",
    "    nan1, nan2 = np.isnan(r1).any(), np.isnan(r2).any()\n",
    "    inf1, inf2 = np.isinf(r1).any(), np.isinf(r2).any()\n",
    "    mean1, mean2 = np.mean(r1), np.mean(r2)\n",
    "    print(f\"Stim {stim:.0f}: NaNs? {nan1 or nan2}, Infs? {inf1 or inf2}, Means: ({mean1:.2f}, {mean2:.2f})\")"
   ]
  },
  {
   "cell_type": "code",
   "execution_count": 78,
   "id": "5e138638",
   "metadata": {},
   "outputs": [
    {
     "name": "stdout",
     "output_type": "stream",
     "text": [
      "Stims for m01-d2 contains all ref stims: False\n",
      "Stims for m02-d3 contains all ref stims: True\n",
      "Stims for m03-d4 contains all ref stims: True\n"
     ]
    }
   ],
   "source": [
    "for mouse_id, stims in other_stims.items():\n",
    "    print(f'Stims for {mouse_id} contains all ref stims: {np.all(np.isin(ref_stims, stims))}')"
   ]
  }
 ],
 "metadata": {
  "kernelspec": {
   "display_name": "myenv",
   "language": "python",
   "name": "python3"
  },
  "language_info": {
   "codemirror_mode": {
    "name": "ipython",
    "version": 3
   },
   "file_extension": ".py",
   "mimetype": "text/x-python",
   "name": "python",
   "nbconvert_exporter": "python",
   "pygments_lexer": "ipython3",
   "version": "3.11.4"
  }
 },
 "nbformat": 4,
 "nbformat_minor": 5
}
