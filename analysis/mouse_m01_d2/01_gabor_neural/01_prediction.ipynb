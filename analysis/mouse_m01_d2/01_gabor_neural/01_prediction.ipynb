{
 "cells": [
  {
   "cell_type": "markdown",
   "id": "126acf28",
   "metadata": {},
   "source": [
    "# Prediction\n",
    "\n",
    "- **Mouse ID**: m01_d2\n",
    "- **Predicting**: Neural data (original dimensionality)\n",
    "- **Predictor**: Features for gabor filter banks of various sizes (reduced to various numbers of PCs)\n",
    "- **Plotting**: Gabor filter bank mean FEV vs. number of feats PCs used (line)\n",
    "- **Plotting**: Gabor filter bank mean FEV for each gabor, with best performing number of PCs (bar)"
   ]
  },
  {
   "cell_type": "code",
   "execution_count": 1,
   "id": "85abfc5c",
   "metadata": {},
   "outputs": [],
   "source": [
    "from cortexlib.utils import file as futils\n",
    "from cortexlib.mouse import CortexlabMouse\n",
    "from cortexlib.images import CortexlabImages\n",
    "from cortexlib.gabor import GaborFeatureExtractor\n",
    "from cortexlib.predictor import NeuralResponsePredictor\n",
    "from cortexlib.utils.plotting import gabor_filter_colours\n",
    "from cortexlib.utils.random import set_global_seed\n",
    "from cortexlib.utils.logging import Logger\n",
    "from torch.utils.data import DataLoader\n",
    "from matplotlib import pyplot as plt\n",
    "import pandas as pd\n",
    "from pathlib import Path\n",
    "\n",
    "logger = Logger()\n",
    "set_global_seed()\n",
    "\n",
    "IMAGE_SIZE=(96, 96)\n",
    "notebook_dir = Path(\".\").resolve().parent"
   ]
  },
  {
   "cell_type": "code",
   "execution_count": 2,
   "id": "0835b5a8",
   "metadata": {},
   "outputs": [
    {
     "name": "stderr",
     "output_type": "stream",
     "text": [
      "\u001b[1;37m15:38:05 | INFO     | ℹ️ This notebook is running for mouse m01_d2\u001b[0m\n"
     ]
    }
   ],
   "source": [
    "MOUSE_ID = futils.get_mouse_id()\n",
    "logger.info(f\"This notebook is running for mouse {MOUSE_ID}\")"
   ]
  },
  {
   "cell_type": "code",
   "execution_count": 3,
   "id": "ca9dd6ce",
   "metadata": {},
   "outputs": [
    {
     "name": "stderr",
     "output_type": "stream",
     "text": [
      "\u001b[1;37m15:38:05 | INFO     | ⏳ Computing null distributions for all neurons in mouse m01_d2...\u001b[0m\n",
      "\u001b[1;32m15:38:30 | SUCCESS  | ✅ Null distributions computed!\u001b[0m\n",
      "\u001b[1;37m15:38:30 | INFO     | ℹ️ Neural responses shape: (1380, 2, 500)\u001b[0m\n"
     ]
    }
   ],
   "source": [
    "mouse = CortexlabMouse(mouse_id=MOUSE_ID)\n",
    "\n",
    "logger.progress(f\"Computing null distributions for all neurons in mouse {mouse.id}\")\n",
    "null_srv_all_neurons = mouse.compute_null_all_neurons(n_shuffles=100)\n",
    "logger.success(f\"Null distributions computed\")\n",
    "\n",
    "real_srv_all_neurons = mouse.compute_real_srv_all_neurons()\n",
    "reliable_neuron_indices = mouse.get_reliable_neuron_indices(\n",
    "            null_srv_all_neurons, real_srv_all_neurons, percentile_threshold=99)\n",
    "neural_responses_mean, neural_responses, _ = mouse.get_responses_for_reliable_neurons(reliable_neuron_indices, real_srv_all_neurons, num_neurons=500)\n",
    "\n",
    "logger.info(f\"Neural responses shape: {neural_responses.shape}\")"
   ]
  },
  {
   "cell_type": "code",
   "execution_count": 4,
   "id": "9f2f3311",
   "metadata": {},
   "outputs": [
    {
     "name": "stderr",
     "output_type": "stream",
     "text": [
      "\u001b[1;37m15:38:30 | INFO     | ℹ️ Skipping save, file already exists at /Users/callummessiter/workspace/msc-neuro/research-project/analysis/mouse_m01_d2/_neural_data/neural_data_mouse_m01_d2.pt\u001b[0m\n"
     ]
    }
   ],
   "source": [
    "futils.save_filtered_neural_data(\n",
    "    mouse_id=mouse.id,\n",
    "    neural_responses=neural_responses,\n",
    "    neural_responses_mean=neural_responses_mean)"
   ]
  },
  {
   "cell_type": "code",
   "execution_count": 5,
   "id": "11029601",
   "metadata": {},
   "outputs": [
    {
     "name": "stderr",
     "output_type": "stream",
     "text": [
      "\u001b[1;37m15:38:30 | INFO     | ⏳ Loading and preprocessing images shown to mouse...\u001b[0m\n",
      "\u001b[1;32m15:38:42 | SUCCESS  | ✅ Images processed!\u001b[0m\n"
     ]
    }
   ],
   "source": [
    "# Gabor filters are grayscale so require only one channel\n",
    "images = CortexlabImages(size=IMAGE_SIZE, channels=1)\n",
    "\n",
    "logger.progress(\"Loading and preprocessing images shown to mouse\")\n",
    "image_dataset = images.load_images_shown_to_mouse(mouse.image_ids)\n",
    "logger.success(\"Images processed\")\n",
    "\n",
    "dataloader = DataLoader(image_dataset, batch_size=len(image_dataset))\n",
    "images_tensor, labels = next(iter(dataloader))"
   ]
  },
  {
   "cell_type": "code",
   "execution_count": 6,
   "id": "5c8f457c",
   "metadata": {},
   "outputs": [
    {
     "name": "stderr",
     "output_type": "stream",
     "text": [
      "\u001b[1;37m15:38:42 | INFO     | ⏳ Extracting Gabor features from images...\u001b[0m\n",
      "\u001b[1;32m15:39:05 | SUCCESS  | ✅ Gabor features extracted!\u001b[0m\n"
     ]
    }
   ],
   "source": [
    "gabor_feature_extractor = GaborFeatureExtractor()\n",
    "\n",
    "logger.progress(\"Extracting Gabor features from images\")\n",
    "gabor_features = gabor_feature_extractor.extract_features(images_tensor)\n",
    "logger.success(\"Gabor features extracted\")"
   ]
  },
  {
   "cell_type": "code",
   "execution_count": 7,
   "id": "c6784989",
   "metadata": {},
   "outputs": [
    {
     "name": "stderr",
     "output_type": "stream",
     "text": [
      "\u001b[1;37m15:39:05 | INFO     | ℹ️ Saving model features to /Users/callummessiter/workspace/msc-neuro/research-project/analysis/mouse_m01_d2/_model_features/gabor_features_mouse_m01_d2.pt\u001b[0m\n",
      "\u001b[1;32m15:39:05 | SUCCESS  | ✅ Model features saved!\u001b[0m\n"
     ]
    }
   ],
   "source": [
    "futils.save_model_features(model=futils.Model.GABOR, mouse_id=mouse.id, features=gabor_features, labels=labels)"
   ]
  },
  {
   "cell_type": "code",
   "execution_count": 8,
   "id": "8724c484",
   "metadata": {},
   "outputs": [
    {
     "name": "stderr",
     "output_type": "stream",
     "text": [
      "\u001b[1;37m15:39:05 | INFO     | ⏳ Computing test/train split for regression: Gabor Feats => Neural Data...\u001b[0m\n",
      "\u001b[1;32m15:39:05 | SUCCESS  | ✅ Computed train/test split!\u001b[0m\n"
     ]
    }
   ],
   "source": [
    "# Compute test-train split indexes just once - and apply both to all layers\n",
    "logger.progress(\"Computing test/train split for regression: Gabor Feats => Neural Data\")\n",
    "\n",
    "num_images = gabor_features['gabor_small'].shape[0]\n",
    "split = NeuralResponsePredictor.get_train_test_indexes(num_images)\n",
    "logger.success(f\"Computed train/test split\")"
   ]
  },
  {
   "cell_type": "code",
   "execution_count": 9,
   "id": "498df607",
   "metadata": {},
   "outputs": [
    {
     "name": "stderr",
     "output_type": "stream",
     "text": [
      "\u001b[1;37m15:39:05 | INFO     | ⏳ Running regressions: Gabor Feats => Neural Data...\u001b[0m\n",
      "\u001b[1;37m15:39:05 | INFO     | ⏳ Gabor gabor_small...\u001b[0m\n",
      "\u001b[1;37m15:39:08 | INFO     | ⏳ Gabor gabor_medium...\u001b[0m\n",
      "\u001b[1;37m15:39:10 | INFO     | ⏳ Gabor gabor_large...\u001b[0m\n",
      "\u001b[1;32m15:39:13 | SUCCESS  | ✅ Regressions complete!\u001b[0m\n"
     ]
    }
   ],
   "source": [
    "fev_results = []\n",
    "\n",
    "logger.progress(\"Running regressions: Gabor Feats => Neural Data\")\n",
    "for filter, feats in gabor_features.items():\n",
    "    logger.progress(f\"Gabor {filter}\")\n",
    "\n",
    "    for n_pcs in [None, 1, 2, 5, 10, 16]:\n",
    "        predictor = NeuralResponsePredictor(\n",
    "            reduce_image_representation_to_n_pcs=n_pcs,\n",
    "            train_idx=split['train_idx'],\n",
    "            test_idx=split['test_idx'],\n",
    "        )\n",
    "        fev = predictor.compute_fev(feats, neural_responses)\n",
    "\n",
    "        fev_results.append({\n",
    "            'filter': filter,\n",
    "            'n_pcs': n_pcs,\n",
    "            'test_r2': fev['test_r2'],\n",
    "            'mean_fev': fev['mean_fev'],\n",
    "        })\n",
    "\n",
    "logger.success(f\"Regressions complete\")"
   ]
  },
  {
   "cell_type": "code",
   "execution_count": 10,
   "id": "8aadfd13",
   "metadata": {},
   "outputs": [],
   "source": [
    "futils.write_json_file(fev_results, f'prediction.json')"
   ]
  },
  {
   "cell_type": "code",
   "execution_count": 11,
   "id": "d50245b4",
   "metadata": {},
   "outputs": [
    {
     "data": {
      "text/html": [
       "<div>\n",
       "<style scoped>\n",
       "    .dataframe tbody tr th:only-of-type {\n",
       "        vertical-align: middle;\n",
       "    }\n",
       "\n",
       "    .dataframe tbody tr th {\n",
       "        vertical-align: top;\n",
       "    }\n",
       "\n",
       "    .dataframe thead th {\n",
       "        text-align: right;\n",
       "    }\n",
       "</style>\n",
       "<table border=\"1\" class=\"dataframe\">\n",
       "  <thead>\n",
       "    <tr style=\"text-align: right;\">\n",
       "      <th></th>\n",
       "      <th>filter</th>\n",
       "      <th>n_pcs</th>\n",
       "      <th>test_r2</th>\n",
       "      <th>mean_fev</th>\n",
       "    </tr>\n",
       "  </thead>\n",
       "  <tbody>\n",
       "    <tr>\n",
       "      <th>0</th>\n",
       "      <td>gabor_small</td>\n",
       "      <td>NaN</td>\n",
       "      <td>-0.006027</td>\n",
       "      <td>0.023992</td>\n",
       "    </tr>\n",
       "    <tr>\n",
       "      <th>1</th>\n",
       "      <td>gabor_small</td>\n",
       "      <td>1.0</td>\n",
       "      <td>-0.006027</td>\n",
       "      <td>0.023992</td>\n",
       "    </tr>\n",
       "    <tr>\n",
       "      <th>2</th>\n",
       "      <td>gabor_small</td>\n",
       "      <td>2.0</td>\n",
       "      <td>-0.006027</td>\n",
       "      <td>0.023992</td>\n",
       "    </tr>\n",
       "    <tr>\n",
       "      <th>3</th>\n",
       "      <td>gabor_small</td>\n",
       "      <td>5.0</td>\n",
       "      <td>-0.006027</td>\n",
       "      <td>0.023992</td>\n",
       "    </tr>\n",
       "    <tr>\n",
       "      <th>4</th>\n",
       "      <td>gabor_small</td>\n",
       "      <td>10.0</td>\n",
       "      <td>-0.006027</td>\n",
       "      <td>0.023992</td>\n",
       "    </tr>\n",
       "    <tr>\n",
       "      <th>5</th>\n",
       "      <td>gabor_small</td>\n",
       "      <td>16.0</td>\n",
       "      <td>-0.006027</td>\n",
       "      <td>0.023992</td>\n",
       "    </tr>\n",
       "    <tr>\n",
       "      <th>6</th>\n",
       "      <td>gabor_medium</td>\n",
       "      <td>NaN</td>\n",
       "      <td>-0.006085</td>\n",
       "      <td>0.023859</td>\n",
       "    </tr>\n",
       "    <tr>\n",
       "      <th>7</th>\n",
       "      <td>gabor_medium</td>\n",
       "      <td>1.0</td>\n",
       "      <td>-0.006085</td>\n",
       "      <td>0.023857</td>\n",
       "    </tr>\n",
       "    <tr>\n",
       "      <th>8</th>\n",
       "      <td>gabor_medium</td>\n",
       "      <td>2.0</td>\n",
       "      <td>-0.006085</td>\n",
       "      <td>0.023859</td>\n",
       "    </tr>\n",
       "    <tr>\n",
       "      <th>9</th>\n",
       "      <td>gabor_medium</td>\n",
       "      <td>5.0</td>\n",
       "      <td>-0.006085</td>\n",
       "      <td>0.023859</td>\n",
       "    </tr>\n",
       "    <tr>\n",
       "      <th>10</th>\n",
       "      <td>gabor_medium</td>\n",
       "      <td>10.0</td>\n",
       "      <td>-0.006085</td>\n",
       "      <td>0.023859</td>\n",
       "    </tr>\n",
       "    <tr>\n",
       "      <th>11</th>\n",
       "      <td>gabor_medium</td>\n",
       "      <td>16.0</td>\n",
       "      <td>-0.006085</td>\n",
       "      <td>0.023859</td>\n",
       "    </tr>\n",
       "  </tbody>\n",
       "</table>\n",
       "</div>"
      ],
      "text/plain": [
       "          filter  n_pcs   test_r2  mean_fev\n",
       "0    gabor_small    NaN -0.006027  0.023992\n",
       "1    gabor_small    1.0 -0.006027  0.023992\n",
       "2    gabor_small    2.0 -0.006027  0.023992\n",
       "3    gabor_small    5.0 -0.006027  0.023992\n",
       "4    gabor_small   10.0 -0.006027  0.023992\n",
       "5    gabor_small   16.0 -0.006027  0.023992\n",
       "6   gabor_medium    NaN -0.006085  0.023859\n",
       "7   gabor_medium    1.0 -0.006085  0.023857\n",
       "8   gabor_medium    2.0 -0.006085  0.023859\n",
       "9   gabor_medium    5.0 -0.006085  0.023859\n",
       "10  gabor_medium   10.0 -0.006085  0.023859\n",
       "11  gabor_medium   16.0 -0.006085  0.023859"
      ]
     },
     "execution_count": 11,
     "metadata": {},
     "output_type": "execute_result"
    }
   ],
   "source": [
    "fev_results_df = pd.DataFrame(fev_results)\n",
    "fev_results_df.head(12)"
   ]
  },
  {
   "cell_type": "code",
   "execution_count": 12,
   "id": "8fa246cb",
   "metadata": {},
   "outputs": [
    {
     "data": {
      "image/png": "[encoded data removed]",
      "text/plain": [
       "<Figure size 1000x600 with 1 Axes>"
      ]
     },
     "metadata": {},
     "output_type": "display_data"
    }
   ],
   "source": [
    "plt.figure(figsize=(10, 6))\n",
    "\n",
    "for filter in fev_results_df['filter'].unique():\n",
    "    filter_results = fev_results_df[fev_results_df['filter'] == filter]\n",
    "    plt.plot(filter_results['n_pcs'], filter_results['mean_fev'], marker='o', color=gabor_filter_colours[filter], label=filter)\n",
    "\n",
    "plt.xlabel('Number of Principal Components')\n",
    "plt.ylabel('Mean FEV')\n",
    "plt.title('Mean FEV vs Number of PCs for Gabor Filters')\n",
    "plt.legend(title='Filter')\n",
    "plt.grid(True)\n",
    "plt.tight_layout()\n",
    "plt.show()"
   ]
  },
  {
   "cell_type": "code",
   "execution_count": 13,
   "id": "9fc4dd28",
   "metadata": {},
   "outputs": [
    {
     "data": {
      "text/html": [
       "<div>\n",
       "<style scoped>\n",
       "    .dataframe tbody tr th:only-of-type {\n",
       "        vertical-align: middle;\n",
       "    }\n",
       "\n",
       "    .dataframe tbody tr th {\n",
       "        vertical-align: top;\n",
       "    }\n",
       "\n",
       "    .dataframe thead th {\n",
       "        text-align: right;\n",
       "    }\n",
       "</style>\n",
       "<table border=\"1\" class=\"dataframe\">\n",
       "  <thead>\n",
       "    <tr style=\"text-align: right;\">\n",
       "      <th></th>\n",
       "      <th>filter</th>\n",
       "      <th>n_pcs</th>\n",
       "      <th>test_r2</th>\n",
       "      <th>mean_fev</th>\n",
       "    </tr>\n",
       "  </thead>\n",
       "  <tbody>\n",
       "    <tr>\n",
       "      <th>14</th>\n",
       "      <td>gabor_large</td>\n",
       "      <td>2.0</td>\n",
       "      <td>-0.006064</td>\n",
       "      <td>0.023882</td>\n",
       "    </tr>\n",
       "    <tr>\n",
       "      <th>8</th>\n",
       "      <td>gabor_medium</td>\n",
       "      <td>2.0</td>\n",
       "      <td>-0.006085</td>\n",
       "      <td>0.023859</td>\n",
       "    </tr>\n",
       "    <tr>\n",
       "      <th>2</th>\n",
       "      <td>gabor_small</td>\n",
       "      <td>2.0</td>\n",
       "      <td>-0.006027</td>\n",
       "      <td>0.023992</td>\n",
       "    </tr>\n",
       "  </tbody>\n",
       "</table>\n",
       "</div>"
      ],
      "text/plain": [
       "          filter  n_pcs   test_r2  mean_fev\n",
       "14   gabor_large    2.0 -0.006064  0.023882\n",
       "8   gabor_medium    2.0 -0.006085  0.023859\n",
       "2    gabor_small    2.0 -0.006027  0.023992"
      ]
     },
     "execution_count": 13,
     "metadata": {},
     "output_type": "execute_result"
    }
   ],
   "source": [
    "best_fev_per_gabor = fev_results_df.loc[fev_results_df.groupby(\"filter\")[\"mean_fev\"].idxmax()]\n",
    "best_fev_per_gabor"
   ]
  },
  {
   "cell_type": "code",
   "execution_count": 14,
   "id": "1bc95611",
   "metadata": {},
   "outputs": [
    {
     "data": {
      "image/png": "[encoded data removed]",
      "text/plain": [
       "<Figure size 800x500 with 1 Axes>"
      ]
     },
     "metadata": {},
     "output_type": "display_data"
    }
   ],
   "source": [
    "desired_order = [\"gabor_small\", \"gabor_medium\", \"gabor_large\"]\n",
    "best_fev_per_gabor = best_fev_per_gabor.set_index(\"filter\").loc[desired_order].reset_index()\n",
    "gabors = [row[\"filter\"] for _, row in best_fev_per_gabor.iterrows()]\n",
    "mean_fevs = [row[\"mean_fev\"] for _, row in best_fev_per_gabor.iterrows()]\n",
    "\n",
    "colors = [gabor_filter_colours[gabor] for gabor in gabors]\n",
    "\n",
    "plt.figure(figsize=(8, 5))\n",
    "plt.bar(gabors, mean_fevs, color=colors)\n",
    "plt.ylabel(\"Mean FEV\")\n",
    "plt.xlabel(\"Gabor Filter Bank\")\n",
    "plt.title(\"PC1 Neural Data: Mean FEV per Layer\")\n",
    "plt.xticks(rotation=45)\n",
    "plt.tight_layout()\n",
    "plt.show()"
   ]
  }
 ],
 "metadata": {
  "kernelspec": {
   "display_name": "myenv",
   "language": "python",
   "name": "python3"
  },
  "language_info": {
   "codemirror_mode": {
    "name": "ipython",
    "version": 3
   },
   "file_extension": ".py",
   "mimetype": "text/x-python",
   "name": "python",
   "nbconvert_exporter": "python",
   "pygments_lexer": "ipython3",
   "version": "3.11.4"
  }
 },
 "nbformat": 4,
 "nbformat_minor": 5
}
