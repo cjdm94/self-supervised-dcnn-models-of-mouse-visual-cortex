{
 "cells": [
  {
   "cell_type": "markdown",
   "id": "e8434b4e",
   "metadata": {},
   "source": [
    "# FEV vs. Alpha Analysis\n",
    "\n",
    "For each VGG19 layer, this notebook plots **mean FEV** vs. **alpha** (where alpha is the slope of the log–log PCA variance spectrum).\n",
    "\n",
    "- **Mean FEV** is taken from the regression: VGG19 features (reduced to N PCs) → Neural data (original dimensionality)\n",
    "\n",
    "- For each layer, we select the **best FEV** (i.e., highest across PC counts)"
   ]
  },
  {
   "cell_type": "code",
   "execution_count": 1,
   "id": "0e376885",
   "metadata": {},
   "outputs": [],
   "source": [
    "from cortexlib.power_law import PowerLawAlphaEstimator\n",
    "from cortexlib.mouse import CortexlabMouse\n",
    "from cortexlib.utils import file as futils\n",
    "from cortexlib.utils.logging import Logger\n",
    "from cortexlib.utils.random import set_global_seed, GLOBAL_SEED\n",
    "from cortexlib.utils.plotting import vgg19_colours\n",
    "from sklearn.decomposition import PCA\n",
    "from adjustText import adjust_text\n",
    "import matplotlib.pyplot as plt\n",
    "from tqdm.notebook import tqdm\n",
    "import pandas as pd\n",
    "import numpy as np\n",
    "import torch\n",
    "\n",
    "logger = Logger()\n",
    "set_global_seed()"
   ]
  },
  {
   "cell_type": "code",
   "execution_count": 2,
   "id": "6173aaba",
   "metadata": {},
   "outputs": [
    {
     "name": "stderr",
     "output_type": "stream",
     "text": [
      "\u001b[1;37m16:51:46 | INFO     | ℹ️ This notebook is running for mouse m01_d2\u001b[0m\n"
     ]
    }
   ],
   "source": [
    "MOUSE_ID = futils.get_mouse_id()\n",
    "logger.info(f\"This notebook is running for mouse {MOUSE_ID}\")"
   ]
  },
  {
   "cell_type": "code",
   "execution_count": 3,
   "id": "8f4bec27",
   "metadata": {},
   "outputs": [
    {
     "name": "stderr",
     "output_type": "stream",
     "text": [
      "\u001b[1;37m16:51:46 | INFO     | ⏳ Computing null distributions for all neurons in mouse m01_d2...\u001b[0m\n",
      "\u001b[1;32m16:52:12 | SUCCESS  | ✅ Null distributions computed!\u001b[0m\n",
      "\u001b[1;37m16:52:12 | INFO     | ℹ️ Neural responses shape: (1380, 2, 500)\u001b[0m\n"
     ]
    },
    {
     "name": "stdout",
     "output_type": "stream",
     "text": [
      "xmin progress: 99%\r"
     ]
    }
   ],
   "source": [
    "neural_plae = PowerLawAlphaEstimator()\n",
    "mouse = CortexlabMouse(mouse_id=MOUSE_ID)\n",
    "\n",
    "logger.progress(f\"Computing null distributions for all neurons in mouse {mouse.id}\")\n",
    "null_srv_all_neurons = mouse.compute_null_all_neurons(n_shuffles=100)\n",
    "logger.success(f\"Null distributions computed\")\n",
    "\n",
    "real_srv_all_neurons = mouse.compute_real_srv_all_neurons()\n",
    "reliable_neuron_indices = mouse.get_reliable_neuron_indices(\n",
    "            null_srv_all_neurons, real_srv_all_neurons, percentile_threshold=99)\n",
    "neural_responses_mean, neural_responses, _ = mouse.get_responses_for_reliable_neurons(reliable_neuron_indices, real_srv_all_neurons, num_neurons=500)\n",
    "\n",
    "logger.info(f\"Neural responses shape: {neural_responses.shape}\")\n",
    "\n",
    "neural_alpha = neural_plae.compute_alpha(neural_responses_mean)"
   ]
  },
  {
   "cell_type": "code",
   "execution_count": 4,
   "id": "ae679916",
   "metadata": {},
   "outputs": [
    {
     "data": {
      "text/html": [
       "<div>\n",
       "<style scoped>\n",
       "    .dataframe tbody tr th:only-of-type {\n",
       "        vertical-align: middle;\n",
       "    }\n",
       "\n",
       "    .dataframe tbody tr th {\n",
       "        vertical-align: top;\n",
       "    }\n",
       "\n",
       "    .dataframe thead th {\n",
       "        text-align: right;\n",
       "    }\n",
       "</style>\n",
       "<table border=\"1\" class=\"dataframe\">\n",
       "  <thead>\n",
       "    <tr style=\"text-align: right;\">\n",
       "      <th></th>\n",
       "      <th>layer</th>\n",
       "      <th>n_pcs</th>\n",
       "      <th>test_r2</th>\n",
       "      <th>mean_fev</th>\n",
       "    </tr>\n",
       "  </thead>\n",
       "  <tbody>\n",
       "    <tr>\n",
       "      <th>0</th>\n",
       "      <td>conv2_2</td>\n",
       "      <td>NaN</td>\n",
       "      <td>0.021229</td>\n",
       "      <td>0.128841</td>\n",
       "    </tr>\n",
       "    <tr>\n",
       "      <th>5</th>\n",
       "      <td>conv3_4</td>\n",
       "      <td>NaN</td>\n",
       "      <td>0.017866</td>\n",
       "      <td>0.108915</td>\n",
       "    </tr>\n",
       "    <tr>\n",
       "      <th>10</th>\n",
       "      <td>conv4_4</td>\n",
       "      <td>NaN</td>\n",
       "      <td>0.018915</td>\n",
       "      <td>0.128420</td>\n",
       "    </tr>\n",
       "    <tr>\n",
       "      <th>15</th>\n",
       "      <td>conv5_4</td>\n",
       "      <td>NaN</td>\n",
       "      <td>0.012395</td>\n",
       "      <td>0.099506</td>\n",
       "    </tr>\n",
       "    <tr>\n",
       "      <th>20</th>\n",
       "      <td>fc2</td>\n",
       "      <td>NaN</td>\n",
       "      <td>0.009707</td>\n",
       "      <td>0.095504</td>\n",
       "    </tr>\n",
       "  </tbody>\n",
       "</table>\n",
       "</div>"
      ],
      "text/plain": [
       "      layer  n_pcs   test_r2  mean_fev\n",
       "0   conv2_2    NaN  0.021229  0.128841\n",
       "5   conv3_4    NaN  0.017866  0.108915\n",
       "10  conv4_4    NaN  0.018915  0.128420\n",
       "15  conv5_4    NaN  0.012395  0.099506\n",
       "20      fc2    NaN  0.009707  0.095504"
      ]
     },
     "execution_count": 4,
     "metadata": {},
     "output_type": "execute_result"
    }
   ],
   "source": [
    "fev_results = futils.read_json_file_as_dataframe('./prediction.json')\n",
    "best_fev_per_layer = fev_results.loc[fev_results.groupby(\"layer\")[\"mean_fev\"].idxmax()]\n",
    "\n",
    "best_fev_per_layer"
   ]
  },
  {
   "cell_type": "code",
   "execution_count": 5,
   "id": "914a3db7",
   "metadata": {},
   "outputs": [
    {
     "name": "stderr",
     "output_type": "stream",
     "text": [
      "\u001b[1;37m16:52:12 | INFO     | ℹ️ Loading model features from /Users/callummessiter/workspace/msc-neuro/research-project/analysis/mouse_m01_d2/_model_features/vgg19_features_mouse_m01_d2.pt\u001b[0m\n"
     ]
    }
   ],
   "source": [
    "vgg19_data = futils.load_model_features(futils.Model.VGG19, MOUSE_ID)\n",
    "vgg19_feats = vgg19_data['features']"
   ]
  },
  {
   "cell_type": "code",
   "execution_count": 7,
   "id": "72f5556b",
   "metadata": {},
   "outputs": [],
   "source": [
    "# Save explained variance info\n",
    "\n",
    "num_components = 128\n",
    "plot_components = 128\n",
    "thresholds = [0.80, 0.90]\n",
    "\n",
    "raw_features = vgg19_feats\n",
    "layer_names = list(raw_features.keys())\n",
    "rand_feat_indices = torch.randperm(num_components)[:num_components]\n",
    "\n",
    "def run_pca(data, n_components=num_components):\n",
    "    pca = PCA(n_components=n_components, random_state=GLOBAL_SEED)\n",
    "    pca.fit(data)\n",
    "    return np.cumsum(pca.explained_variance_ratio_), pca.explained_variance_ratio_\n",
    "\n",
    "def num_components_for_variance(cumulative_ev, threshold):\n",
    "    return np.argmax(cumulative_ev >= threshold) + 1\n",
    "\n",
    "def subsample_features(feats, indices):\n",
    "    if feats.ndim > 2:\n",
    "        feats = feats.reshape(feats.shape[0], -1)\n",
    "    return feats[:, indices] if feats.shape[1] >= len(indices) else feats\n",
    "\n",
    "features = {\n",
    "    name: subsample_features(raw_features[name], rand_feat_indices) for name in layer_names\n",
    "}\n",
    "features['neural'] = neural_responses_mean[:, rand_feat_indices]\n",
    "\n",
    "cumulative_ev = {}\n",
    "ev = {}\n",
    "for name, feats in features.items():\n",
    "    cumulative_ev[name], ev[name] = run_pca(feats)\n",
    "\n",
    "components_needed = {\n",
    "    t: {name: num_components_for_variance(cumulative_ev[name], t) for name in features}\n",
    "    for t in thresholds\n",
    "}\n",
    "\n",
    "json_data = [\n",
    "    {\n",
    "        \"mouse_id\": MOUSE_ID,\n",
    "        \"model\": futils.get_model(),\n",
    "        \"layer\": layer,\n",
    "        \"num_principal_components_80pc_ev\": int(components_needed[0.80][layer]),\n",
    "        \"num_principal_components_90pc_ev\": int(components_needed[0.90][layer]),\n",
    "        \"cumulative_ev\": cumulative_ev[layer].tolist(),\n",
    "    }\n",
    "    for layer in layer_names\n",
    "]\n",
    "\n",
    "futils.write_json_file(json_data, './explained_variance.json')"
   ]
  },
  {
   "cell_type": "code",
   "execution_count": null,
   "id": "d7e9cd87",
   "metadata": {},
   "outputs": [],
   "source": [
    "power_law_alpha_estimator = PowerLawAlphaEstimator()\n",
    "\n",
    "alpha_results = []\n",
    "\n",
    "logger.progress(f\"Computing α for VGG19 features across layers\")\n",
    "for layer, feats in tqdm(vgg19_feats.items(), desc=\"α for all VGG19 layers\"):\n",
    "    logger.progress(f\"VGG19 {layer}\")\n",
    "    \n",
    "    feats = feats if feats.dim() <= 2 else feats.view(feats.size(0), -1)\n",
    "    alpha = power_law_alpha_estimator.compute_alpha(feats)\n",
    "\n",
    "    alpha_results.append({\n",
    "        'layer': layer,\n",
    "        'alpha': alpha['alpha'],\n",
    "        'alpha_no_pc1': alpha['alpha_no_pc1'],\n",
    "    })\n",
    "\n",
    "logger.success(f\"Alphas computed\")"
   ]
  },
  {
   "cell_type": "code",
   "execution_count": null,
   "id": "69c27bfc",
   "metadata": {},
   "outputs": [],
   "source": [
    "futils.write_json_file(alpha_results, './dimensionality.json')"
   ]
  },
  {
   "cell_type": "code",
   "execution_count": null,
   "id": "38b55293",
   "metadata": {},
   "outputs": [],
   "source": [
    "alpha_results_df = pd.DataFrame(alpha_results)\n",
    "alpha_results_df"
   ]
  },
  {
   "cell_type": "code",
   "execution_count": null,
   "id": "20b84372",
   "metadata": {},
   "outputs": [],
   "source": [
    "merged_results = pd.merge(best_fev_per_layer, alpha_results_df, on='layer')\n",
    "merged_results"
   ]
  },
  {
   "cell_type": "code",
   "execution_count": null,
   "id": "b01e3ecc",
   "metadata": {},
   "outputs": [],
   "source": [
    "colours = merged_results['layer'].map(vgg19_colours)\n",
    "\n",
    "plt.figure(figsize=(10, 6))\n",
    "plt.scatter(merged_results['alpha'], merged_results['mean_fev'], c=colours)\n",
    "\n",
    "texts = []\n",
    "for _, row in merged_results.iterrows():\n",
    "    texts.append(\n",
    "        plt.text(row['alpha'], row['mean_fev'], row['layer'],\n",
    "                 color=vgg19_colours[row['layer']], fontsize=10)\n",
    "    )\n",
    "\n",
    "adjust_text(texts, arrowprops=dict(arrowstyle='-', color='gray'))\n",
    "\n",
    "plt.xlabel('Alpha (Power Law Exponent)')\n",
    "plt.ylabel('Mean FEV')\n",
    "plt.title('VGG19 Layers: Alpha vs. Predictive Power (Neural Data)')\n",
    "plt.grid(True)\n",
    "plt.tight_layout()\n",
    "plt.show()"
   ]
  }
 ],
 "metadata": {
  "kernelspec": {
   "display_name": "myenv",
   "language": "python",
   "name": "python3"
  },
  "language_info": {
   "codemirror_mode": {
    "name": "ipython",
    "version": 3
   },
   "file_extension": ".py",
   "mimetype": "text/x-python",
   "name": "python",
   "nbconvert_exporter": "python",
   "pygments_lexer": "ipython3",
   "version": "3.11.4"
  }
 },
 "nbformat": 4,
 "nbformat_minor": 5
}
