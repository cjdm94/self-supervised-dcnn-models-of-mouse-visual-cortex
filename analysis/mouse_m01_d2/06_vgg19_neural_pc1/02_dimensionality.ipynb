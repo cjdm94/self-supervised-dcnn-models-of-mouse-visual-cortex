{
 "cells": [
  {
   "cell_type": "markdown",
   "id": "e8434b4e",
   "metadata": {},
   "source": [
    "# FEV vs. Alpha Analysis\n",
    "\n",
    "For each VGG19 layer, this notebook plots **mean FEV** vs. **alpha** (where alpha is the slope of the log–log PCA variance spectrum).\n",
    "\n",
    "- **Mean FEV** is taken from the regression: VGG19 features (reduced to N PCs) → PC1 Neural data\n",
    "\n",
    "- For each layer, we select the **best FEV** (i.e., highest across PC counts)"
   ]
  },
  {
   "cell_type": "code",
   "execution_count": 1,
   "id": "0e376885",
   "metadata": {},
   "outputs": [],
   "source": [
    "from cortexlib.power_law import PowerLawAlphaEstimator\n",
    "from cortexlib.utils import file as futils\n",
    "from cortexlib.utils.logging import Logger\n",
    "from cortexlib.utils.random import set_global_seed\n",
    "from cortexlib.utils.plotting import vgg19_colours\n",
    "from adjustText import adjust_text\n",
    "import matplotlib.pyplot as plt\n",
    "from tqdm.notebook import tqdm\n",
    "import pandas as pd\n",
    "\n",
    "logger = Logger()\n",
    "set_global_seed()"
   ]
  },
  {
   "cell_type": "code",
   "execution_count": 2,
   "id": "e784ef85",
   "metadata": {},
   "outputs": [
    {
     "name": "stderr",
     "output_type": "stream",
     "text": [
      "\u001b[1;37m16:46:08 | INFO     | ℹ️ This notebook is running for mouse m01_d2\u001b[0m\n"
     ]
    }
   ],
   "source": [
    "MOUSE_ID = futils.get_mouse_id()\n",
    "logger.info(f\"This notebook is running for mouse {MOUSE_ID}\")"
   ]
  },
  {
   "cell_type": "code",
   "execution_count": 3,
   "id": "ae679916",
   "metadata": {},
   "outputs": [
    {
     "data": {
      "text/html": [
       "<div>\n",
       "<style scoped>\n",
       "    .dataframe tbody tr th:only-of-type {\n",
       "        vertical-align: middle;\n",
       "    }\n",
       "\n",
       "    .dataframe tbody tr th {\n",
       "        vertical-align: top;\n",
       "    }\n",
       "\n",
       "    .dataframe thead th {\n",
       "        text-align: right;\n",
       "    }\n",
       "</style>\n",
       "<table border=\"1\" class=\"dataframe\">\n",
       "  <thead>\n",
       "    <tr style=\"text-align: right;\">\n",
       "      <th></th>\n",
       "      <th>layer</th>\n",
       "      <th>n_pcs</th>\n",
       "      <th>test_r2</th>\n",
       "      <th>mean_fev</th>\n",
       "    </tr>\n",
       "  </thead>\n",
       "  <tbody>\n",
       "    <tr>\n",
       "      <th>0</th>\n",
       "      <td>conv2_2</td>\n",
       "      <td>NaN</td>\n",
       "      <td>0.407432</td>\n",
       "      <td>0.430933</td>\n",
       "    </tr>\n",
       "    <tr>\n",
       "      <th>5</th>\n",
       "      <td>conv3_4</td>\n",
       "      <td>NaN</td>\n",
       "      <td>0.416551</td>\n",
       "      <td>0.440492</td>\n",
       "    </tr>\n",
       "    <tr>\n",
       "      <th>10</th>\n",
       "      <td>conv4_4</td>\n",
       "      <td>NaN</td>\n",
       "      <td>0.396909</td>\n",
       "      <td>0.419901</td>\n",
       "    </tr>\n",
       "    <tr>\n",
       "      <th>15</th>\n",
       "      <td>conv5_4</td>\n",
       "      <td>NaN</td>\n",
       "      <td>0.281060</td>\n",
       "      <td>0.298454</td>\n",
       "    </tr>\n",
       "    <tr>\n",
       "      <th>20</th>\n",
       "      <td>fc2</td>\n",
       "      <td>NaN</td>\n",
       "      <td>0.266597</td>\n",
       "      <td>0.283292</td>\n",
       "    </tr>\n",
       "  </tbody>\n",
       "</table>\n",
       "</div>"
      ],
      "text/plain": [
       "      layer  n_pcs   test_r2  mean_fev\n",
       "0   conv2_2    NaN  0.407432  0.430933\n",
       "5   conv3_4    NaN  0.416551  0.440492\n",
       "10  conv4_4    NaN  0.396909  0.419901\n",
       "15  conv5_4    NaN  0.281060  0.298454\n",
       "20      fc2    NaN  0.266597  0.283292"
      ]
     },
     "execution_count": 3,
     "metadata": {},
     "output_type": "execute_result"
    }
   ],
   "source": [
    "fev_results = futils.read_json_file_as_dataframe('./prediction.json')\n",
    "best_fev_per_layer = fev_results.loc[fev_results.groupby(\"layer\")[\"mean_fev\"].idxmax()]\n",
    "\n",
    "best_fev_per_layer"
   ]
  },
  {
   "cell_type": "code",
   "execution_count": 4,
   "id": "914a3db7",
   "metadata": {},
   "outputs": [
    {
     "name": "stderr",
     "output_type": "stream",
     "text": [
      "\u001b[1;37m16:46:08 | INFO     | ℹ️ Loading model features from /Users/callummessiter/workspace/msc-neuro/research-project/analysis/mouse_m01_d2/_model_features/vgg19_features_mouse_m01_d2.pt\u001b[0m\n"
     ]
    }
   ],
   "source": [
    "vgg19_data = futils.load_model_features(futils.Model.VGG19, MOUSE_ID)\n",
    "vgg19_feats = vgg19_data['features']"
   ]
  },
  {
   "cell_type": "code",
   "execution_count": 5,
   "id": "d7e9cd87",
   "metadata": {},
   "outputs": [
    {
     "name": "stderr",
     "output_type": "stream",
     "text": [
      "\u001b[1;37m16:46:09 | INFO     | ⏳ Computing α for VGG19 features across layers...\u001b[0m\n"
     ]
    },
    {
     "data": {
      "application/vnd.jupyter.widget-view+json": {
       "model_id": "670567be1eea449397d034a12891aea6",
       "version_major": 2,
       "version_minor": 0
      },
      "text/plain": [
       "α for all VGG19 layers:   0%|          | 0/5 [00:00<?, ?it/s]"
      ]
     },
     "metadata": {},
     "output_type": "display_data"
    },
    {
     "name": "stderr",
     "output_type": "stream",
     "text": [
      "\u001b[1;37m16:46:09 | INFO     | ⏳ VGG19 conv2_2...\u001b[0m\n",
      "\u001b[1;37m16:46:09 | INFO     | ⏳ VGG19 conv3_4...\u001b[0m\n",
      "\u001b[1;37m16:46:09 | INFO     | ⏳ VGG19 conv4_4...\u001b[0m\n",
      "\u001b[1;37m16:46:09 | INFO     | ⏳ VGG19 conv5_4...\u001b[0m\n",
      "\u001b[1;37m16:46:09 | INFO     | ⏳ VGG19 fc2...\u001b[0m\n",
      "\u001b[1;32m16:46:10 | SUCCESS  | ✅ Alphas computed!\u001b[0m\n"
     ]
    }
   ],
   "source": [
    "power_law_alpha_estimator = PowerLawAlphaEstimator()\n",
    "\n",
    "alpha_results = []\n",
    "\n",
    "logger.progress(f\"Computing α for VGG19 features across layers\")\n",
    "for layer, feats in tqdm(vgg19_feats.items(), desc=\"α for all VGG19 layers\"):\n",
    "    logger.progress(f\"VGG19 {layer}\")\n",
    "\n",
    "    feats = feats if feats.dim() <= 2 else feats.view(feats.size(0), -1)\n",
    "    alpha = power_law_alpha_estimator.compute_alpha_rank(\n",
    "        feats, # (n_images × n_units)\n",
    "        kmin=11, \n",
    "        kmax=min(500, feats.shape[0], feats.shape[1])\n",
    "    )\n",
    "\n",
    "    alpha_results.append({\n",
    "        'layer': layer,\n",
    "        'alpha': alpha.alpha,\n",
    "        'alpha_no_pc1': alpha.alpha_no_pc1,\n",
    "    })\n",
    "\n",
    "logger.success(f\"Alphas computed\")"
   ]
  },
  {
   "cell_type": "code",
   "execution_count": 6,
   "id": "69c27bfc",
   "metadata": {},
   "outputs": [],
   "source": [
    "futils.write_json_file(alpha_results, './dimensionality.json')"
   ]
  },
  {
   "cell_type": "code",
   "execution_count": 7,
   "id": "38b55293",
   "metadata": {},
   "outputs": [
    {
     "data": {
      "text/html": [
       "<div>\n",
       "<style scoped>\n",
       "    .dataframe tbody tr th:only-of-type {\n",
       "        vertical-align: middle;\n",
       "    }\n",
       "\n",
       "    .dataframe tbody tr th {\n",
       "        vertical-align: top;\n",
       "    }\n",
       "\n",
       "    .dataframe thead th {\n",
       "        text-align: right;\n",
       "    }\n",
       "</style>\n",
       "<table border=\"1\" class=\"dataframe\">\n",
       "  <thead>\n",
       "    <tr style=\"text-align: right;\">\n",
       "      <th></th>\n",
       "      <th>layer</th>\n",
       "      <th>alpha</th>\n",
       "      <th>alpha_no_pc1</th>\n",
       "    </tr>\n",
       "  </thead>\n",
       "  <tbody>\n",
       "    <tr>\n",
       "      <th>0</th>\n",
       "      <td>conv2_2</td>\n",
       "      <td>6.555707</td>\n",
       "      <td>6.555707</td>\n",
       "    </tr>\n",
       "    <tr>\n",
       "      <th>1</th>\n",
       "      <td>conv3_4</td>\n",
       "      <td>3.815863</td>\n",
       "      <td>3.815863</td>\n",
       "    </tr>\n",
       "    <tr>\n",
       "      <th>2</th>\n",
       "      <td>conv4_4</td>\n",
       "      <td>3.042396</td>\n",
       "      <td>3.042396</td>\n",
       "    </tr>\n",
       "    <tr>\n",
       "      <th>3</th>\n",
       "      <td>conv5_4</td>\n",
       "      <td>3.889640</td>\n",
       "      <td>3.889640</td>\n",
       "    </tr>\n",
       "    <tr>\n",
       "      <th>4</th>\n",
       "      <td>fc2</td>\n",
       "      <td>1.860126</td>\n",
       "      <td>1.860126</td>\n",
       "    </tr>\n",
       "  </tbody>\n",
       "</table>\n",
       "</div>"
      ],
      "text/plain": [
       "     layer     alpha  alpha_no_pc1\n",
       "0  conv2_2  6.555707      6.555707\n",
       "1  conv3_4  3.815863      3.815863\n",
       "2  conv4_4  3.042396      3.042396\n",
       "3  conv5_4  3.889640      3.889640\n",
       "4      fc2  1.860126      1.860126"
      ]
     },
     "execution_count": 7,
     "metadata": {},
     "output_type": "execute_result"
    }
   ],
   "source": [
    "alpha_results_df = pd.DataFrame(alpha_results)\n",
    "alpha_results_df"
   ]
  },
  {
   "cell_type": "code",
   "execution_count": 8,
   "id": "20b84372",
   "metadata": {},
   "outputs": [
    {
     "data": {
      "text/html": [
       "<div>\n",
       "<style scoped>\n",
       "    .dataframe tbody tr th:only-of-type {\n",
       "        vertical-align: middle;\n",
       "    }\n",
       "\n",
       "    .dataframe tbody tr th {\n",
       "        vertical-align: top;\n",
       "    }\n",
       "\n",
       "    .dataframe thead th {\n",
       "        text-align: right;\n",
       "    }\n",
       "</style>\n",
       "<table border=\"1\" class=\"dataframe\">\n",
       "  <thead>\n",
       "    <tr style=\"text-align: right;\">\n",
       "      <th></th>\n",
       "      <th>layer</th>\n",
       "      <th>n_pcs</th>\n",
       "      <th>test_r2</th>\n",
       "      <th>mean_fev</th>\n",
       "      <th>alpha</th>\n",
       "      <th>alpha_no_pc1</th>\n",
       "    </tr>\n",
       "  </thead>\n",
       "  <tbody>\n",
       "    <tr>\n",
       "      <th>0</th>\n",
       "      <td>conv2_2</td>\n",
       "      <td>NaN</td>\n",
       "      <td>0.407432</td>\n",
       "      <td>0.430933</td>\n",
       "      <td>6.555707</td>\n",
       "      <td>6.555707</td>\n",
       "    </tr>\n",
       "    <tr>\n",
       "      <th>1</th>\n",
       "      <td>conv3_4</td>\n",
       "      <td>NaN</td>\n",
       "      <td>0.416551</td>\n",
       "      <td>0.440492</td>\n",
       "      <td>3.815863</td>\n",
       "      <td>3.815863</td>\n",
       "    </tr>\n",
       "    <tr>\n",
       "      <th>2</th>\n",
       "      <td>conv4_4</td>\n",
       "      <td>NaN</td>\n",
       "      <td>0.396909</td>\n",
       "      <td>0.419901</td>\n",
       "      <td>3.042396</td>\n",
       "      <td>3.042396</td>\n",
       "    </tr>\n",
       "    <tr>\n",
       "      <th>3</th>\n",
       "      <td>conv5_4</td>\n",
       "      <td>NaN</td>\n",
       "      <td>0.281060</td>\n",
       "      <td>0.298454</td>\n",
       "      <td>3.889640</td>\n",
       "      <td>3.889640</td>\n",
       "    </tr>\n",
       "    <tr>\n",
       "      <th>4</th>\n",
       "      <td>fc2</td>\n",
       "      <td>NaN</td>\n",
       "      <td>0.266597</td>\n",
       "      <td>0.283292</td>\n",
       "      <td>1.860126</td>\n",
       "      <td>1.860126</td>\n",
       "    </tr>\n",
       "  </tbody>\n",
       "</table>\n",
       "</div>"
      ],
      "text/plain": [
       "     layer  n_pcs   test_r2  mean_fev     alpha  alpha_no_pc1\n",
       "0  conv2_2    NaN  0.407432  0.430933  6.555707      6.555707\n",
       "1  conv3_4    NaN  0.416551  0.440492  3.815863      3.815863\n",
       "2  conv4_4    NaN  0.396909  0.419901  3.042396      3.042396\n",
       "3  conv5_4    NaN  0.281060  0.298454  3.889640      3.889640\n",
       "4      fc2    NaN  0.266597  0.283292  1.860126      1.860126"
      ]
     },
     "execution_count": 8,
     "metadata": {},
     "output_type": "execute_result"
    }
   ],
   "source": [
    "merged_results = pd.merge(best_fev_per_layer, alpha_results_df, on='layer')\n",
    "merged_results"
   ]
  },
  {
   "cell_type": "code",
   "execution_count": 9,
   "id": "b01e3ecc",
   "metadata": {},
   "outputs": [
    {
     "data": {
      "image/png": "[encoded data removed]",
      "text/plain": [
       "<Figure size 1000x600 with 1 Axes>"
      ]
     },
     "metadata": {},
     "output_type": "display_data"
    }
   ],
   "source": [
    "colours = merged_results['layer'].map(vgg19_colours)\n",
    "\n",
    "plt.figure(figsize=(10, 6))\n",
    "plt.scatter(merged_results['alpha'], merged_results['mean_fev'], c=colours)\n",
    "\n",
    "texts = []\n",
    "for _, row in merged_results.iterrows():\n",
    "    texts.append(\n",
    "        plt.text(row['alpha'], row['mean_fev'], row['layer'],\n",
    "                 color=vgg19_colours[row['layer']], fontsize=10)\n",
    "    )\n",
    "\n",
    "adjust_text(texts, arrowprops=dict(arrowstyle='-', color='gray'))\n",
    "\n",
    "plt.xlabel('Alpha (Power Law Exponent)')\n",
    "plt.ylabel('Mean FEV')\n",
    "plt.title('VGG19 Layers: Alpha vs. Predictive Power (PC1 Neural Data)')\n",
    "plt.grid(True)\n",
    "plt.tight_layout()\n",
    "plt.show()"
   ]
  }
 ],
 "metadata": {
  "kernelspec": {
   "display_name": "myenv",
   "language": "python",
   "name": "python3"
  },
  "language_info": {
   "codemirror_mode": {
    "name": "ipython",
    "version": 3
   },
   "file_extension": ".py",
   "mimetype": "text/x-python",
   "name": "python",
   "nbconvert_exporter": "python",
   "pygments_lexer": "ipython3",
   "version": "3.11.4"
  }
 },
 "nbformat": 4,
 "nbformat_minor": 5
}
