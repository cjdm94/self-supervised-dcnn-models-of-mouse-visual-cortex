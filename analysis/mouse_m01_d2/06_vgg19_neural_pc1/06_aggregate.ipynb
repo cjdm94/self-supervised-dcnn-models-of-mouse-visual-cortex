{
 "cells": [
  {
   "cell_type": "code",
   "execution_count": 1,
   "id": "83ff8ddd",
   "metadata": {},
   "outputs": [
    {
     "name": "stderr",
     "output_type": "stream",
     "text": [
      "\u001b[1;37m18:19:48 | INFO     | ℹ️ Saving aggregated results for mouse m01_d2, model-target vgg19_neural_pc1\u001b[0m\n"
     ]
    }
   ],
   "source": [
    "from cortexlib.utils.aggregate import aggregate_results\n",
    "\n",
    "aggregate_results()"
   ]
  }
 ],
 "metadata": {
  "kernelspec": {
   "display_name": "myenv",
   "language": "python",
   "name": "python3"
  },
  "language_info": {
   "codemirror_mode": {
    "name": "ipython",
    "version": 3
   },
   "file_extension": ".py",
   "mimetype": "text/x-python",
   "name": "python",
   "nbconvert_exporter": "python",
   "pygments_lexer": "ipython3",
   "version": "3.11.4"
  }
 },
 "nbformat": 4,
 "nbformat_minor": 5
}
