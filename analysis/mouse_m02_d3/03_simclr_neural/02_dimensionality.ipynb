{
 "cells": [
  {
   "cell_type": "markdown",
   "id": "e8434b4e",
   "metadata": {},
   "source": [
    "# FEV vs. Alpha Analysis\n",
    "\n",
    "For each SimCLR layer, this notebook plots **mean FEV** vs. **alpha** (where alpha is the slope of the log–log PCA variance spectrum).\n",
    "\n",
    "- **Mean FEV** is taken from the regression: SimCLR features (reduced to N PCs) → Neural data (original dimensionality)\n",
    "\n",
    "- For each layer, we select the **best FEV** (i.e., highest across PC counts)"
   ]
  },
  {
   "cell_type": "code",
   "execution_count": 1,
   "id": "0e376885",
   "metadata": {},
   "outputs": [],
   "source": [
    "from cortexlib.power_law import PowerLawAlphaEstimator\n",
    "from cortexlib.mouse import CortexlabMouse\n",
    "from cortexlib.utils import file as futils\n",
    "from cortexlib.utils.logging import Logger\n",
    "from cortexlib.utils.random import set_global_seed, GLOBAL_SEED\n",
    "from cortexlib.utils.plotting import simclr_colours\n",
    "from sklearn.decomposition import PCA\n",
    "from adjustText import adjust_text\n",
    "from tqdm.notebook import tqdm\n",
    "import matplotlib.pyplot as plt\n",
    "import pandas as pd\n",
    "import numpy as np\n",
    "import torch\n",
    "\n",
    "logger = Logger()\n",
    "set_global_seed()"
   ]
  },
  {
   "cell_type": "code",
   "execution_count": 2,
   "id": "fadab960",
   "metadata": {},
   "outputs": [
    {
     "name": "stderr",
     "output_type": "stream",
     "text": [
      "\u001b[1;37m17:47:04 | INFO     | ℹ️ This notebook is running for mouse m02_d3\u001b[0m\n"
     ]
    }
   ],
   "source": [
    "MOUSE_ID = futils.get_mouse_id()\n",
    "logger.info(f\"This notebook is running for mouse {MOUSE_ID}\")"
   ]
  },
  {
   "cell_type": "code",
   "execution_count": 3,
   "id": "22124596",
   "metadata": {},
   "outputs": [
    {
     "name": "stderr",
     "output_type": "stream",
     "text": [
      "\u001b[1;37m17:47:05 | INFO     | ⏳ Computing null distributions for all neurons in mouse m02_d3...\u001b[0m\n",
      "\u001b[1;32m17:47:35 | SUCCESS  | ✅ Null distributions computed!\u001b[0m\n",
      "\u001b[1;37m17:47:35 | INFO     | ℹ️ Neural responses shape: (1585, 2, 500)\u001b[0m\n"
     ]
    },
    {
     "name": "stdout",
     "output_type": "stream",
     "text": [
      "xmin progress: 99%\r"
     ]
    }
   ],
   "source": [
    "neural_plae = PowerLawAlphaEstimator()\n",
    "mouse = CortexlabMouse(mouse_id=MOUSE_ID)\n",
    "\n",
    "logger.progress(f\"Computing null distributions for all neurons in mouse {mouse.id}\")\n",
    "null_srv_all_neurons = mouse.compute_null_all_neurons(n_shuffles=100)\n",
    "logger.success(f\"Null distributions computed\")\n",
    "\n",
    "real_srv_all_neurons = mouse.compute_real_srv_all_neurons()\n",
    "reliable_neuron_indices = mouse.get_reliable_neuron_indices(\n",
    "            null_srv_all_neurons, real_srv_all_neurons, percentile_threshold=99)\n",
    "neural_responses_mean, neural_responses, _ = mouse.get_responses_for_reliable_neurons(reliable_neuron_indices, real_srv_all_neurons, num_neurons=500)\n",
    "\n",
    "logger.info(f\"Neural responses shape: {neural_responses.shape}\")\n",
    "\n",
    "neural_alpha = neural_plae.compute_alpha(neural_responses_mean)"
   ]
  },
  {
   "cell_type": "code",
   "execution_count": 4,
   "id": "8533cf87",
   "metadata": {},
   "outputs": [],
   "source": [
    "neural_alpha['mouse_id'] = MOUSE_ID\n",
    "futils.write_json_file(neural_alpha, './neural_dimensionality.json')"
   ]
  },
  {
   "cell_type": "code",
   "execution_count": 5,
   "id": "ae679916",
   "metadata": {},
   "outputs": [
    {
     "data": {
      "text/html": [
       "<div>\n",
       "<style scoped>\n",
       "    .dataframe tbody tr th:only-of-type {\n",
       "        vertical-align: middle;\n",
       "    }\n",
       "\n",
       "    .dataframe tbody tr th {\n",
       "        vertical-align: top;\n",
       "    }\n",
       "\n",
       "    .dataframe thead th {\n",
       "        text-align: right;\n",
       "    }\n",
       "</style>\n",
       "<table border=\"1\" class=\"dataframe\">\n",
       "  <thead>\n",
       "    <tr style=\"text-align: right;\">\n",
       "      <th></th>\n",
       "      <th>layer</th>\n",
       "      <th>n_pcs</th>\n",
       "      <th>test_r2</th>\n",
       "      <th>mean_fev</th>\n",
       "    </tr>\n",
       "  </thead>\n",
       "  <tbody>\n",
       "    <tr>\n",
       "      <th>36</th>\n",
       "      <td>fc</td>\n",
       "      <td>NaN</td>\n",
       "      <td>0.021191</td>\n",
       "      <td>0.169101</td>\n",
       "    </tr>\n",
       "    <tr>\n",
       "      <th>3</th>\n",
       "      <td>layer1</td>\n",
       "      <td>50.0</td>\n",
       "      <td>0.030690</td>\n",
       "      <td>0.162739</td>\n",
       "    </tr>\n",
       "    <tr>\n",
       "      <th>9</th>\n",
       "      <td>layer2</td>\n",
       "      <td>NaN</td>\n",
       "      <td>0.039620</td>\n",
       "      <td>0.211574</td>\n",
       "    </tr>\n",
       "    <tr>\n",
       "      <th>18</th>\n",
       "      <td>layer3</td>\n",
       "      <td>NaN</td>\n",
       "      <td>0.044120</td>\n",
       "      <td>0.193365</td>\n",
       "    </tr>\n",
       "    <tr>\n",
       "      <th>27</th>\n",
       "      <td>layer4</td>\n",
       "      <td>NaN</td>\n",
       "      <td>0.027735</td>\n",
       "      <td>0.144667</td>\n",
       "    </tr>\n",
       "  </tbody>\n",
       "</table>\n",
       "</div>"
      ],
      "text/plain": [
       "     layer  n_pcs   test_r2  mean_fev\n",
       "36      fc    NaN  0.021191  0.169101\n",
       "3   layer1   50.0  0.030690  0.162739\n",
       "9   layer2    NaN  0.039620  0.211574\n",
       "18  layer3    NaN  0.044120  0.193365\n",
       "27  layer4    NaN  0.027735  0.144667"
      ]
     },
     "execution_count": 5,
     "metadata": {},
     "output_type": "execute_result"
    }
   ],
   "source": [
    "fev_results = futils.read_json_file_as_dataframe('./prediction.json')\n",
    "best_fev_per_layer = fev_results.loc[fev_results.groupby(\"layer\")[\"mean_fev\"].idxmax()]\n",
    "\n",
    "best_fev_per_layer"
   ]
  },
  {
   "cell_type": "code",
   "execution_count": 6,
   "id": "914a3db7",
   "metadata": {},
   "outputs": [
    {
     "name": "stderr",
     "output_type": "stream",
     "text": [
      "\u001b[1;37m17:47:35 | INFO     | ℹ️ Loading model features from /Users/callummessiter/workspace/msc-neuro/research-project/analysis/mouse_m02_d3/_model_features/simclr_features_mouse_m02_d3.pt\u001b[0m\n"
     ]
    }
   ],
   "source": [
    "simclr_data = futils.load_model_features(futils.Model.SIMCLR, MOUSE_ID)\n",
    "simclr_feats = simclr_data['features']"
   ]
  },
  {
   "cell_type": "code",
   "execution_count": 7,
   "id": "bdc28987",
   "metadata": {},
   "outputs": [],
   "source": [
    "import numpy as np\n",
    "from sklearn.decomposition import PCA\n",
    "import torch\n",
    "import random\n",
    "\n",
    "raw_features = simclr_feats\n",
    "layer_names = list(raw_features.keys())\n",
    "subsample_size = 500\n",
    "thresholds = [0.80, 0.90]\n",
    "n_repeats = 20  # number of subsamples per layer\n",
    "random.seed(42)\n",
    "\n",
    "def run_pca(data, n_components=subsample_size):\n",
    "    pca = PCA(n_components=n_components, random_state=GLOBAL_SEED)\n",
    "    pca.fit(data)\n",
    "    return np.cumsum(pca.explained_variance_ratio_), pca.explained_variance_ratio_\n",
    "\n",
    "def num_components_for_variance(cumulative_ev, threshold):\n",
    "    return np.argmax(cumulative_ev >= threshold) + 1\n",
    "\n",
    "def subsample_features(feats, indices):\n",
    "    if feats.ndim > 2:\n",
    "        feats = feats.reshape(feats.shape[0], -1)\n",
    "    return feats[:, indices] if feats.shape[1] >= len(indices) else feats\n",
    "\n",
    "json_data = []\n",
    "\n",
    "for layer in layer_names:\n",
    "    layer_data = {\n",
    "        \"mouse_id\": MOUSE_ID,\n",
    "        \"model\": futils.get_model(),\n",
    "        \"layer\": layer,\n",
    "        \"original_dimensions\": raw_features[layer].shape[0],\n",
    "        \"subsampled_dimensions\": subsample_size,\n",
    "        \"subsamples\": []\n",
    "    }\n",
    "\n",
    "    for _ in range(n_repeats):\n",
    "        rand_indices = torch.randperm(subsample_size)[:subsample_size]\n",
    "        feats = subsample_features(raw_features[layer], rand_indices)\n",
    "        cum_ev, _ = run_pca(feats)\n",
    "\n",
    "        layer_data[\"subsamples\"].append({\n",
    "            \"num_principal_components_80pc_ev\": int(num_components_for_variance(cum_ev, 0.80)),\n",
    "            \"num_principal_components_90pc_ev\": int(num_components_for_variance(cum_ev, 0.90)),\n",
    "            \"cumulative_ev\": cum_ev.tolist()\n",
    "        })\n",
    "\n",
    "    json_data.append(layer_data)\n",
    "\n",
    "futils.write_json_file(json_data, './explained_variance.json')"
   ]
  },
  {
   "cell_type": "code",
   "execution_count": 8,
   "id": "8c6248f4",
   "metadata": {},
   "outputs": [],
   "source": [
    "neural_ev = {\n",
    "    \"mouse_id\": MOUSE_ID,\n",
    "    \"model\": \"neural\",\n",
    "    \"layer\": \"neural\",\n",
    "    \"original_dimensions\": neural_responses_mean.shape[1],\n",
    "    \"subsampled_dimensions\": subsample_size,\n",
    "    \"subsamples\": []\n",
    "}\n",
    "\n",
    "rand_indices = torch.randperm(neural_responses_mean.shape[0])[:subsample_size]\n",
    "feats = neural_responses_mean[rand_indices.numpy(), :]\n",
    "cum_ev, _ = run_pca(feats)\n",
    "neural_ev[\"subsamples\"].append({\n",
    "    \"num_principal_components_80pc_ev\": int(num_components_for_variance(cum_ev, 0.80)),\n",
    "    \"num_principal_components_90pc_ev\": int(num_components_for_variance(cum_ev, 0.90)),\n",
    "    \"cumulative_ev\": cum_ev.tolist()\n",
    "})\n",
    "\n",
    "futils.write_json_file(neural_ev, './neural_explained_variance.json')"
   ]
  },
  {
   "cell_type": "code",
   "execution_count": null,
   "id": "d7e9cd87",
   "metadata": {},
   "outputs": [
    {
     "name": "stderr",
     "output_type": "stream",
     "text": [
      "\u001b[1;37m17:47:45 | INFO     | ⏳ Computing α for SimCLR features across layers...\u001b[0m\n"
     ]
    },
    {
     "data": {
      "application/vnd.jupyter.widget-view+json": {
       "model_id": "87897033c43240fd9d8436d0e11ca9ef",
       "version_major": 2,
       "version_minor": 0
      },
      "text/plain": [
       "α for all SimCLR layers:   0%|          | 0/5 [00:00<?, ?it/s]"
      ]
     },
     "metadata": {},
     "output_type": "display_data"
    },
    {
     "name": "stderr",
     "output_type": "stream",
     "text": [
      "\u001b[1;37m17:47:45 | INFO     | ⏳ SimCLR layer1...\u001b[0m\n"
     ]
    }
   ],
   "source": [
    "power_law_alpha_estimator = PowerLawAlphaEstimator()\n",
    "\n",
    "alpha_results = []\n",
    "\n",
    "logger.progress(f\"Computing α for SimCLR features across layers\")\n",
    "for layer, feats in tqdm(simclr_feats.items(), desc=\"α for all SimCLR layers\"):\n",
    "    logger.progress(f\"SimCLR {layer}\")\n",
    "    \n",
    "    feats = feats if feats.dim() <= 2 else feats.view(feats.size(0), -1)\n",
    "    alpha = power_law_alpha_estimator.compute_alpha(feats)\n",
    "\n",
    "    alpha_results.append({\n",
    "        'layer': layer,\n",
    "        'alpha': alpha['alpha'],\n",
    "        'alpha_no_pc1': alpha['alpha_no_pc1'],\n",
    "    })\n",
    "\n",
    "logger.success(f\"Alphas computed\")"
   ]
  },
  {
   "cell_type": "code",
   "execution_count": null,
   "id": "69c27bfc",
   "metadata": {},
   "outputs": [],
   "source": [
    "futils.write_json_file(alpha_results, './dimensionality.json')"
   ]
  },
  {
   "cell_type": "code",
   "execution_count": null,
   "id": "38b55293",
   "metadata": {},
   "outputs": [],
   "source": [
    "alpha_results_df = pd.DataFrame(alpha_results)\n",
    "alpha_results_df"
   ]
  },
  {
   "cell_type": "code",
   "execution_count": null,
   "id": "20b84372",
   "metadata": {},
   "outputs": [],
   "source": [
    "merged_results = pd.merge(best_fev_per_layer, alpha_results_df, on='layer')\n",
    "merged_results"
   ]
  },
  {
   "cell_type": "code",
   "execution_count": null,
   "id": "b01e3ecc",
   "metadata": {},
   "outputs": [],
   "source": [
    "colours = merged_results['layer'].map(simclr_colours)\n",
    "\n",
    "plt.figure(figsize=(10, 6))\n",
    "plt.scatter(merged_results['alpha'], merged_results['mean_fev'], c=colours)\n",
    "\n",
    "texts = []\n",
    "for _, row in merged_results.iterrows():\n",
    "    texts.append(\n",
    "        plt.text(row['alpha'], row['mean_fev'], row['layer'],\n",
    "                 color=simclr_colours[row['layer']], fontsize=10)\n",
    "    )\n",
    "\n",
    "adjust_text(texts, arrowprops=dict(arrowstyle='-', color='gray'))\n",
    "\n",
    "plt.xlabel('Alpha (Power Law Exponent)')\n",
    "plt.ylabel('Mean FEV')\n",
    "plt.title('SimCLR Layers: Alpha vs. Predictive Power (Neural Data)')\n",
    "plt.grid(True)\n",
    "plt.tight_layout()\n",
    "plt.show()"
   ]
  }
 ],
 "metadata": {
  "kernelspec": {
   "display_name": "myenv",
   "language": "python",
   "name": "python3"
  },
  "language_info": {
   "codemirror_mode": {
    "name": "ipython",
    "version": 3
   },
   "file_extension": ".py",
   "mimetype": "text/x-python",
   "name": "python",
   "nbconvert_exporter": "python",
   "pygments_lexer": "ipython3",
   "version": "3.11.4"
  }
 },
 "nbformat": 4,
 "nbformat_minor": 5
}
