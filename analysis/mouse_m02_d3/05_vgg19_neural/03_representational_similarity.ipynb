{
 "cells": [
  {
   "cell_type": "markdown",
   "id": "ecf276f5",
   "metadata": {},
   "source": [
    "# FEV vs. RSA Analysis\n",
    "\n",
    "For each VGG19 layer, this notebook plots **mean FEV** vs. **RSA (Spearman correlation)**.\n",
    "\n",
    "- **Mean FEV** is taken from the regression: VGG19 features (reduced to N PCs) → PC1 Neural data\n",
    "\n",
    "- For each layer, we select the **best FEV** (i.e., highest across PC counts)\n",
    "\n",
    "- The RSA class computes the **Spearman correlation** between RDMs of VGG19 features and neural data. Neural RDMs are built from a single PC (euclidean), and compared to feature RDMs to assess representational similarity \n",
    "  \n",
    "- For features, dimensionality varies across VGG19 layers, so for each layer, the features are reduced to a fixed number of PCs (e.g. 50), to normalise"
   ]
  },
  {
   "cell_type": "code",
   "execution_count": 1,
   "id": "7d99dfa6",
   "metadata": {},
   "outputs": [],
   "source": [
    "from cortexlib.rsa import RSA\n",
    "from cortexlib.utils import file as futils\n",
    "from cortexlib.utils.plotting import vgg19_colours\n",
    "from cortexlib.utils.random import set_global_seed\n",
    "from cortexlib.utils.logging import Logger\n",
    "from sklearn.decomposition import PCA\n",
    "import matplotlib.pyplot as plt\n",
    "from adjustText import adjust_text\n",
    "from tqdm.notebook import tqdm\n",
    "import pandas as pd\n",
    "\n",
    "logger = Logger()\n",
    "set_global_seed()"
   ]
  },
  {
   "cell_type": "code",
   "execution_count": 2,
   "id": "410f4373",
   "metadata": {},
   "outputs": [
    {
     "name": "stderr",
     "output_type": "stream",
     "text": [
      "\u001b[1;37m17:22:41 | INFO     | ℹ️ This notebook is running for mouse m02_d3\u001b[0m\n"
     ]
    }
   ],
   "source": [
    "MOUSE_ID = futils.get_mouse_id()\n",
    "logger.info(f\"This notebook is running for mouse {MOUSE_ID}\")"
   ]
  },
  {
   "cell_type": "code",
   "execution_count": 3,
   "id": "e990db33",
   "metadata": {},
   "outputs": [
    {
     "data": {
      "text/html": [
       "<div>\n",
       "<style scoped>\n",
       "    .dataframe tbody tr th:only-of-type {\n",
       "        vertical-align: middle;\n",
       "    }\n",
       "\n",
       "    .dataframe tbody tr th {\n",
       "        vertical-align: top;\n",
       "    }\n",
       "\n",
       "    .dataframe thead th {\n",
       "        text-align: right;\n",
       "    }\n",
       "</style>\n",
       "<table border=\"1\" class=\"dataframe\">\n",
       "  <thead>\n",
       "    <tr style=\"text-align: right;\">\n",
       "      <th></th>\n",
       "      <th>layer</th>\n",
       "      <th>n_pcs</th>\n",
       "      <th>test_r2</th>\n",
       "      <th>mean_fev</th>\n",
       "    </tr>\n",
       "  </thead>\n",
       "  <tbody>\n",
       "    <tr>\n",
       "      <th>4</th>\n",
       "      <td>conv2_2</td>\n",
       "      <td>100.0</td>\n",
       "      <td>0.016430</td>\n",
       "      <td>0.110485</td>\n",
       "    </tr>\n",
       "    <tr>\n",
       "      <th>5</th>\n",
       "      <td>conv3_4</td>\n",
       "      <td>NaN</td>\n",
       "      <td>0.014846</td>\n",
       "      <td>0.104921</td>\n",
       "    </tr>\n",
       "    <tr>\n",
       "      <th>10</th>\n",
       "      <td>conv4_4</td>\n",
       "      <td>NaN</td>\n",
       "      <td>0.014912</td>\n",
       "      <td>0.132074</td>\n",
       "    </tr>\n",
       "    <tr>\n",
       "      <th>15</th>\n",
       "      <td>conv5_4</td>\n",
       "      <td>NaN</td>\n",
       "      <td>0.009110</td>\n",
       "      <td>0.100818</td>\n",
       "    </tr>\n",
       "    <tr>\n",
       "      <th>20</th>\n",
       "      <td>fc2</td>\n",
       "      <td>NaN</td>\n",
       "      <td>0.008360</td>\n",
       "      <td>0.099842</td>\n",
       "    </tr>\n",
       "  </tbody>\n",
       "</table>\n",
       "</div>"
      ],
      "text/plain": [
       "      layer  n_pcs   test_r2  mean_fev\n",
       "4   conv2_2  100.0  0.016430  0.110485\n",
       "5   conv3_4    NaN  0.014846  0.104921\n",
       "10  conv4_4    NaN  0.014912  0.132074\n",
       "15  conv5_4    NaN  0.009110  0.100818\n",
       "20      fc2    NaN  0.008360  0.099842"
      ]
     },
     "execution_count": 3,
     "metadata": {},
     "output_type": "execute_result"
    }
   ],
   "source": [
    "# For each layer, results has an FEV score for predicting neural data from VGG19 features reduced to N PCs\n",
    "# Load results and filter the best FEV per layer (e.g. feats reduced to optimal number of PCs)\n",
    "fev_results = futils.read_json_file_as_dataframe('./prediction.json')\n",
    "best_fev_per_layer = fev_results.loc[fev_results.groupby(\"layer\")[\"mean_fev\"].idxmax()]\n",
    "\n",
    "best_fev_per_layer"
   ]
  },
  {
   "cell_type": "code",
   "execution_count": 4,
   "id": "608c80f2",
   "metadata": {},
   "outputs": [
    {
     "name": "stderr",
     "output_type": "stream",
     "text": [
      "\u001b[1;37m17:22:41 | INFO     | ℹ️ Loading model features from /Users/callummessiter/workspace/msc-neuro/research-project/analysis/mouse_m02_d3/_model_features/vgg19_features_mouse_m02_d3.pt\u001b[0m\n"
     ]
    }
   ],
   "source": [
    "vgg19_data = futils.load_model_features(futils.Model.VGG19, MOUSE_ID)\n",
    "vgg19_feats = vgg19_data['features']"
   ]
  },
  {
   "cell_type": "code",
   "execution_count": 5,
   "id": "dfcdfeee",
   "metadata": {},
   "outputs": [
    {
     "name": "stderr",
     "output_type": "stream",
     "text": [
      "\u001b[1;37m17:22:41 | INFO     | ℹ️ Loading filtered neural data from /Users/callummessiter/workspace/msc-neuro/research-project/analysis/mouse_m02_d3/_neural_data/neural_data_mouse_m02_d3.pt\u001b[0m\n"
     ]
    }
   ],
   "source": [
    "neural_data = futils.load_filtered_neural_data(MOUSE_ID)\n",
    "neural_responses_mean = neural_data['neural_responses_mean']"
   ]
  },
  {
   "cell_type": "code",
   "execution_count": 6,
   "id": "480d58c8",
   "metadata": {},
   "outputs": [
    {
     "name": "stderr",
     "output_type": "stream",
     "text": [
      "\u001b[1;37m17:22:41 | INFO     | ⏳ Computing RSA: VGG19 features vs. neural data...\u001b[0m\n"
     ]
    },
    {
     "data": {
      "application/vnd.jupyter.widget-view+json": {
       "model_id": "15e10e73277b47af803974d630ad6e3a",
       "version_major": 2,
       "version_minor": 0
      },
      "text/plain": [
       "RSA all VGG19 layers:   0%|          | 0/5 [00:00<?, ?it/s]"
      ]
     },
     "metadata": {},
     "output_type": "display_data"
    },
    {
     "name": "stderr",
     "output_type": "stream",
     "text": [
      "\u001b[1;37m17:22:41 | INFO     | ⏳ VGG19 conv2_2...\u001b[0m\n",
      "\u001b[1;37m17:22:43 | INFO     | ⏳ VGG19 conv3_4...\u001b[0m\n",
      "\u001b[1;37m17:22:45 | INFO     | ⏳ VGG19 conv4_4...\u001b[0m\n",
      "\u001b[1;37m17:22:48 | INFO     | ⏳ VGG19 conv5_4...\u001b[0m\n",
      "\u001b[1;37m17:22:51 | INFO     | ⏳ VGG19 fc2...\u001b[0m\n",
      "\u001b[1;32m17:23:01 | SUCCESS  | ✅ RSA complete!\u001b[0m\n"
     ]
    }
   ],
   "source": [
    "rsa = RSA(neural_data=neural_responses_mean)\n",
    "\n",
    "pcs_list = [None, 10, 20, 50, 100]\n",
    "rsa_results = []\n",
    "\n",
    "logger.progress(f\"Computing RSA: VGG19 features vs. neural data\")\n",
    "for layer, feats in tqdm(vgg19_feats.items(), desc=\"RSA all VGG19 layers\"):\n",
    "    logger.progress(f\"VGG19 {layer}\")\n",
    "    feats = feats if feats.dim() <= 2 else feats.view(feats.size(0), -1)\n",
    "    \n",
    "    for n_pcs in pcs_list:\n",
    "        feats_pca = feats if n_pcs is None else PCA(n_pcs).fit_transform(feats)\n",
    "        sim = rsa.compute_similarity_with_neural_data(feats_pca)\n",
    "        rsa_results.append({\n",
    "            'layer': layer,\n",
    "            'n_pcs': n_pcs,\n",
    "            'spearman_correlation': sim,\n",
    "        })\n",
    "\n",
    "logger.success(f\"RSA complete\")"
   ]
  },
  {
   "cell_type": "code",
   "execution_count": 7,
   "id": "e53a229e",
   "metadata": {},
   "outputs": [],
   "source": [
    "futils.write_json_file(rsa_results, './representational_similarity.json')"
   ]
  },
  {
   "cell_type": "code",
   "execution_count": 8,
   "id": "3b1b273a",
   "metadata": {},
   "outputs": [
    {
     "data": {
      "text/html": [
       "<div>\n",
       "<style scoped>\n",
       "    .dataframe tbody tr th:only-of-type {\n",
       "        vertical-align: middle;\n",
       "    }\n",
       "\n",
       "    .dataframe tbody tr th {\n",
       "        vertical-align: top;\n",
       "    }\n",
       "\n",
       "    .dataframe thead th {\n",
       "        text-align: right;\n",
       "    }\n",
       "</style>\n",
       "<table border=\"1\" class=\"dataframe\">\n",
       "  <thead>\n",
       "    <tr style=\"text-align: right;\">\n",
       "      <th></th>\n",
       "      <th>layer</th>\n",
       "      <th>n_pcs</th>\n",
       "      <th>spearman_correlation</th>\n",
       "    </tr>\n",
       "  </thead>\n",
       "  <tbody>\n",
       "    <tr>\n",
       "      <th>0</th>\n",
       "      <td>conv2_2</td>\n",
       "      <td>NaN</td>\n",
       "      <td>0.054526</td>\n",
       "    </tr>\n",
       "    <tr>\n",
       "      <th>1</th>\n",
       "      <td>conv2_2</td>\n",
       "      <td>10.0</td>\n",
       "      <td>0.115817</td>\n",
       "    </tr>\n",
       "    <tr>\n",
       "      <th>2</th>\n",
       "      <td>conv2_2</td>\n",
       "      <td>20.0</td>\n",
       "      <td>0.113986</td>\n",
       "    </tr>\n",
       "    <tr>\n",
       "      <th>3</th>\n",
       "      <td>conv2_2</td>\n",
       "      <td>50.0</td>\n",
       "      <td>0.112718</td>\n",
       "    </tr>\n",
       "    <tr>\n",
       "      <th>4</th>\n",
       "      <td>conv2_2</td>\n",
       "      <td>100.0</td>\n",
       "      <td>0.112267</td>\n",
       "    </tr>\n",
       "    <tr>\n",
       "      <th>5</th>\n",
       "      <td>conv3_4</td>\n",
       "      <td>NaN</td>\n",
       "      <td>0.058867</td>\n",
       "    </tr>\n",
       "    <tr>\n",
       "      <th>6</th>\n",
       "      <td>conv3_4</td>\n",
       "      <td>10.0</td>\n",
       "      <td>0.117543</td>\n",
       "    </tr>\n",
       "    <tr>\n",
       "      <th>7</th>\n",
       "      <td>conv3_4</td>\n",
       "      <td>20.0</td>\n",
       "      <td>0.119035</td>\n",
       "    </tr>\n",
       "    <tr>\n",
       "      <th>8</th>\n",
       "      <td>conv3_4</td>\n",
       "      <td>50.0</td>\n",
       "      <td>0.120117</td>\n",
       "    </tr>\n",
       "    <tr>\n",
       "      <th>9</th>\n",
       "      <td>conv3_4</td>\n",
       "      <td>100.0</td>\n",
       "      <td>0.120456</td>\n",
       "    </tr>\n",
       "    <tr>\n",
       "      <th>10</th>\n",
       "      <td>conv4_4</td>\n",
       "      <td>NaN</td>\n",
       "      <td>0.023521</td>\n",
       "    </tr>\n",
       "    <tr>\n",
       "      <th>11</th>\n",
       "      <td>conv4_4</td>\n",
       "      <td>10.0</td>\n",
       "      <td>0.092127</td>\n",
       "    </tr>\n",
       "  </tbody>\n",
       "</table>\n",
       "</div>"
      ],
      "text/plain": [
       "      layer  n_pcs  spearman_correlation\n",
       "0   conv2_2    NaN              0.054526\n",
       "1   conv2_2   10.0              0.115817\n",
       "2   conv2_2   20.0              0.113986\n",
       "3   conv2_2   50.0              0.112718\n",
       "4   conv2_2  100.0              0.112267\n",
       "5   conv3_4    NaN              0.058867\n",
       "6   conv3_4   10.0              0.117543\n",
       "7   conv3_4   20.0              0.119035\n",
       "8   conv3_4   50.0              0.120117\n",
       "9   conv3_4  100.0              0.120456\n",
       "10  conv4_4    NaN              0.023521\n",
       "11  conv4_4   10.0              0.092127"
      ]
     },
     "execution_count": 8,
     "metadata": {},
     "output_type": "execute_result"
    }
   ],
   "source": [
    "rsa_results_df = pd.DataFrame(rsa_results)\n",
    "rsa_results_df.head(12)"
   ]
  },
  {
   "cell_type": "code",
   "execution_count": 9,
   "id": "bf8e5c16",
   "metadata": {},
   "outputs": [
    {
     "data": {
      "text/html": [
       "<div>\n",
       "<style scoped>\n",
       "    .dataframe tbody tr th:only-of-type {\n",
       "        vertical-align: middle;\n",
       "    }\n",
       "\n",
       "    .dataframe tbody tr th {\n",
       "        vertical-align: top;\n",
       "    }\n",
       "\n",
       "    .dataframe thead th {\n",
       "        text-align: right;\n",
       "    }\n",
       "</style>\n",
       "<table border=\"1\" class=\"dataframe\">\n",
       "  <thead>\n",
       "    <tr style=\"text-align: right;\">\n",
       "      <th></th>\n",
       "      <th>layer</th>\n",
       "      <th>n_pcs</th>\n",
       "      <th>spearman_correlation</th>\n",
       "    </tr>\n",
       "  </thead>\n",
       "  <tbody>\n",
       "    <tr>\n",
       "      <th>0</th>\n",
       "      <td>conv2_2</td>\n",
       "      <td>100.0</td>\n",
       "      <td>0.112267</td>\n",
       "    </tr>\n",
       "    <tr>\n",
       "      <th>1</th>\n",
       "      <td>conv3_4</td>\n",
       "      <td>100.0</td>\n",
       "      <td>0.120456</td>\n",
       "    </tr>\n",
       "    <tr>\n",
       "      <th>2</th>\n",
       "      <td>conv4_4</td>\n",
       "      <td>100.0</td>\n",
       "      <td>0.097240</td>\n",
       "    </tr>\n",
       "    <tr>\n",
       "      <th>3</th>\n",
       "      <td>conv5_4</td>\n",
       "      <td>100.0</td>\n",
       "      <td>0.074454</td>\n",
       "    </tr>\n",
       "    <tr>\n",
       "      <th>4</th>\n",
       "      <td>fc2</td>\n",
       "      <td>100.0</td>\n",
       "      <td>0.061307</td>\n",
       "    </tr>\n",
       "  </tbody>\n",
       "</table>\n",
       "</div>"
      ],
      "text/plain": [
       "     layer  n_pcs  spearman_correlation\n",
       "0  conv2_2  100.0              0.112267\n",
       "1  conv3_4  100.0              0.120456\n",
       "2  conv4_4  100.0              0.097240\n",
       "3  conv5_4  100.0              0.074454\n",
       "4      fc2  100.0              0.061307"
      ]
     },
     "execution_count": 9,
     "metadata": {},
     "output_type": "execute_result"
    }
   ],
   "source": [
    "# The dimensionality of features varies across model layers, so normalise it by the number of PCs used\n",
    "rsa_pcs = rsa_results_df[rsa_results_df['n_pcs'] == 100].reset_index(drop=True)\n",
    "rsa_pcs"
   ]
  },
  {
   "cell_type": "code",
   "execution_count": 10,
   "id": "e88fc400",
   "metadata": {},
   "outputs": [
    {
     "data": {
      "text/html": [
       "<div>\n",
       "<style scoped>\n",
       "    .dataframe tbody tr th:only-of-type {\n",
       "        vertical-align: middle;\n",
       "    }\n",
       "\n",
       "    .dataframe tbody tr th {\n",
       "        vertical-align: top;\n",
       "    }\n",
       "\n",
       "    .dataframe thead th {\n",
       "        text-align: right;\n",
       "    }\n",
       "</style>\n",
       "<table border=\"1\" class=\"dataframe\">\n",
       "  <thead>\n",
       "    <tr style=\"text-align: right;\">\n",
       "      <th></th>\n",
       "      <th>layer</th>\n",
       "      <th>n_pcs_x</th>\n",
       "      <th>test_r2</th>\n",
       "      <th>mean_fev</th>\n",
       "      <th>n_pcs_y</th>\n",
       "      <th>spearman_correlation</th>\n",
       "    </tr>\n",
       "  </thead>\n",
       "  <tbody>\n",
       "    <tr>\n",
       "      <th>0</th>\n",
       "      <td>conv2_2</td>\n",
       "      <td>100.0</td>\n",
       "      <td>0.016430</td>\n",
       "      <td>0.110485</td>\n",
       "      <td>100.0</td>\n",
       "      <td>0.112267</td>\n",
       "    </tr>\n",
       "    <tr>\n",
       "      <th>1</th>\n",
       "      <td>conv3_4</td>\n",
       "      <td>NaN</td>\n",
       "      <td>0.014846</td>\n",
       "      <td>0.104921</td>\n",
       "      <td>100.0</td>\n",
       "      <td>0.120456</td>\n",
       "    </tr>\n",
       "    <tr>\n",
       "      <th>2</th>\n",
       "      <td>conv4_4</td>\n",
       "      <td>NaN</td>\n",
       "      <td>0.014912</td>\n",
       "      <td>0.132074</td>\n",
       "      <td>100.0</td>\n",
       "      <td>0.097240</td>\n",
       "    </tr>\n",
       "    <tr>\n",
       "      <th>3</th>\n",
       "      <td>conv5_4</td>\n",
       "      <td>NaN</td>\n",
       "      <td>0.009110</td>\n",
       "      <td>0.100818</td>\n",
       "      <td>100.0</td>\n",
       "      <td>0.074454</td>\n",
       "    </tr>\n",
       "    <tr>\n",
       "      <th>4</th>\n",
       "      <td>fc2</td>\n",
       "      <td>NaN</td>\n",
       "      <td>0.008360</td>\n",
       "      <td>0.099842</td>\n",
       "      <td>100.0</td>\n",
       "      <td>0.061307</td>\n",
       "    </tr>\n",
       "  </tbody>\n",
       "</table>\n",
       "</div>"
      ],
      "text/plain": [
       "     layer  n_pcs_x   test_r2  mean_fev  n_pcs_y  spearman_correlation\n",
       "0  conv2_2    100.0  0.016430  0.110485    100.0              0.112267\n",
       "1  conv3_4      NaN  0.014846  0.104921    100.0              0.120456\n",
       "2  conv4_4      NaN  0.014912  0.132074    100.0              0.097240\n",
       "3  conv5_4      NaN  0.009110  0.100818    100.0              0.074454\n",
       "4      fc2      NaN  0.008360  0.099842    100.0              0.061307"
      ]
     },
     "execution_count": 10,
     "metadata": {},
     "output_type": "execute_result"
    }
   ],
   "source": [
    "merged_results = pd.merge(best_fev_per_layer, rsa_pcs, on='layer')\n",
    "merged_results"
   ]
  },
  {
   "cell_type": "code",
   "execution_count": 11,
   "id": "7f921ee5",
   "metadata": {},
   "outputs": [
    {
     "data": {
      "image/png": "[encoded data removed]",
      "text/plain": [
       "<Figure size 1000x600 with 1 Axes>"
      ]
     },
     "metadata": {},
     "output_type": "display_data"
    }
   ],
   "source": [
    "colours = merged_results['layer'].map(vgg19_colours)\n",
    "\n",
    "plt.figure(figsize=(10, 6))\n",
    "plt.scatter(merged_results['spearman_correlation'], merged_results['mean_fev'], c=colours)\n",
    "\n",
    "texts = []\n",
    "for _, row in merged_results.iterrows():\n",
    "    texts.append(\n",
    "        plt.text(row['spearman_correlation'], row['mean_fev'], row['layer'],\n",
    "                 color=vgg19_colours[row['layer']], fontsize=10)\n",
    "    )\n",
    "\n",
    "adjust_text(texts, arrowprops=dict(arrowstyle='-', color='gray'))\n",
    "\n",
    "plt.xlabel('RSA (Spearman Correlation)')\n",
    "plt.ylabel('Mean FEV')\n",
    "plt.title('VGG19 Layers: RSA vs. Predictive Power (Neural Data)')\n",
    "plt.grid(True)\n",
    "plt.tight_layout()\n",
    "plt.show()"
   ]
  }
 ],
 "metadata": {
  "kernelspec": {
   "display_name": "myenv",
   "language": "python",
   "name": "python3"
  },
  "language_info": {
   "codemirror_mode": {
    "name": "ipython",
    "version": 3
   },
   "file_extension": ".py",
   "mimetype": "text/x-python",
   "name": "python",
   "nbconvert_exporter": "python",
   "pygments_lexer": "ipython3",
   "version": "3.11.4"
  }
 },
 "nbformat": 4,
 "nbformat_minor": 5
}
