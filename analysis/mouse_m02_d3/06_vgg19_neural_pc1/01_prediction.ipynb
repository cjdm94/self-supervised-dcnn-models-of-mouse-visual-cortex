{
 "cells": [
  {
   "cell_type": "markdown",
   "id": "2672d7e5",
   "metadata": {},
   "source": [
    "# Prediction\n",
    "\n",
    "- **Mouse ID**: m02_d3\n",
    "- **Predicting**: PC1 neural data\n",
    "- **Predictor**: VGG19 layerwise features (reduced to various numbers of PCs)\n",
    "- **Plotting**: VGG19 layerwise mean FEV vs. number of feats PCs used (line)\n",
    "- **Plotting**: VGG19 mean FEV for each layer with best performing number of PCs (bar)"
   ]
  },
  {
   "cell_type": "code",
   "execution_count": 1,
   "id": "66091cb3",
   "metadata": {},
   "outputs": [],
   "source": [
    "from cortexlib.utils import file as futils\n",
    "from cortexlib.mouse import CortexlabMouse\n",
    "from cortexlib.images import CortexlabImages\n",
    "from cortexlib.vgg19 import PreTrainedVGG19Model, PoolingMode\n",
    "from cortexlib.predictor import NeuralResponsePredictor\n",
    "from cortexlib.utils.plotting import vgg19_colours\n",
    "from cortexlib.utils.random import set_global_seed\n",
    "from cortexlib.utils.logging import Logger\n",
    "import matplotlib.pyplot as plt\n",
    "import pandas as pd\n",
    "\n",
    "logger = Logger()\n",
    "set_global_seed()"
   ]
  },
  {
   "cell_type": "code",
   "execution_count": 2,
   "id": "6457894f",
   "metadata": {},
   "outputs": [
    {
     "name": "stderr",
     "output_type": "stream",
     "text": [
      "\u001b[1;37m17:29:00 | INFO     | ℹ️ This notebook is running for mouse m02_d3\u001b[0m\n"
     ]
    }
   ],
   "source": [
    "MOUSE_ID = futils.get_mouse_id()\n",
    "logger.info(f\"This notebook is running for mouse {MOUSE_ID}\")"
   ]
  },
  {
   "cell_type": "code",
   "execution_count": 3,
   "id": "4360dedb",
   "metadata": {},
   "outputs": [
    {
     "name": "stderr",
     "output_type": "stream",
     "text": [
      "\u001b[1;37m17:29:01 | INFO     | ⏳ Computing null distributions for all neurons in mouse m02_d3...\u001b[0m\n",
      "\u001b[1;32m17:29:33 | SUCCESS  | ✅ Null distributions computed!\u001b[0m\n",
      "\u001b[1;37m17:29:33 | INFO     | ℹ️ Neural responses shape: (1585, 2, 500)\u001b[0m\n"
     ]
    }
   ],
   "source": [
    "mouse = CortexlabMouse(mouse_id=MOUSE_ID)\n",
    "\n",
    "logger.progress(f\"Computing null distributions for all neurons in mouse {mouse.id}\")\n",
    "null_srv_all_neurons = mouse.compute_null_all_neurons(n_shuffles=100)\n",
    "logger.success(f\"Null distributions computed\")\n",
    "\n",
    "real_srv_all_neurons = mouse.compute_real_srv_all_neurons()\n",
    "reliable_neuron_indices = mouse.get_reliable_neuron_indices(\n",
    "            null_srv_all_neurons, real_srv_all_neurons, percentile_threshold=99)\n",
    "neural_responses_mean, neural_responses, _ = mouse.get_responses_for_reliable_neurons(reliable_neuron_indices, real_srv_all_neurons, num_neurons=500)\n",
    "\n",
    "logger.info(f\"Neural responses shape: {neural_responses.shape}\")"
   ]
  },
  {
   "cell_type": "code",
   "execution_count": 4,
   "id": "6ff4a36a",
   "metadata": {},
   "outputs": [
    {
     "name": "stderr",
     "output_type": "stream",
     "text": [
      "\u001b[1;37m17:29:33 | INFO     | ℹ️ Skipping save, file already exists at /Users/callummessiter/workspace/msc-neuro/research-project/analysis/mouse_m02_d3/_neural_data/neural_data_mouse_m02_d3.pt\u001b[0m\n"
     ]
    }
   ],
   "source": [
    "futils.save_filtered_neural_data(\n",
    "    mouse_id=mouse.id,\n",
    "    neural_responses=neural_responses,\n",
    "    neural_responses_mean=neural_responses_mean)"
   ]
  },
  {
   "cell_type": "code",
   "execution_count": 5,
   "id": "897fd22d",
   "metadata": {},
   "outputs": [
    {
     "name": "stderr",
     "output_type": "stream",
     "text": [
      "/Users/callummessiter/workspace/msc-neuro/research-project/myenv/lib/python3.11/site-packages/torchvision/models/_utils.py:208: UserWarning: The parameter 'pretrained' is deprecated since 0.13 and may be removed in the future, please use 'weights' instead.\n",
      "  warnings.warn(\n",
      "/Users/callummessiter/workspace/msc-neuro/research-project/myenv/lib/python3.11/site-packages/torchvision/models/_utils.py:223: UserWarning: Arguments other than a weight enum or `None` for 'weights' are deprecated since 0.13 and may be removed in the future. The current behavior is equivalent to passing `weights=VGG19_Weights.IMAGENET1K_V1`. You can also use `weights=VGG19_Weights.DEFAULT` to get the most up-to-date weights.\n",
      "  warnings.warn(msg)\n",
      "\u001b[1;37m17:29:34 | INFO     | ⏳ Loading and preprocessing images shown to mouse...\u001b[0m\n",
      "\u001b[1;32m17:29:48 | SUCCESS  | ✅ Images processed!\u001b[0m\n"
     ]
    }
   ],
   "source": [
    "vgg19 = PreTrainedVGG19Model(pooling_mode=PoolingMode.AVGPOOL)\n",
    "\n",
    "settings = vgg19.get_image_settings()\n",
    "images = CortexlabImages(\n",
    "    size=settings['size'],\n",
    "    channels=settings['channels'],\n",
    "    normalise_mean=settings['mean'], \n",
    "    normalise_std=settings['std'],\n",
    "    rescale_per_image=settings['rescale_per_image'],\n",
    ")\n",
    "\n",
    "logger.progress(\"Loading and preprocessing images shown to mouse\")\n",
    "image_dataset = images.load_images_shown_to_mouse(mouse.image_ids)\n",
    "logger.success(\"Images processed\")"
   ]
  },
  {
   "cell_type": "code",
   "execution_count": 6,
   "id": "c967cae7",
   "metadata": {},
   "outputs": [
    {
     "name": "stderr",
     "output_type": "stream",
     "text": [
      "\u001b[1;37m17:29:48 | INFO     | ⏳ VGG19: extracting features from images shown to mouse...\u001b[0m\n"
     ]
    },
    {
     "data": {
      "application/vnd.jupyter.widget-view+json": {
       "model_id": "67efaa35305f42dea8af3ae1a11339d9",
       "version_major": 2,
       "version_minor": 0
      },
      "text/plain": [
       "  0%|          | 0/100 [00:00<?, ?it/s]"
      ]
     },
     "metadata": {},
     "output_type": "display_data"
    },
    {
     "name": "stderr",
     "output_type": "stream",
     "text": [
      "\u001b[1;32m17:33:22 | SUCCESS  | ✅ VGG19 features extracted!\u001b[0m\n",
      "\u001b[1;37m17:33:22 | INFO     | ℹ️ conv2_2 feats shape: (1585, 128)\u001b[0m\n",
      "\u001b[1;37m17:33:22 | INFO     | ℹ️ conv3_4 feats shape: (1585, 256)\u001b[0m\n",
      "\u001b[1;37m17:33:22 | INFO     | ℹ️ conv4_4 feats shape: (1585, 512)\u001b[0m\n",
      "\u001b[1;37m17:33:22 | INFO     | ℹ️ conv5_4 feats shape: (1585, 512)\u001b[0m\n",
      "\u001b[1;37m17:33:22 | INFO     | ℹ️ fc2 feats shape: (1585, 4096)\u001b[0m\n"
     ]
    }
   ],
   "source": [
    "logger.progress(\"VGG19: extracting features from images shown to mouse\")\n",
    "vgg19_feats, labels = vgg19.extract_features_with_pooling(image_dataset)\n",
    "logger.success(\"VGG19 features extracted\")\n",
    "\n",
    "for layer, feats in vgg19_feats.items():\n",
    "    logger.info(f\"{layer} feats shape: {tuple(feats.shape)}\")"
   ]
  },
  {
   "cell_type": "code",
   "execution_count": 7,
   "id": "d61ee23c",
   "metadata": {},
   "outputs": [
    {
     "name": "stderr",
     "output_type": "stream",
     "text": [
      "\u001b[1;37m17:33:22 | INFO     | ℹ️ Skipping save, file already exists at /Users/callummessiter/workspace/msc-neuro/research-project/analysis/mouse_m02_d3/_model_features/vgg19_features_mouse_m02_d3.pt\u001b[0m\n"
     ]
    }
   ],
   "source": [
    "futils.save_model_features(model=futils.Model.VGG19, mouse_id=mouse.id, features=vgg19_feats, labels=labels)"
   ]
  },
  {
   "cell_type": "code",
   "execution_count": 8,
   "id": "496a5097",
   "metadata": {},
   "outputs": [
    {
     "name": "stderr",
     "output_type": "stream",
     "text": [
      "\u001b[1;37m17:33:22 | INFO     | ⏳ Computing test/train split for regression: VGG19 Feats => Neural Data...\u001b[0m\n",
      "\u001b[1;32m17:33:22 | SUCCESS  | ✅ Computed train/test split!\u001b[0m\n"
     ]
    }
   ],
   "source": [
    "# Compute test-train split indexes just once - and apply both to all layers\n",
    "logger.progress(\"Computing test/train split for regression: VGG19 Feats => Neural Data\")\n",
    "\n",
    "num_images = vgg19_feats['conv2_2'].shape[0]\n",
    "split = NeuralResponsePredictor.get_train_test_indexes(num_images)\n",
    "logger.success(f\"Computed train/test split\")"
   ]
  },
  {
   "cell_type": "code",
   "execution_count": 9,
   "id": "ad6b86a4",
   "metadata": {},
   "outputs": [
    {
     "name": "stderr",
     "output_type": "stream",
     "text": [
      "\u001b[1;37m17:33:22 | INFO     | ⏳ Running regressions: VGG19 Feats => Neural Data...\u001b[0m\n",
      "\u001b[1;37m17:33:22 | INFO     | ⏳ VGG19 conv2_2...\u001b[0m\n",
      "\u001b[1;37m17:33:24 | INFO     | ⏳ VGG19 conv3_4...\u001b[0m\n",
      "\u001b[1;37m17:33:25 | INFO     | ⏳ VGG19 conv4_4...\u001b[0m\n",
      "\u001b[1;37m17:33:27 | INFO     | ⏳ VGG19 conv5_4...\u001b[0m\n",
      "\u001b[1;37m17:33:31 | INFO     | ⏳ VGG19 fc2...\u001b[0m\n"
     ]
    }
   ],
   "source": [
    "fev_results = []\n",
    "\n",
    "logger.progress(\"Running regressions: VGG19 Feats => Neural Data\")\n",
    "for layer, feats in vgg19_feats.items():\n",
    "    logger.progress(f\"VGG19 {layer}\")\n",
    "    \n",
    "    for n_pcs in [None, 10, 20, 50, 100]:\n",
    "        predictor = NeuralResponsePredictor(\n",
    "            reduce_image_representation_to_n_pcs=n_pcs,\n",
    "            neural_data_pc_index=0,\n",
    "            train_idx=split['train_idx'],\n",
    "            test_idx=split['test_idx'],\n",
    "        )\n",
    "        fev = predictor.compute_fev(feats, neural_responses)\n",
    "\n",
    "        fev_results.append({\n",
    "            'layer': layer,\n",
    "            'n_pcs': n_pcs,\n",
    "            'test_r2': fev['test_r2'],\n",
    "            'mean_fev': fev['mean_fev']\n",
    "        })"
   ]
  },
  {
   "cell_type": "code",
   "execution_count": 10,
   "id": "dceacf6c",
   "metadata": {},
   "outputs": [],
   "source": [
    "futils.write_json_file(fev_results, f'./prediction.json')"
   ]
  },
  {
   "cell_type": "code",
   "execution_count": 11,
   "id": "a9e59a56",
   "metadata": {},
   "outputs": [
    {
     "data": {
      "text/html": [
       "<div>\n",
       "<style scoped>\n",
       "    .dataframe tbody tr th:only-of-type {\n",
       "        vertical-align: middle;\n",
       "    }\n",
       "\n",
       "    .dataframe tbody tr th {\n",
       "        vertical-align: top;\n",
       "    }\n",
       "\n",
       "    .dataframe thead th {\n",
       "        text-align: right;\n",
       "    }\n",
       "</style>\n",
       "<table border=\"1\" class=\"dataframe\">\n",
       "  <thead>\n",
       "    <tr style=\"text-align: right;\">\n",
       "      <th></th>\n",
       "      <th>layer</th>\n",
       "      <th>n_pcs</th>\n",
       "      <th>test_r2</th>\n",
       "      <th>mean_fev</th>\n",
       "    </tr>\n",
       "  </thead>\n",
       "  <tbody>\n",
       "    <tr>\n",
       "      <th>0</th>\n",
       "      <td>conv2_2</td>\n",
       "      <td>NaN</td>\n",
       "      <td>0.447306</td>\n",
       "      <td>0.487704</td>\n",
       "    </tr>\n",
       "    <tr>\n",
       "      <th>1</th>\n",
       "      <td>conv2_2</td>\n",
       "      <td>10.0</td>\n",
       "      <td>0.412609</td>\n",
       "      <td>0.450138</td>\n",
       "    </tr>\n",
       "    <tr>\n",
       "      <th>2</th>\n",
       "      <td>conv2_2</td>\n",
       "      <td>20.0</td>\n",
       "      <td>0.427838</td>\n",
       "      <td>0.466627</td>\n",
       "    </tr>\n",
       "    <tr>\n",
       "      <th>3</th>\n",
       "      <td>conv2_2</td>\n",
       "      <td>50.0</td>\n",
       "      <td>0.445965</td>\n",
       "      <td>0.486252</td>\n",
       "    </tr>\n",
       "    <tr>\n",
       "      <th>4</th>\n",
       "      <td>conv2_2</td>\n",
       "      <td>100.0</td>\n",
       "      <td>0.447271</td>\n",
       "      <td>0.487665</td>\n",
       "    </tr>\n",
       "    <tr>\n",
       "      <th>5</th>\n",
       "      <td>conv3_4</td>\n",
       "      <td>NaN</td>\n",
       "      <td>0.430649</td>\n",
       "      <td>0.469670</td>\n",
       "    </tr>\n",
       "    <tr>\n",
       "      <th>6</th>\n",
       "      <td>conv3_4</td>\n",
       "      <td>10.0</td>\n",
       "      <td>0.405312</td>\n",
       "      <td>0.442239</td>\n",
       "    </tr>\n",
       "    <tr>\n",
       "      <th>7</th>\n",
       "      <td>conv3_4</td>\n",
       "      <td>20.0</td>\n",
       "      <td>0.424823</td>\n",
       "      <td>0.463362</td>\n",
       "    </tr>\n",
       "    <tr>\n",
       "      <th>8</th>\n",
       "      <td>conv3_4</td>\n",
       "      <td>50.0</td>\n",
       "      <td>0.421515</td>\n",
       "      <td>0.459781</td>\n",
       "    </tr>\n",
       "    <tr>\n",
       "      <th>9</th>\n",
       "      <td>conv3_4</td>\n",
       "      <td>100.0</td>\n",
       "      <td>0.429703</td>\n",
       "      <td>0.468646</td>\n",
       "    </tr>\n",
       "    <tr>\n",
       "      <th>10</th>\n",
       "      <td>conv4_4</td>\n",
       "      <td>NaN</td>\n",
       "      <td>0.401695</td>\n",
       "      <td>0.438322</td>\n",
       "    </tr>\n",
       "    <tr>\n",
       "      <th>11</th>\n",
       "      <td>conv4_4</td>\n",
       "      <td>10.0</td>\n",
       "      <td>0.381986</td>\n",
       "      <td>0.416985</td>\n",
       "    </tr>\n",
       "  </tbody>\n",
       "</table>\n",
       "</div>"
      ],
      "text/plain": [
       "      layer  n_pcs   test_r2  mean_fev\n",
       "0   conv2_2    NaN  0.447306  0.487704\n",
       "1   conv2_2   10.0  0.412609  0.450138\n",
       "2   conv2_2   20.0  0.427838  0.466627\n",
       "3   conv2_2   50.0  0.445965  0.486252\n",
       "4   conv2_2  100.0  0.447271  0.487665\n",
       "5   conv3_4    NaN  0.430649  0.469670\n",
       "6   conv3_4   10.0  0.405312  0.442239\n",
       "7   conv3_4   20.0  0.424823  0.463362\n",
       "8   conv3_4   50.0  0.421515  0.459781\n",
       "9   conv3_4  100.0  0.429703  0.468646\n",
       "10  conv4_4    NaN  0.401695  0.438322\n",
       "11  conv4_4   10.0  0.381986  0.416985"
      ]
     },
     "execution_count": 11,
     "metadata": {},
     "output_type": "execute_result"
    }
   ],
   "source": [
    "fev_results_df = pd.DataFrame(fev_results)\n",
    "fev_results_df.head(12)"
   ]
  },
  {
   "cell_type": "code",
   "execution_count": 12,
   "id": "2ac0bf65",
   "metadata": {},
   "outputs": [
    {
     "data": {
      "image/png": "[encoded data removed]",
      "text/plain": [
       "<Figure size 1000x600 with 1 Axes>"
      ]
     },
     "metadata": {},
     "output_type": "display_data"
    }
   ],
   "source": [
    "plt.figure(figsize=(10, 6))\n",
    "\n",
    "for layer in fev_results_df['layer'].unique():\n",
    "    layer_results = fev_results_df[fev_results_df['layer'] == layer]\n",
    "    plt.plot(layer_results['n_pcs'], layer_results['mean_fev'], marker='o', color=vgg19_colours[layer], label=layer)\n",
    "\n",
    "plt.xlabel('Number of Principal Components')\n",
    "plt.ylabel('Mean FEV')\n",
    "plt.title('Mean FEV vs Number of PCs for VGG19 Layers')\n",
    "plt.legend(title='Layer')\n",
    "plt.grid(True)\n",
    "plt.tight_layout()\n",
    "plt.show()"
   ]
  },
  {
   "cell_type": "code",
   "execution_count": 13,
   "id": "bb6a2323",
   "metadata": {},
   "outputs": [
    {
     "data": {
      "text/html": [
       "<div>\n",
       "<style scoped>\n",
       "    .dataframe tbody tr th:only-of-type {\n",
       "        vertical-align: middle;\n",
       "    }\n",
       "\n",
       "    .dataframe tbody tr th {\n",
       "        vertical-align: top;\n",
       "    }\n",
       "\n",
       "    .dataframe thead th {\n",
       "        text-align: right;\n",
       "    }\n",
       "</style>\n",
       "<table border=\"1\" class=\"dataframe\">\n",
       "  <thead>\n",
       "    <tr style=\"text-align: right;\">\n",
       "      <th></th>\n",
       "      <th>layer</th>\n",
       "      <th>n_pcs</th>\n",
       "      <th>test_r2</th>\n",
       "      <th>mean_fev</th>\n",
       "    </tr>\n",
       "  </thead>\n",
       "  <tbody>\n",
       "    <tr>\n",
       "      <th>0</th>\n",
       "      <td>conv2_2</td>\n",
       "      <td>NaN</td>\n",
       "      <td>0.447306</td>\n",
       "      <td>0.487704</td>\n",
       "    </tr>\n",
       "    <tr>\n",
       "      <th>5</th>\n",
       "      <td>conv3_4</td>\n",
       "      <td>NaN</td>\n",
       "      <td>0.430649</td>\n",
       "      <td>0.469670</td>\n",
       "    </tr>\n",
       "    <tr>\n",
       "      <th>10</th>\n",
       "      <td>conv4_4</td>\n",
       "      <td>NaN</td>\n",
       "      <td>0.401695</td>\n",
       "      <td>0.438322</td>\n",
       "    </tr>\n",
       "    <tr>\n",
       "      <th>15</th>\n",
       "      <td>conv5_4</td>\n",
       "      <td>NaN</td>\n",
       "      <td>0.300184</td>\n",
       "      <td>0.328422</td>\n",
       "    </tr>\n",
       "    <tr>\n",
       "      <th>20</th>\n",
       "      <td>fc2</td>\n",
       "      <td>NaN</td>\n",
       "      <td>0.305729</td>\n",
       "      <td>0.334424</td>\n",
       "    </tr>\n",
       "  </tbody>\n",
       "</table>\n",
       "</div>"
      ],
      "text/plain": [
       "      layer  n_pcs   test_r2  mean_fev\n",
       "0   conv2_2    NaN  0.447306  0.487704\n",
       "5   conv3_4    NaN  0.430649  0.469670\n",
       "10  conv4_4    NaN  0.401695  0.438322\n",
       "15  conv5_4    NaN  0.300184  0.328422\n",
       "20      fc2    NaN  0.305729  0.334424"
      ]
     },
     "execution_count": 13,
     "metadata": {},
     "output_type": "execute_result"
    }
   ],
   "source": [
    "best_fev_per_layer = fev_results_df.loc[fev_results_df.groupby(\"layer\")[\"mean_fev\"].idxmax()]\n",
    "best_fev_per_layer"
   ]
  },
  {
   "cell_type": "code",
   "execution_count": 14,
   "id": "a7e62384",
   "metadata": {},
   "outputs": [
    {
     "data": {
      "image/png": "[encoded data removed]",
      "text/plain": [
       "<Figure size 800x500 with 1 Axes>"
      ]
     },
     "metadata": {},
     "output_type": "display_data"
    }
   ],
   "source": [
    "desired_order = vgg19_feats.keys()\n",
    "best_fev_per_layer = best_fev_per_layer.set_index(\"layer\").loc[desired_order].reset_index()\n",
    "layers = [row[\"layer\"] for _, row in best_fev_per_layer.iterrows()]\n",
    "mean_fevs = [row[\"mean_fev\"] for _, row in best_fev_per_layer.iterrows()]\n",
    "\n",
    "colors = [vgg19_colours[layer] for layer in layers]\n",
    "\n",
    "plt.figure(figsize=(8, 5))\n",
    "plt.bar(layers, mean_fevs, color=colors)\n",
    "plt.ylabel(\"Mean FEV\")\n",
    "plt.xlabel(\"VGG19 Layer\")\n",
    "plt.title(\"Raw Neural Data: Mean FEV per Layer\")\n",
    "plt.xticks(rotation=45)\n",
    "plt.tight_layout()\n",
    "plt.show()"
   ]
  }
 ],
 "metadata": {
  "kernelspec": {
   "display_name": "myenv",
   "language": "python",
   "name": "python3"
  },
  "language_info": {
   "codemirror_mode": {
    "name": "ipython",
    "version": 3
   },
   "file_extension": ".py",
   "mimetype": "text/x-python",
   "name": "python",
   "nbconvert_exporter": "python",
   "pygments_lexer": "ipython3",
   "version": "3.11.4"
  }
 },
 "nbformat": 4,
 "nbformat_minor": 5
}
