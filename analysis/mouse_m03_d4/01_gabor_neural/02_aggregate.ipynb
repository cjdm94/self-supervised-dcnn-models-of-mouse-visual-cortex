{
 "cells": [
  {
   "cell_type": "code",
   "execution_count": 1,
   "id": "83ff8ddd",
   "metadata": {},
   "outputs": [
    {
     "name": "stderr",
     "output_type": "stream",
     "text": [
      "\u001b[1;37m13:35:20 | INFO     | ℹ️ Saving aggregated results for mouse m03_d4, model-target gabor_neural\u001b[0m\n"
     ]
    }
   ],
   "source": [
    "from cortexlib.utils.aggregate import aggregate_results_gabor\n",
    "\n",
    "aggregate_results_gabor()"
   ]
  }
 ],
 "metadata": {
  "kernelspec": {
   "display_name": "myenv",
   "language": "python",
   "name": "python3"
  },
  "language_info": {
   "codemirror_mode": {
    "name": "ipython",
    "version": 3
   },
   "file_extension": ".py",
   "mimetype": "text/x-python",
   "name": "python",
   "nbconvert_exporter": "python",
   "pygments_lexer": "ipython3",
   "version": "3.11.4"
  }
 },
 "nbformat": 4,
 "nbformat_minor": 5
}
