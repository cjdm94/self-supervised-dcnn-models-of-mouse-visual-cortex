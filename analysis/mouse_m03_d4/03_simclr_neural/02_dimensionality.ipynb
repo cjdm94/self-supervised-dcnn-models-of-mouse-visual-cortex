{
 "cells": [
  {
   "cell_type": "markdown",
   "id": "e8434b4e",
   "metadata": {},
   "source": [
    "# FEV vs. Alpha Analysis\n",
    "\n",
    "For each SimCLR layer, this notebook plots **mean FEV** vs. **alpha** (where alpha is the slope of the log–log PCA variance spectrum).\n",
    "\n",
    "- **Mean FEV** is taken from the regression: SimCLR features (reduced to N PCs) → Neural data (original dimensionality)\n",
    "\n",
    "- For each layer, we select the **best FEV** (i.e., highest across PC counts)"
   ]
  },
  {
   "cell_type": "code",
   "execution_count": 1,
   "id": "0e376885",
   "metadata": {},
   "outputs": [],
   "source": [
    "from cortexlib.power_law import PowerLawAlphaEstimator\n",
    "from cortexlib.utils import file as futils\n",
    "from cortexlib.utils.logging import Logger\n",
    "from cortexlib.utils.random import set_global_seed\n",
    "from cortexlib.utils.plotting import simclr_colours\n",
    "from adjustText import adjust_text\n",
    "import matplotlib.pyplot as plt\n",
    "from tqdm.notebook import tqdm\n",
    "import pandas as pd\n",
    "\n",
    "logger = Logger()\n",
    "set_global_seed()"
   ]
  },
  {
   "cell_type": "code",
   "execution_count": 2,
   "id": "fadab960",
   "metadata": {},
   "outputs": [
    {
     "name": "stderr",
     "output_type": "stream",
     "text": [
      "\u001b[1;37m15:39:07 | INFO     | ℹ️ This notebook is running for mouse m03_d4\u001b[0m\n"
     ]
    }
   ],
   "source": [
    "MOUSE_ID = futils.get_mouse_id()\n",
    "logger.info(f\"This notebook is running for mouse {MOUSE_ID}\")"
   ]
  },
  {
   "cell_type": "code",
   "execution_count": 3,
   "id": "ae679916",
   "metadata": {},
   "outputs": [
    {
     "data": {
      "text/html": [
       "<div>\n",
       "<style scoped>\n",
       "    .dataframe tbody tr th:only-of-type {\n",
       "        vertical-align: middle;\n",
       "    }\n",
       "\n",
       "    .dataframe tbody tr th {\n",
       "        vertical-align: top;\n",
       "    }\n",
       "\n",
       "    .dataframe thead th {\n",
       "        text-align: right;\n",
       "    }\n",
       "</style>\n",
       "<table border=\"1\" class=\"dataframe\">\n",
       "  <thead>\n",
       "    <tr style=\"text-align: right;\">\n",
       "      <th></th>\n",
       "      <th>layer</th>\n",
       "      <th>n_pcs</th>\n",
       "      <th>test_r2</th>\n",
       "      <th>mean_fev</th>\n",
       "    </tr>\n",
       "  </thead>\n",
       "  <tbody>\n",
       "    <tr>\n",
       "      <th>37</th>\n",
       "      <td>fc</td>\n",
       "      <td>10.0</td>\n",
       "      <td>0.017885</td>\n",
       "      <td>0.112667</td>\n",
       "    </tr>\n",
       "    <tr>\n",
       "      <th>2</th>\n",
       "      <td>layer1</td>\n",
       "      <td>20.0</td>\n",
       "      <td>0.026393</td>\n",
       "      <td>0.126966</td>\n",
       "    </tr>\n",
       "    <tr>\n",
       "      <th>9</th>\n",
       "      <td>layer2</td>\n",
       "      <td>NaN</td>\n",
       "      <td>0.030758</td>\n",
       "      <td>0.177962</td>\n",
       "    </tr>\n",
       "    <tr>\n",
       "      <th>18</th>\n",
       "      <td>layer3</td>\n",
       "      <td>NaN</td>\n",
       "      <td>0.036175</td>\n",
       "      <td>0.157423</td>\n",
       "    </tr>\n",
       "    <tr>\n",
       "      <th>27</th>\n",
       "      <td>layer4</td>\n",
       "      <td>NaN</td>\n",
       "      <td>0.022729</td>\n",
       "      <td>0.112540</td>\n",
       "    </tr>\n",
       "  </tbody>\n",
       "</table>\n",
       "</div>"
      ],
      "text/plain": [
       "     layer  n_pcs   test_r2  mean_fev\n",
       "37      fc   10.0  0.017885  0.112667\n",
       "2   layer1   20.0  0.026393  0.126966\n",
       "9   layer2    NaN  0.030758  0.177962\n",
       "18  layer3    NaN  0.036175  0.157423\n",
       "27  layer4    NaN  0.022729  0.112540"
      ]
     },
     "execution_count": 3,
     "metadata": {},
     "output_type": "execute_result"
    }
   ],
   "source": [
    "fev_results = futils.read_json_file_as_dataframe('./prediction.json')\n",
    "best_fev_per_layer = fev_results.loc[fev_results.groupby(\"layer\")[\"mean_fev\"].idxmax()]\n",
    "\n",
    "best_fev_per_layer"
   ]
  },
  {
   "cell_type": "code",
   "execution_count": 4,
   "id": "914a3db7",
   "metadata": {},
   "outputs": [
    {
     "name": "stderr",
     "output_type": "stream",
     "text": [
      "\u001b[1;37m15:39:07 | INFO     | ℹ️ Loading model features from /Users/callummessiter/workspace/msc-neuro/research-project/analysis/mouse_m03_d4/_model_features/simclr_features_mouse_m03_d4.pt\u001b[0m\n"
     ]
    }
   ],
   "source": [
    "simclr_data = futils.load_model_features(futils.Model.SIMCLR, MOUSE_ID)\n",
    "simclr_feats = simclr_data['features']"
   ]
  },
  {
   "cell_type": "code",
   "execution_count": 5,
   "id": "d7e9cd87",
   "metadata": {},
   "outputs": [
    {
     "name": "stderr",
     "output_type": "stream",
     "text": [
      "\u001b[1;37m15:39:07 | INFO     | ⏳ Computing α for SimCLR features across layers...\u001b[0m\n"
     ]
    },
    {
     "data": {
      "application/vnd.jupyter.widget-view+json": {
       "model_id": "a565568fdda84f65af54161cdbf32958",
       "version_major": 2,
       "version_minor": 0
      },
      "text/plain": [
       "α for all SimCLR layers:   0%|          | 0/5 [00:00<?, ?it/s]"
      ]
     },
     "metadata": {},
     "output_type": "display_data"
    },
    {
     "name": "stderr",
     "output_type": "stream",
     "text": [
      "\u001b[1;37m15:39:07 | INFO     | ⏳ SimCLR layer1...\u001b[0m\n"
     ]
    },
    {
     "name": "stdout",
     "output_type": "stream",
     "text": [
      "xmin progress: 32%\r"
     ]
    },
    {
     "name": "stderr",
     "output_type": "stream",
     "text": [
      "\u001b[1;37m15:39:19 | INFO     | ⏳ SimCLR layer2...\u001b[0m\n"
     ]
    },
    {
     "name": "stdout",
     "output_type": "stream",
     "text": [
      "xmin progress: 32%\r"
     ]
    },
    {
     "name": "stderr",
     "output_type": "stream",
     "text": [
      "\u001b[1;37m15:39:25 | INFO     | ⏳ SimCLR layer3...\u001b[0m\n"
     ]
    },
    {
     "name": "stdout",
     "output_type": "stream",
     "text": [
      "xmin progress: 33%\r"
     ]
    },
    {
     "name": "stderr",
     "output_type": "stream",
     "text": [
      "\u001b[1;37m15:39:28 | INFO     | ⏳ SimCLR layer4...\u001b[0m\n"
     ]
    },
    {
     "name": "stdout",
     "output_type": "stream",
     "text": [
      "xmin progress: 28%\r"
     ]
    },
    {
     "name": "stderr",
     "output_type": "stream",
     "text": [
      "\u001b[1;37m15:39:30 | INFO     | ⏳ SimCLR fc...\u001b[0m\n"
     ]
    },
    {
     "name": "stdout",
     "output_type": "stream",
     "text": [
      "xmin progress: 76%\r"
     ]
    },
    {
     "name": "stderr",
     "output_type": "stream",
     "text": [
      "\u001b[1;32m15:39:30 | SUCCESS  | ✅ Alphas computed!\u001b[0m\n"
     ]
    },
    {
     "name": "stdout",
     "output_type": "stream",
     "text": [
      "xmin progress: 99%\r"
     ]
    }
   ],
   "source": [
    "power_law_alpha_estimator = PowerLawAlphaEstimator()\n",
    "\n",
    "alpha_results = []\n",
    "\n",
    "logger.progress(f\"Computing α for SimCLR features across layers\")\n",
    "for layer, feats in tqdm(simclr_feats.items(), desc=\"α for all SimCLR layers\"):\n",
    "    logger.progress(f\"SimCLR {layer}\")\n",
    "    \n",
    "    feats = feats if feats.dim() <= 2 else feats.view(feats.size(0), -1)\n",
    "    alpha = power_law_alpha_estimator.compute_alpha(feats)\n",
    "\n",
    "    alpha_results.append({\n",
    "        'layer': layer,\n",
    "        'alpha': alpha['alpha'],\n",
    "        'alpha_no_pc1': alpha['alpha_no_pc1'],\n",
    "    })\n",
    "\n",
    "logger.success(f\"Alphas computed\")"
   ]
  },
  {
   "cell_type": "code",
   "execution_count": 6,
   "id": "69c27bfc",
   "metadata": {},
   "outputs": [],
   "source": [
    "futils.write_json_file(alpha_results, './dimensionality.json')"
   ]
  },
  {
   "cell_type": "code",
   "execution_count": 7,
   "id": "38b55293",
   "metadata": {},
   "outputs": [
    {
     "data": {
      "text/html": [
       "<div>\n",
       "<style scoped>\n",
       "    .dataframe tbody tr th:only-of-type {\n",
       "        vertical-align: middle;\n",
       "    }\n",
       "\n",
       "    .dataframe tbody tr th {\n",
       "        vertical-align: top;\n",
       "    }\n",
       "\n",
       "    .dataframe thead th {\n",
       "        text-align: right;\n",
       "    }\n",
       "</style>\n",
       "<table border=\"1\" class=\"dataframe\">\n",
       "  <thead>\n",
       "    <tr style=\"text-align: right;\">\n",
       "      <th></th>\n",
       "      <th>layer</th>\n",
       "      <th>alpha</th>\n",
       "      <th>alpha_no_pc1</th>\n",
       "    </tr>\n",
       "  </thead>\n",
       "  <tbody>\n",
       "    <tr>\n",
       "      <th>0</th>\n",
       "      <td>layer1</td>\n",
       "      <td>3.757470</td>\n",
       "      <td>4.210595</td>\n",
       "    </tr>\n",
       "    <tr>\n",
       "      <th>1</th>\n",
       "      <td>layer2</td>\n",
       "      <td>3.465111</td>\n",
       "      <td>4.031078</td>\n",
       "    </tr>\n",
       "    <tr>\n",
       "      <th>2</th>\n",
       "      <td>layer3</td>\n",
       "      <td>1.888670</td>\n",
       "      <td>1.893514</td>\n",
       "    </tr>\n",
       "    <tr>\n",
       "      <th>3</th>\n",
       "      <td>layer4</td>\n",
       "      <td>1.879386</td>\n",
       "      <td>1.885806</td>\n",
       "    </tr>\n",
       "    <tr>\n",
       "      <th>4</th>\n",
       "      <td>fc</td>\n",
       "      <td>1.702589</td>\n",
       "      <td>1.713680</td>\n",
       "    </tr>\n",
       "  </tbody>\n",
       "</table>\n",
       "</div>"
      ],
      "text/plain": [
       "    layer     alpha  alpha_no_pc1\n",
       "0  layer1  3.757470      4.210595\n",
       "1  layer2  3.465111      4.031078\n",
       "2  layer3  1.888670      1.893514\n",
       "3  layer4  1.879386      1.885806\n",
       "4      fc  1.702589      1.713680"
      ]
     },
     "execution_count": 7,
     "metadata": {},
     "output_type": "execute_result"
    }
   ],
   "source": [
    "alpha_results_df = pd.DataFrame(alpha_results)\n",
    "alpha_results_df"
   ]
  },
  {
   "cell_type": "code",
   "execution_count": 8,
   "id": "20b84372",
   "metadata": {},
   "outputs": [
    {
     "data": {
      "text/html": [
       "<div>\n",
       "<style scoped>\n",
       "    .dataframe tbody tr th:only-of-type {\n",
       "        vertical-align: middle;\n",
       "    }\n",
       "\n",
       "    .dataframe tbody tr th {\n",
       "        vertical-align: top;\n",
       "    }\n",
       "\n",
       "    .dataframe thead th {\n",
       "        text-align: right;\n",
       "    }\n",
       "</style>\n",
       "<table border=\"1\" class=\"dataframe\">\n",
       "  <thead>\n",
       "    <tr style=\"text-align: right;\">\n",
       "      <th></th>\n",
       "      <th>layer</th>\n",
       "      <th>n_pcs</th>\n",
       "      <th>test_r2</th>\n",
       "      <th>mean_fev</th>\n",
       "      <th>alpha</th>\n",
       "      <th>alpha_no_pc1</th>\n",
       "    </tr>\n",
       "  </thead>\n",
       "  <tbody>\n",
       "    <tr>\n",
       "      <th>0</th>\n",
       "      <td>fc</td>\n",
       "      <td>10.0</td>\n",
       "      <td>0.017885</td>\n",
       "      <td>0.112667</td>\n",
       "      <td>1.702589</td>\n",
       "      <td>1.713680</td>\n",
       "    </tr>\n",
       "    <tr>\n",
       "      <th>1</th>\n",
       "      <td>layer1</td>\n",
       "      <td>20.0</td>\n",
       "      <td>0.026393</td>\n",
       "      <td>0.126966</td>\n",
       "      <td>3.757470</td>\n",
       "      <td>4.210595</td>\n",
       "    </tr>\n",
       "    <tr>\n",
       "      <th>2</th>\n",
       "      <td>layer2</td>\n",
       "      <td>NaN</td>\n",
       "      <td>0.030758</td>\n",
       "      <td>0.177962</td>\n",
       "      <td>3.465111</td>\n",
       "      <td>4.031078</td>\n",
       "    </tr>\n",
       "    <tr>\n",
       "      <th>3</th>\n",
       "      <td>layer3</td>\n",
       "      <td>NaN</td>\n",
       "      <td>0.036175</td>\n",
       "      <td>0.157423</td>\n",
       "      <td>1.888670</td>\n",
       "      <td>1.893514</td>\n",
       "    </tr>\n",
       "    <tr>\n",
       "      <th>4</th>\n",
       "      <td>layer4</td>\n",
       "      <td>NaN</td>\n",
       "      <td>0.022729</td>\n",
       "      <td>0.112540</td>\n",
       "      <td>1.879386</td>\n",
       "      <td>1.885806</td>\n",
       "    </tr>\n",
       "  </tbody>\n",
       "</table>\n",
       "</div>"
      ],
      "text/plain": [
       "    layer  n_pcs   test_r2  mean_fev     alpha  alpha_no_pc1\n",
       "0      fc   10.0  0.017885  0.112667  1.702589      1.713680\n",
       "1  layer1   20.0  0.026393  0.126966  3.757470      4.210595\n",
       "2  layer2    NaN  0.030758  0.177962  3.465111      4.031078\n",
       "3  layer3    NaN  0.036175  0.157423  1.888670      1.893514\n",
       "4  layer4    NaN  0.022729  0.112540  1.879386      1.885806"
      ]
     },
     "execution_count": 8,
     "metadata": {},
     "output_type": "execute_result"
    }
   ],
   "source": [
    "merged_results = pd.merge(best_fev_per_layer, alpha_results_df, on='layer')\n",
    "merged_results"
   ]
  },
  {
   "cell_type": "code",
   "execution_count": 9,
   "id": "b01e3ecc",
   "metadata": {},
   "outputs": [
    {
     "data": {
      "image/png": "[encoded data removed]",
      "text/plain": [
       "<Figure size 1000x600 with 1 Axes>"
      ]
     },
     "metadata": {},
     "output_type": "display_data"
    }
   ],
   "source": [
    "colours = merged_results['layer'].map(simclr_colours)\n",
    "\n",
    "plt.figure(figsize=(10, 6))\n",
    "plt.scatter(merged_results['alpha'], merged_results['mean_fev'], c=colours)\n",
    "\n",
    "texts = []\n",
    "for _, row in merged_results.iterrows():\n",
    "    texts.append(\n",
    "        plt.text(row['alpha'], row['mean_fev'], row['layer'],\n",
    "                 color=simclr_colours[row['layer']], fontsize=10)\n",
    "    )\n",
    "\n",
    "adjust_text(texts, arrowprops=dict(arrowstyle='-', color='gray'))\n",
    "\n",
    "plt.xlabel('Alpha (Power Law Exponent)')\n",
    "plt.ylabel('Mean FEV')\n",
    "plt.title('SimCLR Layers: Alpha vs. Predictive Power (Neural Data)')\n",
    "plt.grid(True)\n",
    "plt.tight_layout()\n",
    "plt.show()"
   ]
  }
 ],
 "metadata": {
  "kernelspec": {
   "display_name": "myenv",
   "language": "python",
   "name": "python3"
  },
  "language_info": {
   "codemirror_mode": {
    "name": "ipython",
    "version": 3
   },
   "file_extension": ".py",
   "mimetype": "text/x-python",
   "name": "python",
   "nbconvert_exporter": "python",
   "pygments_lexer": "ipython3",
   "version": "3.11.4"
  }
 },
 "nbformat": 4,
 "nbformat_minor": 5
}
