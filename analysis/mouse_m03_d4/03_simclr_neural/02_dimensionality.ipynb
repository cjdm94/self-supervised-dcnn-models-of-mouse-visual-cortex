{
 "cells": [
  {
   "cell_type": "markdown",
   "id": "e8434b4e",
   "metadata": {},
   "source": [
    "# FEV vs. Alpha Analysis\n",
    "\n",
    "For each SimCLR layer, this notebook plots **mean FEV** vs. **alpha** (where alpha is the slope of the log–log PCA variance spectrum).\n",
    "\n",
    "- **Mean FEV** is taken from the regression: SimCLR features (reduced to N PCs) → Neural data (original dimensionality)\n",
    "\n",
    "- For each layer, we select the **best FEV** (i.e., highest across PC counts)"
   ]
  },
  {
   "cell_type": "code",
   "execution_count": 1,
   "id": "0e376885",
   "metadata": {},
   "outputs": [],
   "source": [
    "from cortexlib.power_law import PowerLawAlphaEstimator\n",
    "from cortexlib.mouse import CortexlabMouse\n",
    "from cortexlib.utils import file as futils\n",
    "from cortexlib.utils.logging import Logger\n",
    "from cortexlib.utils.random import set_global_seed, GLOBAL_SEED\n",
    "from cortexlib.utils.plotting import simclr_colours\n",
    "from sklearn.decomposition import PCA\n",
    "from adjustText import adjust_text\n",
    "import matplotlib.pyplot as plt\n",
    "from tqdm.notebook import tqdm\n",
    "import pandas as pd\n",
    "import numpy as np\n",
    "import torch\n",
    "\n",
    "logger = Logger()\n",
    "set_global_seed()"
   ]
  },
  {
   "cell_type": "code",
   "execution_count": 2,
   "id": "fadab960",
   "metadata": {},
   "outputs": [
    {
     "name": "stderr",
     "output_type": "stream",
     "text": [
      "\u001b[1;37m19:27:46 | INFO     | ℹ️ This notebook is running for mouse m03_d4\u001b[0m\n"
     ]
    }
   ],
   "source": [
    "MOUSE_ID = futils.get_mouse_id()\n",
    "logger.info(f\"This notebook is running for mouse {MOUSE_ID}\")"
   ]
  },
  {
   "cell_type": "code",
   "execution_count": 3,
   "id": "1c825ef1",
   "metadata": {},
   "outputs": [
    {
     "name": "stderr",
     "output_type": "stream",
     "text": [
      "\u001b[1;37m19:27:46 | INFO     | ⏳ Computing null distributions for all neurons in mouse m03_d4...\u001b[0m\n",
      "\u001b[1;32m19:28:10 | SUCCESS  | ✅ Null distributions computed!\u001b[0m\n",
      "\u001b[1;37m19:28:10 | INFO     | ℹ️ Neural responses shape: (1573, 2, 500)\u001b[0m\n"
     ]
    },
    {
     "name": "stdout",
     "output_type": "stream",
     "text": [
      "xmin progress: 99%\r"
     ]
    }
   ],
   "source": [
    "neural_plae = PowerLawAlphaEstimator()\n",
    "mouse = CortexlabMouse(mouse_id=MOUSE_ID)\n",
    "\n",
    "logger.progress(f\"Computing null distributions for all neurons in mouse {mouse.id}\")\n",
    "null_srv_all_neurons = mouse.compute_null_all_neurons(n_shuffles=100)\n",
    "logger.success(f\"Null distributions computed\")\n",
    "\n",
    "real_srv_all_neurons = mouse.compute_real_srv_all_neurons()\n",
    "reliable_neuron_indices = mouse.get_reliable_neuron_indices(\n",
    "            null_srv_all_neurons, real_srv_all_neurons, percentile_threshold=99)\n",
    "neural_responses_mean, neural_responses, _ = mouse.get_responses_for_reliable_neurons(reliable_neuron_indices, real_srv_all_neurons, num_neurons=500)\n",
    "\n",
    "logger.info(f\"Neural responses shape: {neural_responses.shape}\")\n",
    "\n",
    "neural_alpha = neural_plae.compute_alpha(neural_responses_mean)"
   ]
  },
  {
   "cell_type": "code",
   "execution_count": 4,
   "id": "c57404cb",
   "metadata": {},
   "outputs": [],
   "source": [
    "neural_alpha['mouse_id'] = MOUSE_ID\n",
    "futils.write_json_file(neural_alpha, './neural_dimensionality.json')"
   ]
  },
  {
   "cell_type": "code",
   "execution_count": 5,
   "id": "ae679916",
   "metadata": {},
   "outputs": [
    {
     "data": {
      "text/html": [
       "<div>\n",
       "<style scoped>\n",
       "    .dataframe tbody tr th:only-of-type {\n",
       "        vertical-align: middle;\n",
       "    }\n",
       "\n",
       "    .dataframe tbody tr th {\n",
       "        vertical-align: top;\n",
       "    }\n",
       "\n",
       "    .dataframe thead th {\n",
       "        text-align: right;\n",
       "    }\n",
       "</style>\n",
       "<table border=\"1\" class=\"dataframe\">\n",
       "  <thead>\n",
       "    <tr style=\"text-align: right;\">\n",
       "      <th></th>\n",
       "      <th>layer</th>\n",
       "      <th>n_pcs</th>\n",
       "      <th>test_r2</th>\n",
       "      <th>mean_fev</th>\n",
       "    </tr>\n",
       "  </thead>\n",
       "  <tbody>\n",
       "    <tr>\n",
       "      <th>37</th>\n",
       "      <td>fc</td>\n",
       "      <td>10.0</td>\n",
       "      <td>0.017885</td>\n",
       "      <td>0.112667</td>\n",
       "    </tr>\n",
       "    <tr>\n",
       "      <th>2</th>\n",
       "      <td>layer1</td>\n",
       "      <td>20.0</td>\n",
       "      <td>0.026393</td>\n",
       "      <td>0.126966</td>\n",
       "    </tr>\n",
       "    <tr>\n",
       "      <th>9</th>\n",
       "      <td>layer2</td>\n",
       "      <td>NaN</td>\n",
       "      <td>0.030758</td>\n",
       "      <td>0.177962</td>\n",
       "    </tr>\n",
       "    <tr>\n",
       "      <th>18</th>\n",
       "      <td>layer3</td>\n",
       "      <td>NaN</td>\n",
       "      <td>0.036175</td>\n",
       "      <td>0.157423</td>\n",
       "    </tr>\n",
       "    <tr>\n",
       "      <th>27</th>\n",
       "      <td>layer4</td>\n",
       "      <td>NaN</td>\n",
       "      <td>0.022729</td>\n",
       "      <td>0.112540</td>\n",
       "    </tr>\n",
       "  </tbody>\n",
       "</table>\n",
       "</div>"
      ],
      "text/plain": [
       "     layer  n_pcs   test_r2  mean_fev\n",
       "37      fc   10.0  0.017885  0.112667\n",
       "2   layer1   20.0  0.026393  0.126966\n",
       "9   layer2    NaN  0.030758  0.177962\n",
       "18  layer3    NaN  0.036175  0.157423\n",
       "27  layer4    NaN  0.022729  0.112540"
      ]
     },
     "execution_count": 5,
     "metadata": {},
     "output_type": "execute_result"
    }
   ],
   "source": [
    "fev_results = futils.read_json_file_as_dataframe('./prediction.json')\n",
    "best_fev_per_layer = fev_results.loc[fev_results.groupby(\"layer\")[\"mean_fev\"].idxmax()]\n",
    "\n",
    "best_fev_per_layer"
   ]
  },
  {
   "cell_type": "code",
   "execution_count": 6,
   "id": "914a3db7",
   "metadata": {},
   "outputs": [
    {
     "name": "stderr",
     "output_type": "stream",
     "text": [
      "\u001b[1;37m19:28:10 | INFO     | ℹ️ Loading model features from /Users/callummessiter/workspace/msc-neuro/research-project/analysis/mouse_m03_d4/_model_features/simclr_features_mouse_m03_d4.pt\u001b[0m\n"
     ]
    }
   ],
   "source": [
    "simclr_data = futils.load_model_features(futils.Model.SIMCLR, MOUSE_ID)\n",
    "simclr_feats = simclr_data['features']"
   ]
  },
  {
   "cell_type": "code",
   "execution_count": 7,
   "id": "8c371523",
   "metadata": {},
   "outputs": [],
   "source": [
    "import numpy as np\n",
    "from sklearn.decomposition import PCA\n",
    "import torch\n",
    "import random\n",
    "\n",
    "raw_features = simclr_feats\n",
    "layer_names = list(raw_features.keys())\n",
    "subsample_size = 500\n",
    "thresholds = [0.68, 0.80, 0.90]\n",
    "n_repeats = 20  # number of subsamples per layer\n",
    "random.seed(GLOBAL_SEED)\n",
    "\n",
    "def run_pca(data, n_components=subsample_size):\n",
    "    pca = PCA(n_components=n_components, random_state=GLOBAL_SEED)\n",
    "    pca.fit(data)\n",
    "    return np.cumsum(pca.explained_variance_ratio_), pca.explained_variance_ratio_\n",
    "\n",
    "def num_components_for_variance(cumulative_ev, threshold):\n",
    "    above = np.where(cumulative_ev >= threshold)[0]\n",
    "    return int(above[0] + 1) if len(above) > 0 else None\n",
    "\n",
    "def subsample_features(feats, indices):\n",
    "    if feats.ndim > 2:\n",
    "        feats = feats.reshape(feats.shape[0], -1)\n",
    "    return feats[:, indices] if feats.shape[1] >= len(indices) else feats\n",
    "\n",
    "json_data = []\n",
    "\n",
    "for layer in layer_names:\n",
    "    layer_data = {\n",
    "        \"mouse_id\": MOUSE_ID,\n",
    "        \"model\": futils.get_model(),\n",
    "        \"layer\": layer,\n",
    "        \"original_dimensions\": raw_features[layer].shape[1],\n",
    "        \"subsampled_dimensions\": subsample_size,\n",
    "        \"subsamples\": []\n",
    "    }\n",
    "\n",
    "    for _ in range(n_repeats):\n",
    "        rand_indices = torch.randperm(subsample_size)[:subsample_size]\n",
    "        feats = subsample_features(raw_features[layer], rand_indices)\n",
    "        cum_ev, _ = run_pca(feats)\n",
    "\n",
    "        layer_data[\"subsamples\"].append({\n",
    "            \"num_principal_components_68pc_ev\": num_components_for_variance(cum_ev, 0.68),\n",
    "            \"num_principal_components_80pc_ev\": num_components_for_variance(cum_ev, 0.80),\n",
    "            \"num_principal_components_90pc_ev\": num_components_for_variance(cum_ev, 0.90),\n",
    "            \"cumulative_ev\": cum_ev.tolist()\n",
    "        })\n",
    "\n",
    "    json_data.append(layer_data)\n",
    "\n",
    "futils.write_json_file(json_data, './explained_variance.json')"
   ]
  },
  {
   "cell_type": "code",
   "execution_count": 8,
   "id": "43010746",
   "metadata": {},
   "outputs": [],
   "source": [
    "full_dim = []\n",
    "\n",
    "for layer in layer_names:\n",
    "    layer_data = {\n",
    "        \"mouse_id\": MOUSE_ID,\n",
    "        \"model\": futils.get_model(),\n",
    "        \"layer\": layer,\n",
    "        \"original_dimensions\": raw_features[layer].shape[1],\n",
    "    }\n",
    "\n",
    "    feats = raw_features[layer]\n",
    "    if feats.ndim > 2:\n",
    "        feats = feats.reshape(feats.shape[0], -1)\n",
    "    cum_ev, _ = run_pca(feats)\n",
    "    layer_data[\"num_principal_components_68pc_ev\"] = num_components_for_variance(cum_ev, 0.68)\n",
    "    layer_data[\"num_principal_components_80pc_ev\"] = num_components_for_variance(cum_ev, 0.80)\n",
    "    layer_data[\"num_principal_components_90pc_ev\"] = num_components_for_variance(cum_ev, 0.90)\n",
    "    layer_data[\"cumulative_ev\"] = cum_ev.tolist()\n",
    "    full_dim.append(layer_data)\n",
    "\n",
    "futils.write_json_file(full_dim, './explained_variance_full_dim.json')"
   ]
  },
  {
   "cell_type": "code",
   "execution_count": 9,
   "id": "c8765610",
   "metadata": {},
   "outputs": [],
   "source": [
    "neural_ev = {\n",
    "    \"mouse_id\": MOUSE_ID,\n",
    "    \"model\": \"neural\",\n",
    "    \"layer\": \"neural\",\n",
    "    \"original_dimensions\": neural_responses_mean.shape[1],\n",
    "    \"subsampled_dimensions\": subsample_size,\n",
    "    \"subsamples\": []\n",
    "}\n",
    "\n",
    "rand_indices = torch.randperm(neural_responses_mean.shape[0])[:subsample_size]\n",
    "feats = neural_responses_mean[rand_indices.numpy(), :]\n",
    "cum_ev, _ = run_pca(feats)\n",
    "neural_ev[\"subsamples\"].append({\n",
    "    \"num_principal_components_68pc_ev\": int(num_components_for_variance(cum_ev, 0.68)),\n",
    "    \"num_principal_components_80pc_ev\": int(num_components_for_variance(cum_ev, 0.80)),\n",
    "    \"num_principal_components_90pc_ev\": int(num_components_for_variance(cum_ev, 0.90)),\n",
    "    \"cumulative_ev\": cum_ev.tolist()\n",
    "})\n",
    "\n",
    "futils.write_json_file(neural_ev, './neural_explained_variance.json')"
   ]
  },
  {
   "cell_type": "code",
   "execution_count": 10,
   "id": "574a447e",
   "metadata": {},
   "outputs": [],
   "source": [
    "neural_ev = {\n",
    "    \"mouse_id\": MOUSE_ID,\n",
    "    \"model\": \"neural\",\n",
    "    \"layer\": \"neural\",\n",
    "    \"original_dimensions\": neural_responses_mean.shape[1],\n",
    "}\n",
    "\n",
    "feats = neural_responses_mean\n",
    "cum_ev, _ = run_pca(feats)\n",
    "\n",
    "neural_ev[\"num_principal_components_68pc_ev\"] = num_components_for_variance(cum_ev, 0.68)\n",
    "neural_ev[\"num_principal_components_80pc_ev\"] = num_components_for_variance(cum_ev, 0.80)\n",
    "neural_ev[\"num_principal_components_90pc_ev\"] = num_components_for_variance(cum_ev, 0.90)\n",
    "neural_ev[\"cumulative_ev\"] = cum_ev.tolist()\n",
    "\n",
    "futils.write_json_file(neural_ev, './neural_explained_variance_full_dim.json')"
   ]
  },
  {
   "cell_type": "code",
   "execution_count": 11,
   "id": "d7e9cd87",
   "metadata": {},
   "outputs": [
    {
     "name": "stderr",
     "output_type": "stream",
     "text": [
      "\u001b[1;37m19:28:41 | INFO     | ⏳ Computing α for SimCLR features across layers...\u001b[0m\n"
     ]
    },
    {
     "data": {
      "application/vnd.jupyter.widget-view+json": {
       "model_id": "c173a081b0f74046b08d42bf4c5ce621",
       "version_major": 2,
       "version_minor": 0
      },
      "text/plain": [
       "α for all SimCLR layers:   0%|          | 0/5 [00:00<?, ?it/s]"
      ]
     },
     "metadata": {},
     "output_type": "display_data"
    },
    {
     "name": "stderr",
     "output_type": "stream",
     "text": [
      "\u001b[1;37m19:28:41 | INFO     | ⏳ SimCLR layer1...\u001b[0m\n"
     ]
    },
    {
     "name": "stdout",
     "output_type": "stream",
     "text": [
      "xmin progress: 39%\r"
     ]
    },
    {
     "name": "stderr",
     "output_type": "stream",
     "text": [
      "\u001b[1;37m19:28:54 | INFO     | ⏳ SimCLR layer2...\u001b[0m\n"
     ]
    },
    {
     "name": "stdout",
     "output_type": "stream",
     "text": [
      "xmin progress: 47%\r"
     ]
    },
    {
     "name": "stderr",
     "output_type": "stream",
     "text": [
      "\u001b[1;37m19:29:00 | INFO     | ⏳ SimCLR layer3...\u001b[0m\n"
     ]
    },
    {
     "name": "stdout",
     "output_type": "stream",
     "text": [
      "xmin progress: 43%\r"
     ]
    },
    {
     "name": "stderr",
     "output_type": "stream",
     "text": [
      "\u001b[1;37m19:29:04 | INFO     | ⏳ SimCLR layer4...\u001b[0m\n"
     ]
    },
    {
     "name": "stdout",
     "output_type": "stream",
     "text": [
      "xmin progress: 25%\r"
     ]
    },
    {
     "name": "stderr",
     "output_type": "stream",
     "text": [
      "\u001b[1;37m19:29:06 | INFO     | ⏳ SimCLR fc...\u001b[0m\n"
     ]
    },
    {
     "name": "stdout",
     "output_type": "stream",
     "text": [
      "xmin progress: 99%\r"
     ]
    },
    {
     "name": "stderr",
     "output_type": "stream",
     "text": [
      "\u001b[1;32m19:29:06 | SUCCESS  | ✅ Alphas computed!\u001b[0m\n"
     ]
    },
    {
     "name": "stdout",
     "output_type": "stream",
     "text": [
      "xmin progress: 99%\r"
     ]
    }
   ],
   "source": [
    "power_law_alpha_estimator = PowerLawAlphaEstimator()\n",
    "\n",
    "alpha_results = []\n",
    "\n",
    "logger.progress(f\"Computing α for SimCLR features across layers\")\n",
    "for layer, feats in tqdm(simclr_feats.items(), desc=\"α for all SimCLR layers\"):\n",
    "    logger.progress(f\"SimCLR {layer}\")\n",
    "    \n",
    "    feats = feats if feats.dim() <= 2 else feats.view(feats.size(0), -1)\n",
    "    alpha = power_law_alpha_estimator.compute_alpha(feats)\n",
    "\n",
    "    alpha_results.append({\n",
    "        'layer': layer,\n",
    "        'alpha': alpha['alpha'],\n",
    "        'alpha_no_pc1': alpha['alpha_no_pc1'],\n",
    "    })\n",
    "\n",
    "logger.success(f\"Alphas computed\")"
   ]
  },
  {
   "cell_type": "code",
   "execution_count": 12,
   "id": "69c27bfc",
   "metadata": {},
   "outputs": [],
   "source": [
    "futils.write_json_file(alpha_results, './dimensionality.json')"
   ]
  },
  {
   "cell_type": "code",
   "execution_count": 13,
   "id": "38b55293",
   "metadata": {},
   "outputs": [
    {
     "data": {
      "text/html": [
       "<div>\n",
       "<style scoped>\n",
       "    .dataframe tbody tr th:only-of-type {\n",
       "        vertical-align: middle;\n",
       "    }\n",
       "\n",
       "    .dataframe tbody tr th {\n",
       "        vertical-align: top;\n",
       "    }\n",
       "\n",
       "    .dataframe thead th {\n",
       "        text-align: right;\n",
       "    }\n",
       "</style>\n",
       "<table border=\"1\" class=\"dataframe\">\n",
       "  <thead>\n",
       "    <tr style=\"text-align: right;\">\n",
       "      <th></th>\n",
       "      <th>layer</th>\n",
       "      <th>alpha</th>\n",
       "      <th>alpha_no_pc1</th>\n",
       "    </tr>\n",
       "  </thead>\n",
       "  <tbody>\n",
       "    <tr>\n",
       "      <th>0</th>\n",
       "      <td>layer1</td>\n",
       "      <td>3.757470</td>\n",
       "      <td>4.210595</td>\n",
       "    </tr>\n",
       "    <tr>\n",
       "      <th>1</th>\n",
       "      <td>layer2</td>\n",
       "      <td>3.465111</td>\n",
       "      <td>4.031078</td>\n",
       "    </tr>\n",
       "    <tr>\n",
       "      <th>2</th>\n",
       "      <td>layer3</td>\n",
       "      <td>1.888670</td>\n",
       "      <td>1.893514</td>\n",
       "    </tr>\n",
       "    <tr>\n",
       "      <th>3</th>\n",
       "      <td>layer4</td>\n",
       "      <td>1.879386</td>\n",
       "      <td>1.885806</td>\n",
       "    </tr>\n",
       "    <tr>\n",
       "      <th>4</th>\n",
       "      <td>fc</td>\n",
       "      <td>1.702589</td>\n",
       "      <td>1.713680</td>\n",
       "    </tr>\n",
       "  </tbody>\n",
       "</table>\n",
       "</div>"
      ],
      "text/plain": [
       "    layer     alpha  alpha_no_pc1\n",
       "0  layer1  3.757470      4.210595\n",
       "1  layer2  3.465111      4.031078\n",
       "2  layer3  1.888670      1.893514\n",
       "3  layer4  1.879386      1.885806\n",
       "4      fc  1.702589      1.713680"
      ]
     },
     "execution_count": 13,
     "metadata": {},
     "output_type": "execute_result"
    }
   ],
   "source": [
    "alpha_results_df = pd.DataFrame(alpha_results)\n",
    "alpha_results_df"
   ]
  },
  {
   "cell_type": "code",
   "execution_count": 14,
   "id": "20b84372",
   "metadata": {},
   "outputs": [
    {
     "data": {
      "text/html": [
       "<div>\n",
       "<style scoped>\n",
       "    .dataframe tbody tr th:only-of-type {\n",
       "        vertical-align: middle;\n",
       "    }\n",
       "\n",
       "    .dataframe tbody tr th {\n",
       "        vertical-align: top;\n",
       "    }\n",
       "\n",
       "    .dataframe thead th {\n",
       "        text-align: right;\n",
       "    }\n",
       "</style>\n",
       "<table border=\"1\" class=\"dataframe\">\n",
       "  <thead>\n",
       "    <tr style=\"text-align: right;\">\n",
       "      <th></th>\n",
       "      <th>layer</th>\n",
       "      <th>n_pcs</th>\n",
       "      <th>test_r2</th>\n",
       "      <th>mean_fev</th>\n",
       "      <th>alpha</th>\n",
       "      <th>alpha_no_pc1</th>\n",
       "    </tr>\n",
       "  </thead>\n",
       "  <tbody>\n",
       "    <tr>\n",
       "      <th>0</th>\n",
       "      <td>fc</td>\n",
       "      <td>10.0</td>\n",
       "      <td>0.017885</td>\n",
       "      <td>0.112667</td>\n",
       "      <td>1.702589</td>\n",
       "      <td>1.713680</td>\n",
       "    </tr>\n",
       "    <tr>\n",
       "      <th>1</th>\n",
       "      <td>layer1</td>\n",
       "      <td>20.0</td>\n",
       "      <td>0.026393</td>\n",
       "      <td>0.126966</td>\n",
       "      <td>3.757470</td>\n",
       "      <td>4.210595</td>\n",
       "    </tr>\n",
       "    <tr>\n",
       "      <th>2</th>\n",
       "      <td>layer2</td>\n",
       "      <td>NaN</td>\n",
       "      <td>0.030758</td>\n",
       "      <td>0.177962</td>\n",
       "      <td>3.465111</td>\n",
       "      <td>4.031078</td>\n",
       "    </tr>\n",
       "    <tr>\n",
       "      <th>3</th>\n",
       "      <td>layer3</td>\n",
       "      <td>NaN</td>\n",
       "      <td>0.036175</td>\n",
       "      <td>0.157423</td>\n",
       "      <td>1.888670</td>\n",
       "      <td>1.893514</td>\n",
       "    </tr>\n",
       "    <tr>\n",
       "      <th>4</th>\n",
       "      <td>layer4</td>\n",
       "      <td>NaN</td>\n",
       "      <td>0.022729</td>\n",
       "      <td>0.112540</td>\n",
       "      <td>1.879386</td>\n",
       "      <td>1.885806</td>\n",
       "    </tr>\n",
       "  </tbody>\n",
       "</table>\n",
       "</div>"
      ],
      "text/plain": [
       "    layer  n_pcs   test_r2  mean_fev     alpha  alpha_no_pc1\n",
       "0      fc   10.0  0.017885  0.112667  1.702589      1.713680\n",
       "1  layer1   20.0  0.026393  0.126966  3.757470      4.210595\n",
       "2  layer2    NaN  0.030758  0.177962  3.465111      4.031078\n",
       "3  layer3    NaN  0.036175  0.157423  1.888670      1.893514\n",
       "4  layer4    NaN  0.022729  0.112540  1.879386      1.885806"
      ]
     },
     "execution_count": 14,
     "metadata": {},
     "output_type": "execute_result"
    }
   ],
   "source": [
    "merged_results = pd.merge(best_fev_per_layer, alpha_results_df, on='layer')\n",
    "merged_results"
   ]
  },
  {
   "cell_type": "code",
   "execution_count": 15,
   "id": "b01e3ecc",
   "metadata": {},
   "outputs": [
    {
     "data": {
      "image/png": "[encoded data removed]",
      "text/plain": [
       "<Figure size 1000x600 with 1 Axes>"
      ]
     },
     "metadata": {},
     "output_type": "display_data"
    }
   ],
   "source": [
    "colours = merged_results['layer'].map(simclr_colours)\n",
    "\n",
    "plt.figure(figsize=(10, 6))\n",
    "plt.scatter(merged_results['alpha'], merged_results['mean_fev'], c=colours)\n",
    "\n",
    "texts = []\n",
    "for _, row in merged_results.iterrows():\n",
    "    texts.append(\n",
    "        plt.text(row['alpha'], row['mean_fev'], row['layer'],\n",
    "                 color=simclr_colours[row['layer']], fontsize=10)\n",
    "    )\n",
    "\n",
    "adjust_text(texts, arrowprops=dict(arrowstyle='-', color='gray'))\n",
    "\n",
    "plt.xlabel('Alpha (Power Law Exponent)')\n",
    "plt.ylabel('Mean FEV')\n",
    "plt.title('SimCLR Layers: Alpha vs. Predictive Power (Neural Data)')\n",
    "plt.grid(True)\n",
    "plt.tight_layout()\n",
    "plt.show()"
   ]
  }
 ],
 "metadata": {
  "kernelspec": {
   "display_name": "myenv",
   "language": "python",
   "name": "python3"
  },
  "language_info": {
   "codemirror_mode": {
    "name": "ipython",
    "version": 3
   },
   "file_extension": ".py",
   "mimetype": "text/x-python",
   "name": "python",
   "nbconvert_exporter": "python",
   "pygments_lexer": "ipython3",
   "version": "3.11.4"
  }
 },
 "nbformat": 4,
 "nbformat_minor": 5
}
