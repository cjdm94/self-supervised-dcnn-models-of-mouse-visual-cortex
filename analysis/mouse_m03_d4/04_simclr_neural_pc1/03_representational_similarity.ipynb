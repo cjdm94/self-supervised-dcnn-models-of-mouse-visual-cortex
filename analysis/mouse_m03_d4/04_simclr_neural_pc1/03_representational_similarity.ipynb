{
 "cells": [
  {
   "cell_type": "markdown",
   "id": "dfd759f5",
   "metadata": {},
   "source": [
    "# FEV vs. RSA Analysis\n",
    "\n",
    "For each SimCLR layer, this notebook plots **mean FEV** vs. **RSA (Spearman correlation)**.\n",
    "\n",
    "- **Mean FEV** is taken from the regression: SimCLR features (reduced to N PCs) → Neural data (original dimensionality)\n",
    "\n",
    "- For each layer, we select the **best FEV** (i.e., highest across PC counts)\n",
    "\n",
    "- The RSA class computes the **Spearman correlation** between RDMs of SimCLR features and neural data. Neural RDMs are built from full responses (correlation distance), and compared to feature RDMs to assess representational similarity \n",
    "  \n",
    "- For features, dimensionality varies across SimCLR layers, so for each layer, the features are reduced to a fixed number of PCs (e.g. 50), to normalise"
   ]
  },
  {
   "cell_type": "code",
   "execution_count": 1,
   "id": "374e6182",
   "metadata": {},
   "outputs": [],
   "source": [
    "from cortexlib.utils import file as futils\n",
    "from cortexlib.rsa import RSA\n",
    "from cortexlib.utils.plotting import simclr_colours\n",
    "from cortexlib.utils.random import set_global_seed\n",
    "from cortexlib.utils.logging import Logger\n",
    "from sklearn.decomposition import PCA\n",
    "import matplotlib.pyplot as plt\n",
    "from adjustText import adjust_text\n",
    "from tqdm.notebook import tqdm\n",
    "import pandas as pd\n",
    "\n",
    "logger = Logger()\n",
    "set_global_seed()"
   ]
  },
  {
   "cell_type": "code",
   "execution_count": 2,
   "id": "727a9810",
   "metadata": {},
   "outputs": [
    {
     "name": "stderr",
     "output_type": "stream",
     "text": [
      "\u001b[1;37m13:17:02 | INFO     | ℹ️ This notebook is running for mouse m03_d4\u001b[0m\n"
     ]
    }
   ],
   "source": [
    "MOUSE_ID = futils.get_mouse_id()\n",
    "logger.info(f\"This notebook is running for mouse {MOUSE_ID}\")"
   ]
  },
  {
   "cell_type": "code",
   "execution_count": 3,
   "id": "e990db33",
   "metadata": {},
   "outputs": [
    {
     "data": {
      "text/html": [
       "<div>\n",
       "<style scoped>\n",
       "    .dataframe tbody tr th:only-of-type {\n",
       "        vertical-align: middle;\n",
       "    }\n",
       "\n",
       "    .dataframe tbody tr th {\n",
       "        vertical-align: top;\n",
       "    }\n",
       "\n",
       "    .dataframe thead th {\n",
       "        text-align: right;\n",
       "    }\n",
       "</style>\n",
       "<table border=\"1\" class=\"dataframe\">\n",
       "  <thead>\n",
       "    <tr style=\"text-align: right;\">\n",
       "      <th></th>\n",
       "      <th>layer</th>\n",
       "      <th>n_pcs</th>\n",
       "      <th>test_r2</th>\n",
       "      <th>mean_fev</th>\n",
       "    </tr>\n",
       "  </thead>\n",
       "  <tbody>\n",
       "    <tr>\n",
       "      <th>44</th>\n",
       "      <td>fc</td>\n",
       "      <td>500.0</td>\n",
       "      <td>0.409375</td>\n",
       "      <td>0.432509</td>\n",
       "    </tr>\n",
       "    <tr>\n",
       "      <th>1</th>\n",
       "      <td>layer1</td>\n",
       "      <td>10.0</td>\n",
       "      <td>0.383644</td>\n",
       "      <td>0.405533</td>\n",
       "    </tr>\n",
       "    <tr>\n",
       "      <th>11</th>\n",
       "      <td>layer2</td>\n",
       "      <td>20.0</td>\n",
       "      <td>0.460465</td>\n",
       "      <td>0.486069</td>\n",
       "    </tr>\n",
       "    <tr>\n",
       "      <th>21</th>\n",
       "      <td>layer3</td>\n",
       "      <td>50.0</td>\n",
       "      <td>0.462741</td>\n",
       "      <td>0.488455</td>\n",
       "    </tr>\n",
       "    <tr>\n",
       "      <th>34</th>\n",
       "      <td>layer4</td>\n",
       "      <td>400.0</td>\n",
       "      <td>0.431894</td>\n",
       "      <td>0.456116</td>\n",
       "    </tr>\n",
       "  </tbody>\n",
       "</table>\n",
       "</div>"
      ],
      "text/plain": [
       "     layer  n_pcs   test_r2  mean_fev\n",
       "44      fc  500.0  0.409375  0.432509\n",
       "1   layer1   10.0  0.383644  0.405533\n",
       "11  layer2   20.0  0.460465  0.486069\n",
       "21  layer3   50.0  0.462741  0.488455\n",
       "34  layer4  400.0  0.431894  0.456116"
      ]
     },
     "execution_count": 3,
     "metadata": {},
     "output_type": "execute_result"
    }
   ],
   "source": [
    "# For each layer, results has an FEV score for predicting neural data from SimCLR features reduced to N PCs\n",
    "# Load results and filter the best FEV per layer (e.g. feats reduced to optimal number of PCs)\n",
    "fev_results = futils.read_json_file_as_dataframe('./prediction.json')\n",
    "best_fev_per_layer = fev_results.loc[fev_results.groupby(\"layer\")[\"mean_fev\"].idxmax()]\n",
    "\n",
    "best_fev_per_layer"
   ]
  },
  {
   "cell_type": "code",
   "execution_count": 4,
   "id": "608c80f2",
   "metadata": {},
   "outputs": [
    {
     "name": "stderr",
     "output_type": "stream",
     "text": [
      "\u001b[1;37m13:17:02 | INFO     | ℹ️ Loading model features from /Users/callummessiter/workspace/msc-neuro/research-project/analysis/mouse_m03_d4/_model_features/simclr_features_mouse_m03_d4.pt\u001b[0m\n"
     ]
    }
   ],
   "source": [
    "simclr_data = futils.load_model_features(futils.Model.SIMCLR, MOUSE_ID)\n",
    "simclr_feats = simclr_data['features']"
   ]
  },
  {
   "cell_type": "code",
   "execution_count": 5,
   "id": "dfcdfeee",
   "metadata": {},
   "outputs": [
    {
     "name": "stderr",
     "output_type": "stream",
     "text": [
      "\u001b[1;37m13:17:02 | INFO     | ℹ️ Loading filtered neural data from /Users/callummessiter/workspace/msc-neuro/research-project/analysis/mouse_m03_d4/_neural_data/neural_data_mouse_m03_d4.pt\u001b[0m\n"
     ]
    }
   ],
   "source": [
    "neural_data = futils.load_filtered_neural_data(MOUSE_ID)\n",
    "neural_responses_mean = neural_data['neural_responses_mean']"
   ]
  },
  {
   "cell_type": "code",
   "execution_count": 6,
   "id": "480d58c8",
   "metadata": {},
   "outputs": [
    {
     "name": "stderr",
     "output_type": "stream",
     "text": [
      "\u001b[1;37m13:17:02 | INFO     | ⏳ Computing RSA: SimCLR features vs. PC1 neural data...\u001b[0m\n"
     ]
    },
    {
     "data": {
      "application/vnd.jupyter.widget-view+json": {
       "model_id": "6c2a573b1ca8439394a9add409dc12e9",
       "version_major": 2,
       "version_minor": 0
      },
      "text/plain": [
       "RSA all SimCLR layers:   0%|          | 0/5 [00:00<?, ?it/s]"
      ]
     },
     "metadata": {},
     "output_type": "display_data"
    },
    {
     "name": "stderr",
     "output_type": "stream",
     "text": [
      "\u001b[1;37m13:17:02 | INFO     | ⏳ SimCLR layer1...\u001b[0m\n",
      "\u001b[1;37m13:18:52 | INFO     | ⏳ SimCLR layer2...\u001b[0m\n",
      "\u001b[1;37m13:19:47 | INFO     | ⏳ SimCLR layer3...\u001b[0m\n",
      "\u001b[1;37m13:20:17 | INFO     | ⏳ SimCLR layer4...\u001b[0m\n",
      "\u001b[1;37m13:20:34 | INFO     | ⏳ SimCLR fc...\u001b[0m\n",
      "\u001b[1;32m13:20:40 | SUCCESS  | ✅ RSA complete!\u001b[0m\n"
     ]
    }
   ],
   "source": [
    "rsa = RSA(neural_data=neural_responses_mean, neural_data_pc_index=0)\n",
    "\n",
    "pcs_list = [None, 10, 20, 50, 100, 200, 300, 400, 500]\n",
    "rsa_results = []\n",
    "\n",
    "logger.progress(f\"Computing RSA: SimCLR features vs. PC1 neural data\")\n",
    "for layer, feats in tqdm(simclr_feats.items(), desc=\"RSA all SimCLR layers\"):\n",
    "    logger.progress(f\"SimCLR {layer}\")\n",
    "    feats = feats if feats.dim() <= 2 else feats.view(feats.size(0), -1)\n",
    "    \n",
    "    for n_pcs in pcs_list:\n",
    "        feats_pca = feats if n_pcs is None else PCA(n_pcs).fit_transform(feats)\n",
    "        sim = rsa.compute_similarity_with_neural_data(feats_pca)\n",
    "        rsa_results.append({\n",
    "            'layer': layer,\n",
    "            'n_pcs': n_pcs,\n",
    "            'spearman_correlation': sim,\n",
    "        })\n",
    "\n",
    "logger.success(f\"RSA complete\")"
   ]
  },
  {
   "cell_type": "code",
   "execution_count": 7,
   "id": "7accaa03",
   "metadata": {},
   "outputs": [],
   "source": [
    "futils.write_json_file(rsa_results, './representational_similarity.json')"
   ]
  },
  {
   "cell_type": "code",
   "execution_count": 8,
   "id": "3b1b273a",
   "metadata": {},
   "outputs": [
    {
     "data": {
      "text/html": [
       "<div>\n",
       "<style scoped>\n",
       "    .dataframe tbody tr th:only-of-type {\n",
       "        vertical-align: middle;\n",
       "    }\n",
       "\n",
       "    .dataframe tbody tr th {\n",
       "        vertical-align: top;\n",
       "    }\n",
       "\n",
       "    .dataframe thead th {\n",
       "        text-align: right;\n",
       "    }\n",
       "</style>\n",
       "<table border=\"1\" class=\"dataframe\">\n",
       "  <thead>\n",
       "    <tr style=\"text-align: right;\">\n",
       "      <th></th>\n",
       "      <th>layer</th>\n",
       "      <th>n_pcs</th>\n",
       "      <th>spearman_correlation</th>\n",
       "    </tr>\n",
       "  </thead>\n",
       "  <tbody>\n",
       "    <tr>\n",
       "      <th>0</th>\n",
       "      <td>layer1</td>\n",
       "      <td>NaN</td>\n",
       "      <td>0.163937</td>\n",
       "    </tr>\n",
       "    <tr>\n",
       "      <th>1</th>\n",
       "      <td>layer1</td>\n",
       "      <td>10.0</td>\n",
       "      <td>0.098316</td>\n",
       "    </tr>\n",
       "    <tr>\n",
       "      <th>2</th>\n",
       "      <td>layer1</td>\n",
       "      <td>20.0</td>\n",
       "      <td>0.100761</td>\n",
       "    </tr>\n",
       "    <tr>\n",
       "      <th>3</th>\n",
       "      <td>layer1</td>\n",
       "      <td>50.0</td>\n",
       "      <td>0.103370</td>\n",
       "    </tr>\n",
       "    <tr>\n",
       "      <th>4</th>\n",
       "      <td>layer1</td>\n",
       "      <td>100.0</td>\n",
       "      <td>0.098948</td>\n",
       "    </tr>\n",
       "    <tr>\n",
       "      <th>5</th>\n",
       "      <td>layer1</td>\n",
       "      <td>200.0</td>\n",
       "      <td>0.093843</td>\n",
       "    </tr>\n",
       "    <tr>\n",
       "      <th>6</th>\n",
       "      <td>layer1</td>\n",
       "      <td>300.0</td>\n",
       "      <td>0.091070</td>\n",
       "    </tr>\n",
       "    <tr>\n",
       "      <th>7</th>\n",
       "      <td>layer1</td>\n",
       "      <td>400.0</td>\n",
       "      <td>0.089811</td>\n",
       "    </tr>\n",
       "    <tr>\n",
       "      <th>8</th>\n",
       "      <td>layer1</td>\n",
       "      <td>500.0</td>\n",
       "      <td>0.089433</td>\n",
       "    </tr>\n",
       "    <tr>\n",
       "      <th>9</th>\n",
       "      <td>layer2</td>\n",
       "      <td>NaN</td>\n",
       "      <td>0.165331</td>\n",
       "    </tr>\n",
       "    <tr>\n",
       "      <th>10</th>\n",
       "      <td>layer2</td>\n",
       "      <td>10.0</td>\n",
       "      <td>0.123846</td>\n",
       "    </tr>\n",
       "    <tr>\n",
       "      <th>11</th>\n",
       "      <td>layer2</td>\n",
       "      <td>20.0</td>\n",
       "      <td>0.128496</td>\n",
       "    </tr>\n",
       "  </tbody>\n",
       "</table>\n",
       "</div>"
      ],
      "text/plain": [
       "     layer  n_pcs  spearman_correlation\n",
       "0   layer1    NaN              0.163937\n",
       "1   layer1   10.0              0.098316\n",
       "2   layer1   20.0              0.100761\n",
       "3   layer1   50.0              0.103370\n",
       "4   layer1  100.0              0.098948\n",
       "5   layer1  200.0              0.093843\n",
       "6   layer1  300.0              0.091070\n",
       "7   layer1  400.0              0.089811\n",
       "8   layer1  500.0              0.089433\n",
       "9   layer2    NaN              0.165331\n",
       "10  layer2   10.0              0.123846\n",
       "11  layer2   20.0              0.128496"
      ]
     },
     "execution_count": 8,
     "metadata": {},
     "output_type": "execute_result"
    }
   ],
   "source": [
    "rsa_results_df = pd.DataFrame(rsa_results)\n",
    "rsa_results_df.head(12)"
   ]
  },
  {
   "cell_type": "code",
   "execution_count": 9,
   "id": "06d30818",
   "metadata": {},
   "outputs": [
    {
     "data": {
      "text/html": [
       "<div>\n",
       "<style scoped>\n",
       "    .dataframe tbody tr th:only-of-type {\n",
       "        vertical-align: middle;\n",
       "    }\n",
       "\n",
       "    .dataframe tbody tr th {\n",
       "        vertical-align: top;\n",
       "    }\n",
       "\n",
       "    .dataframe thead th {\n",
       "        text-align: right;\n",
       "    }\n",
       "</style>\n",
       "<table border=\"1\" class=\"dataframe\">\n",
       "  <thead>\n",
       "    <tr style=\"text-align: right;\">\n",
       "      <th></th>\n",
       "      <th>layer</th>\n",
       "      <th>n_pcs</th>\n",
       "      <th>spearman_correlation</th>\n",
       "    </tr>\n",
       "  </thead>\n",
       "  <tbody>\n",
       "    <tr>\n",
       "      <th>0</th>\n",
       "      <td>layer1</td>\n",
       "      <td>100.0</td>\n",
       "      <td>0.098948</td>\n",
       "    </tr>\n",
       "    <tr>\n",
       "      <th>1</th>\n",
       "      <td>layer2</td>\n",
       "      <td>100.0</td>\n",
       "      <td>0.120419</td>\n",
       "    </tr>\n",
       "    <tr>\n",
       "      <th>2</th>\n",
       "      <td>layer3</td>\n",
       "      <td>100.0</td>\n",
       "      <td>0.118062</td>\n",
       "    </tr>\n",
       "    <tr>\n",
       "      <th>3</th>\n",
       "      <td>layer4</td>\n",
       "      <td>100.0</td>\n",
       "      <td>0.082057</td>\n",
       "    </tr>\n",
       "    <tr>\n",
       "      <th>4</th>\n",
       "      <td>fc</td>\n",
       "      <td>100.0</td>\n",
       "      <td>0.098333</td>\n",
       "    </tr>\n",
       "  </tbody>\n",
       "</table>\n",
       "</div>"
      ],
      "text/plain": [
       "    layer  n_pcs  spearman_correlation\n",
       "0  layer1  100.0              0.098948\n",
       "1  layer2  100.0              0.120419\n",
       "2  layer3  100.0              0.118062\n",
       "3  layer4  100.0              0.082057\n",
       "4      fc  100.0              0.098333"
      ]
     },
     "execution_count": 9,
     "metadata": {},
     "output_type": "execute_result"
    }
   ],
   "source": [
    "# The dimensionality of features varies across model layers, so normalise it by the number of PCs used\n",
    "rsa_pcs = rsa_results_df[rsa_results_df['n_pcs'] == 100].reset_index(drop=True)\n",
    "rsa_pcs"
   ]
  },
  {
   "cell_type": "code",
   "execution_count": 10,
   "id": "e88fc400",
   "metadata": {},
   "outputs": [
    {
     "data": {
      "text/html": [
       "<div>\n",
       "<style scoped>\n",
       "    .dataframe tbody tr th:only-of-type {\n",
       "        vertical-align: middle;\n",
       "    }\n",
       "\n",
       "    .dataframe tbody tr th {\n",
       "        vertical-align: top;\n",
       "    }\n",
       "\n",
       "    .dataframe thead th {\n",
       "        text-align: right;\n",
       "    }\n",
       "</style>\n",
       "<table border=\"1\" class=\"dataframe\">\n",
       "  <thead>\n",
       "    <tr style=\"text-align: right;\">\n",
       "      <th></th>\n",
       "      <th>layer</th>\n",
       "      <th>n_pcs_x</th>\n",
       "      <th>test_r2</th>\n",
       "      <th>mean_fev</th>\n",
       "      <th>n_pcs_y</th>\n",
       "      <th>spearman_correlation</th>\n",
       "    </tr>\n",
       "  </thead>\n",
       "  <tbody>\n",
       "    <tr>\n",
       "      <th>0</th>\n",
       "      <td>fc</td>\n",
       "      <td>500.0</td>\n",
       "      <td>0.409375</td>\n",
       "      <td>0.432509</td>\n",
       "      <td>100.0</td>\n",
       "      <td>0.098333</td>\n",
       "    </tr>\n",
       "    <tr>\n",
       "      <th>1</th>\n",
       "      <td>layer1</td>\n",
       "      <td>10.0</td>\n",
       "      <td>0.383644</td>\n",
       "      <td>0.405533</td>\n",
       "      <td>100.0</td>\n",
       "      <td>0.098948</td>\n",
       "    </tr>\n",
       "    <tr>\n",
       "      <th>2</th>\n",
       "      <td>layer2</td>\n",
       "      <td>20.0</td>\n",
       "      <td>0.460465</td>\n",
       "      <td>0.486069</td>\n",
       "      <td>100.0</td>\n",
       "      <td>0.120419</td>\n",
       "    </tr>\n",
       "    <tr>\n",
       "      <th>3</th>\n",
       "      <td>layer3</td>\n",
       "      <td>50.0</td>\n",
       "      <td>0.462741</td>\n",
       "      <td>0.488455</td>\n",
       "      <td>100.0</td>\n",
       "      <td>0.118062</td>\n",
       "    </tr>\n",
       "    <tr>\n",
       "      <th>4</th>\n",
       "      <td>layer4</td>\n",
       "      <td>400.0</td>\n",
       "      <td>0.431894</td>\n",
       "      <td>0.456116</td>\n",
       "      <td>100.0</td>\n",
       "      <td>0.082057</td>\n",
       "    </tr>\n",
       "  </tbody>\n",
       "</table>\n",
       "</div>"
      ],
      "text/plain": [
       "    layer  n_pcs_x   test_r2  mean_fev  n_pcs_y  spearman_correlation\n",
       "0      fc    500.0  0.409375  0.432509    100.0              0.098333\n",
       "1  layer1     10.0  0.383644  0.405533    100.0              0.098948\n",
       "2  layer2     20.0  0.460465  0.486069    100.0              0.120419\n",
       "3  layer3     50.0  0.462741  0.488455    100.0              0.118062\n",
       "4  layer4    400.0  0.431894  0.456116    100.0              0.082057"
      ]
     },
     "execution_count": 10,
     "metadata": {},
     "output_type": "execute_result"
    }
   ],
   "source": [
    "merged_results = pd.merge(best_fev_per_layer, rsa_pcs, on='layer')\n",
    "merged_results"
   ]
  },
  {
   "cell_type": "code",
   "execution_count": 11,
   "id": "7f921ee5",
   "metadata": {},
   "outputs": [
    {
     "data": {
      "image/png": "[encoded data removed]",
      "text/plain": [
       "<Figure size 1000x600 with 1 Axes>"
      ]
     },
     "metadata": {},
     "output_type": "display_data"
    }
   ],
   "source": [
    "colours = merged_results['layer'].map(simclr_colours)\n",
    "\n",
    "plt.figure(figsize=(10, 6))\n",
    "plt.scatter(merged_results['spearman_correlation'], merged_results['mean_fev'], c=colours)\n",
    "\n",
    "texts = []\n",
    "for _, row in merged_results.iterrows():\n",
    "    texts.append(\n",
    "        plt.text(row['spearman_correlation'], row['mean_fev'], row['layer'],\n",
    "                 color=simclr_colours[row['layer']], fontsize=10)\n",
    "    )\n",
    "\n",
    "adjust_text(texts, arrowprops=dict(arrowstyle='-', color='gray'))\n",
    "\n",
    "plt.xlabel('RSA (Spearman Correlation)')\n",
    "plt.ylabel('Mean FEV')\n",
    "plt.title('SimCLR Layers: RSA vs. Predictive Power (PC1 Neural Data)')\n",
    "plt.grid(True)\n",
    "plt.tight_layout()\n",
    "plt.show()"
   ]
  }
 ],
 "metadata": {
  "kernelspec": {
   "display_name": "myenv",
   "language": "python",
   "name": "python3"
  },
  "language_info": {
   "codemirror_mode": {
    "name": "ipython",
    "version": 3
   },
   "file_extension": ".py",
   "mimetype": "text/x-python",
   "name": "python",
   "nbconvert_exporter": "python",
   "pygments_lexer": "ipython3",
   "version": "3.11.4"
  }
 },
 "nbformat": 4,
 "nbformat_minor": 5
}
