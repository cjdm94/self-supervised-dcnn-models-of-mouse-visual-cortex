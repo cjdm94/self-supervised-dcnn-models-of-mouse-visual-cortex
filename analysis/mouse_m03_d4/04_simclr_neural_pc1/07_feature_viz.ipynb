{
 "cells": [
  {
   "cell_type": "code",
   "execution_count": 1,
   "id": "b7859900",
   "metadata": {},
   "outputs": [],
   "source": [
    "from cortexlib.utils import file as futils\n",
    "from cortexlib.mouse import CortexlabMouse\n",
    "from cortexlib.images import CortexlabImages\n",
    "from cortexlib.simclr import PreTrainedSimCLRModel\n",
    "from cortexlib.utils.random import set_global_seed\n",
    "from cortexlib.utils.logging import Logger\n",
    "from sklearn.linear_model import RidgeCV\n",
    "from sklearn.decomposition import PCA\n",
    "import numpy as np\n",
    "import torch\n",
    "\n",
    "logger = Logger()\n",
    "set_global_seed()"
   ]
  },
  {
   "cell_type": "code",
   "execution_count": 2,
   "id": "be78d981",
   "metadata": {},
   "outputs": [
    {
     "name": "stderr",
     "output_type": "stream",
     "text": [
      "\u001b[1;37m22:21:26 | INFO     | ℹ️ This notebook is running for mouse m03_d4\u001b[0m\n"
     ]
    }
   ],
   "source": [
    "MOUSE_ID = futils.get_mouse_id()\n",
    "logger.info(f\"This notebook is running for mouse {MOUSE_ID}\")"
   ]
  },
  {
   "cell_type": "code",
   "execution_count": 3,
   "id": "607a93e5",
   "metadata": {},
   "outputs": [
    {
     "name": "stderr",
     "output_type": "stream",
     "text": [
      "\u001b[1;37m22:21:26 | INFO     | ⏳ Computing null distributions for all neurons in mouse m03_d4...\u001b[0m\n",
      "\u001b[1;32m22:21:51 | SUCCESS  | ✅ Null distributions computed!\u001b[0m\n",
      "\u001b[1;37m22:21:52 | INFO     | ℹ️ Neural responses shape: (1573, 2, 500)\u001b[0m\n"
     ]
    }
   ],
   "source": [
    "mouse = CortexlabMouse(mouse_id=MOUSE_ID)\n",
    "\n",
    "logger.progress(f\"Computing null distributions for all neurons in mouse {mouse.id}\")\n",
    "null_srv_all_neurons = mouse.compute_null_all_neurons(n_shuffles=100)\n",
    "logger.success(f\"Null distributions computed\")\n",
    "\n",
    "real_srv_all_neurons = mouse.compute_real_srv_all_neurons()\n",
    "reliable_neuron_indices = mouse.get_reliable_neuron_indices(\n",
    "            null_srv_all_neurons, real_srv_all_neurons, percentile_threshold=99)\n",
    "neural_responses_mean, neural_responses, _ = mouse.get_responses_for_reliable_neurons(reliable_neuron_indices, real_srv_all_neurons, num_neurons=500)\n",
    "\n",
    "logger.info(f\"Neural responses shape: {neural_responses.shape}\")"
   ]
  },
  {
   "cell_type": "code",
   "execution_count": 4,
   "id": "9b6880c0",
   "metadata": {},
   "outputs": [],
   "source": [
    "pca = PCA(100)\n",
    "neural_data_pcs = pca.fit_transform(neural_responses_mean)\n",
    "pc1_neural_data = neural_data_pcs[:, 0]"
   ]
  },
  {
   "cell_type": "code",
   "execution_count": 5,
   "id": "2f7559e5",
   "metadata": {},
   "outputs": [
    {
     "name": "stderr",
     "output_type": "stream",
     "text": [
      "\u001b[1;37m22:21:52 | INFO     | ℹ️ Skipping save, file already exists at /Users/callummessiter/workspace/msc-neuro/research-project/analysis/mouse_m03_d4/_neural_data/neural_data_mouse_m03_d4.pt\u001b[0m\n"
     ]
    }
   ],
   "source": [
    "futils.save_filtered_neural_data(\n",
    "    mouse_id=mouse.id,\n",
    "    neural_responses=neural_responses,\n",
    "    neural_responses_mean=neural_responses_mean)"
   ]
  },
  {
   "cell_type": "code",
   "execution_count": 6,
   "id": "7fd64f74",
   "metadata": {},
   "outputs": [
    {
     "name": "stderr",
     "output_type": "stream",
     "text": [
      "\u001b[1;37m22:21:52 | INFO     | ℹ️ Already downloaded pretrained SimCLR model\u001b[0m\n",
      "\u001b[1;37m22:21:52 | INFO     | ⏳ Loading and preprocessing images shown to mouse...\u001b[0m\n",
      "\u001b[1;32m22:22:09 | SUCCESS  | ✅ Images processed!\u001b[0m\n"
     ]
    }
   ],
   "source": [
    "simclr = PreTrainedSimCLRModel()\n",
    "\n",
    "settings = simclr.get_image_settings()\n",
    "images = CortexlabImages(\n",
    "    size=settings['size'],\n",
    "    channels=settings['channels'],\n",
    "    normalise_mean=settings['mean'], \n",
    "    normalise_std=settings['std'],\n",
    "    rescale_per_image=settings['rescale_per_image'],\n",
    ")\n",
    "\n",
    "logger.progress(\"Loading and preprocessing images shown to mouse\")\n",
    "image_dataset = images.load_images_shown_to_mouse(mouse.image_ids)\n",
    "logger.success(\"Images processed\")"
   ]
  },
  {
   "cell_type": "code",
   "execution_count": 7,
   "id": "e1d08a17",
   "metadata": {},
   "outputs": [
    {
     "name": "stderr",
     "output_type": "stream",
     "text": [
      "\u001b[1;37m22:22:09 | INFO     | ⏳ SimCLR: extracting features from images shown to mouse...\u001b[0m\n"
     ]
    },
    {
     "data": {
      "application/vnd.jupyter.widget-view+json": {
       "model_id": "907b7043ea6c4f8480d4ec3b33afdcd6",
       "version_major": 2,
       "version_minor": 0
      },
      "text/plain": [
       "  0%|          | 0/25 [00:00<?, ?it/s]"
      ]
     },
     "metadata": {},
     "output_type": "display_data"
    },
    {
     "name": "stderr",
     "output_type": "stream",
     "text": [
      "\u001b[1;32m22:22:25 | SUCCESS  | ✅ SimCLR features extracted!\u001b[0m\n",
      "\u001b[1;37m22:22:25 | INFO     | ℹ️ layer1 feats shape: (1573, 64, 24, 24)\u001b[0m\n",
      "\u001b[1;37m22:22:25 | INFO     | ℹ️ layer2 feats shape: (1573, 128, 12, 12)\u001b[0m\n",
      "\u001b[1;37m22:22:25 | INFO     | ℹ️ layer3 feats shape: (1573, 256, 6, 6)\u001b[0m\n",
      "\u001b[1;37m22:22:25 | INFO     | ℹ️ layer4 feats shape: (1573, 512, 3, 3)\u001b[0m\n",
      "\u001b[1;37m22:22:25 | INFO     | ℹ️ fc feats shape: (1573, 512)\u001b[0m\n"
     ]
    }
   ],
   "source": [
    "logger.progress(\"SimCLR: extracting features from images shown to mouse\")\n",
    "simclr_feats, labels = simclr.extract_features(image_dataset)\n",
    "logger.success(\"SimCLR features extracted\")\n",
    "\n",
    "for layer, feats in simclr_feats.items():\n",
    "    logger.info(f\"{layer} feats shape: {tuple(feats.shape)}\")"
   ]
  },
  {
   "cell_type": "code",
   "execution_count": 8,
   "id": "2523ebe7",
   "metadata": {},
   "outputs": [
    {
     "name": "stderr",
     "output_type": "stream",
     "text": [
      "\u001b[1;37m22:22:25 | INFO     | ℹ️ Skipping save, file already exists at /Users/callummessiter/workspace/msc-neuro/research-project/analysis/mouse_m03_d4/_model_features/simclr_features_mouse_m03_d4.pt\u001b[0m\n"
     ]
    }
   ],
   "source": [
    "futils.save_model_features(model=futils.Model.SIMCLR, mouse_id=mouse.id, features=simclr_feats, labels=labels)"
   ]
  },
  {
   "cell_type": "code",
   "execution_count": 9,
   "id": "1cc21743",
   "metadata": {},
   "outputs": [],
   "source": [
    "from PIL import Image\n",
    "from cortexlib.images import CortexlabRawImages\n",
    "import os\n",
    "\n",
    "img_loader = CortexlabRawImages(channels=1)\n",
    "output_dir = \"top_pc1_originals\"\n",
    "os.makedirs(output_dir, exist_ok=True)\n",
    "\n",
    "top_k = 10\n",
    "indices_top_images = np.argsort(pc1_neural_data)[-top_k:]\n",
    "\n",
    "for i, idx in enumerate(indices_top_images):\n",
    "    img, img_id = image_dataset[idx]\n",
    "    img_np = img_loader.load_mat_image(img_id)[:, :, 0]\n",
    "\n",
    "    img_norm = (img_np - img_np.min()) / (img_np.max() - img_np.min())\n",
    "    img_uint8 = (img_norm * 255).astype(np.uint8)\n",
    "    img_pil = Image.fromarray(img_uint8)\n",
    "\n",
    "    filename = f\"rank_{i}_img_{img_id}.png\"\n",
    "    filepath = os.path.join(output_dir, filename)\n",
    "    img_pil.save(filepath)"
   ]
  },
  {
   "cell_type": "code",
   "execution_count": 10,
   "id": "1716666c",
   "metadata": {},
   "outputs": [],
   "source": [
    "def regressor(X, Y):\n",
    "    alphas = np.logspace(1, 7, 20)\n",
    "    ridge = RidgeCV(alphas=alphas, store_cv_results=True)\n",
    "    ridge.fit(X, Y)\n",
    "    Y_pred = ridge.predict(X)\n",
    "    return ridge\n",
    "\n",
    "def l2_penalty(img, lam=0.0001):\n",
    "    l2_penalty = lam * torch.sum(img ** 2)\n",
    "    return l2_penalty\n",
    "\n",
    "def generate_synthetic_img(layer_name, ridge, iterations=200, l2_lam=None):\n",
    "    device = torch.device(\"cuda\" if torch.cuda.is_available() else \"cpu\")\n",
    "    sim_clr = PreTrainedSimCLRModel(intermediate_layers=[layer_name])\n",
    "\n",
    "    intermediate_features = {}\n",
    "    def hook_fn(module, input, output):\n",
    "        intermediate_features[layer_name] = output\n",
    "\n",
    "    layer = dict([*sim_clr.convnet.named_modules()])[layer_name]\n",
    "    hook_handle = layer.register_forward_hook(hook_fn)\n",
    "\n",
    "    # Convert ridge regressor weights to torch\n",
    "    ridge_weights = torch.tensor(ridge.coef_, dtype=torch.float32, device=device).unsqueeze(0) # (1, D)\n",
    "\n",
    "    synthetic_image = torch.randn(1, 1, 96, 96, device=device, requires_grad=True)\n",
    "    optimizer = torch.optim.Adam([synthetic_image], lr=0.05, weight_decay=1e-6)\n",
    "\n",
    "    for _ in range(iterations):\n",
    "        optimizer.zero_grad()\n",
    "        input_img = synthetic_image.repeat(1, 3, 1, 1)\n",
    "        _ = sim_clr.convnet(input_img)\n",
    "\n",
    "        feats = intermediate_features[layer_name].view(1, -1)\n",
    "        score = torch.matmul(feats, ridge_weights.t()).squeeze()\n",
    "        loss = -score + (l2_penalty(synthetic_image, l2_lam) if l2_lam is not None else 0) \n",
    "        \n",
    "        loss.backward()\n",
    "        optimizer.step()\n",
    "\n",
    "        synthetic_image.data.clamp_(-1, 1)\n",
    "\n",
    "    img_np = synthetic_image.detach().cpu().squeeze().numpy()\n",
    "    img_np = (img_np - img_np.min()) / (img_np.max() - img_np.min())\n",
    "\n",
    "    hook_handle.remove()\n",
    "\n",
    "    return img_np"
   ]
  },
  {
   "cell_type": "code",
   "execution_count": 11,
   "id": "34e19456",
   "metadata": {},
   "outputs": [
    {
     "name": "stderr",
     "output_type": "stream",
     "text": [
      "\u001b[1;37m22:22:28 | INFO     | ℹ️ Already downloaded pretrained SimCLR model\u001b[0m\n",
      "\u001b[1;37m22:22:32 | INFO     | ℹ️ Already downloaded pretrained SimCLR model\u001b[0m\n",
      "\u001b[1;37m22:22:37 | INFO     | ℹ️ Already downloaded pretrained SimCLR model\u001b[0m\n",
      "\u001b[1;37m22:22:42 | INFO     | ℹ️ Already downloaded pretrained SimCLR model\u001b[0m\n",
      "\u001b[1;37m22:22:48 | INFO     | ℹ️ Already downloaded pretrained SimCLR model\u001b[0m\n"
     ]
    }
   ],
   "source": [
    "import os\n",
    "from PIL import Image, ImageOps\n",
    "\n",
    "output_dir=\"synthetic_pc1_images\"\n",
    "os.makedirs(output_dir, exist_ok=True)\n",
    "\n",
    "img_size = simclr.get_image_settings()['size']\n",
    "\n",
    "for layer_name, feats in simclr_feats.items():\n",
    "    feats = feats if layer_name == 'fc' else feats.view(feats.size(0), -1)\n",
    "    idx_layer_name = 'avgpool' if layer_name == 'fc' else layer_name\n",
    "    \n",
    "    ridge = regressor(feats, pc1_neural_data)\n",
    "    synthetic_img = generate_synthetic_img(idx_layer_name, ridge, l2_lam=0.001)\n",
    "    \n",
    "    img_uint8 = (synthetic_img * 255).astype(np.uint8)\n",
    "    img_pil = Image.fromarray(img_uint8, mode='L')\n",
    "    img_resized = img_pil.resize((img_size[1]*2, img_size[0]*2), resample=Image.BICUBIC)\n",
    "\n",
    "    filename = f\"synthetic_img_{layer_name}.png\"\n",
    "    filepath = os.path.join(output_dir, filename)\n",
    "    img_resized.save(filepath)\n",
    "\n",
    "    if layer_name == 'layer3':\n",
    "        filename = f\"synthetic_img_{layer_name}_bordered.png\"\n",
    "        filepath = os.path.join(output_dir, filename)\n",
    "        img_rgb = img_resized.convert(\"RGB\")\n",
    "        bordered_img = ImageOps.expand(img_rgb, border=5, fill=\"#41e6ff\")\n",
    "        bordered_img.save(filepath)"
   ]
  }
 ],
 "metadata": {
  "kernelspec": {
   "display_name": "myenv",
   "language": "python",
   "name": "python3"
  },
  "language_info": {
   "codemirror_mode": {
    "name": "ipython",
    "version": 3
   },
   "file_extension": ".py",
   "mimetype": "text/x-python",
   "name": "python",
   "nbconvert_exporter": "python",
   "pygments_lexer": "ipython3",
   "version": "3.11.4"
  }
 },
 "nbformat": 4,
 "nbformat_minor": 5
}
