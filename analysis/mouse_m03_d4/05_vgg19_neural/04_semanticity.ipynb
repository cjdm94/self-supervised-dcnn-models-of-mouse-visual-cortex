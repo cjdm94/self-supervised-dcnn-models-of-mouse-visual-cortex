{
 "cells": [
  {
   "cell_type": "markdown",
   "id": "c18879f6",
   "metadata": {},
   "source": [
    "# FEV vs. Semanticity Analysis\n",
    "\n",
    "For each VGG19 layer, this notebook plots **mean FEV** vs. **silhouette score**.\n",
    "\n",
    "- **Mean FEV** is taken from the regression: VGG19 features (reduced to N PCs) → Neural data (original dimensionality)\n",
    "\n",
    "- For each layer, we select the **best FEV** (i.e., highest across PC counts)\n",
    "  \n",
    "- Silhouette score is calculated from TSNE-transformed, PCA-reduced VGG19 features. The number of PCs used is normalised across layers\n",
    "\n",
    "- VGG19 features are extracted from 1,000 images from the STL10 dataset (10 classes, 100 images per class)"
   ]
  },
  {
   "cell_type": "code",
   "execution_count": null,
   "id": "7551c29f",
   "metadata": {},
   "outputs": [],
   "source": [
    "from cortexlib.stl10 import STL10FewShotDataset\n",
    "from cortexlib.vgg19 import PreTrainedVGG19Model, PoolingMode\n",
    "from cortexlib.tsne import TSNEVisualizer\n",
    "from cortexlib.utils import file as futils\n",
    "from cortexlib.utils.plotting import vgg19_colours\n",
    "from cortexlib.utils.logging import Logger\n",
    "import matplotlib.pyplot as plt\n",
    "from adjustText import adjust_text\n",
    "import pandas as pd\n",
    "\n",
    "logger = Logger()"
   ]
  },
  {
   "cell_type": "code",
   "execution_count": null,
   "id": "a9bb363d",
   "metadata": {},
   "outputs": [],
   "source": [
    "MOUSE_ID = futils.get_mouse_id()\n",
    "logger.info(f\"This notebook is running for mouse {MOUSE_ID}\")"
   ]
  },
  {
   "cell_type": "code",
   "execution_count": null,
   "id": "413f17fc",
   "metadata": {},
   "outputs": [],
   "source": [
    "results = futils.read_json_file_as_dataframe('./prediction.json')\n",
    "best_fev_per_layer = results.loc[results.groupby(\"layer\")[\"mean_fev\"].idxmax()]\n",
    "\n",
    "best_fev_per_layer"
   ]
  },
  {
   "cell_type": "code",
   "execution_count": null,
   "id": "ea5bb764",
   "metadata": {},
   "outputs": [],
   "source": [
    "vgg19 = PreTrainedVGG19Model(pooling_mode=PoolingMode.AVGPOOL)\n",
    "\n",
    "settings = vgg19.get_image_settings()\n",
    "\n",
    "logger.progress(\"Loading STL10 images\")\n",
    "stl10 = STL10FewShotDataset(\n",
    "    n_per_class=100, \n",
    "    size=settings['size'],\n",
    "    channels=settings['channels'],\n",
    "    normalise_mean=settings['mean'], \n",
    "    normalise_std=settings['std'],\n",
    ")\n",
    "logger.success(\"Loaded STL10 images\")"
   ]
  },
  {
   "cell_type": "code",
   "execution_count": null,
   "id": "00197b6a",
   "metadata": {},
   "outputs": [],
   "source": [
    "logger.progress(\"VGG19: extracting features from STL10 images\")\n",
    "vgg19_feats, labels = vgg19.extract_features_with_pooling(stl10.dataset)\n",
    "logger.success(\"VGG19 features extracted\")\n",
    "\n",
    "for layer, feats in vgg19_feats.items():\n",
    "    logger.info(f\"{layer} feats shape: {tuple(feats.shape)}\")"
   ]
  },
  {
   "cell_type": "code",
   "execution_count": null,
   "id": "0a7f2116",
   "metadata": {},
   "outputs": [],
   "source": [
    "# Map each label to its corresponding class name\n",
    "class_labels = [stl10.class_names[label] for label in labels]\n",
    "\n",
    "tsne_visualiser = TSNEVisualizer()\n",
    "\n",
    "logger.progress(\"Computing TSNE features from VGG19 features\")\n",
    "tsne_feats = tsne_visualiser.compute_tsne(vgg19_feats, n_pca_components=50)\n",
    "logger.success(\"TSNE features computed\")\n",
    "\n",
    "silhouette_scores = tsne_visualiser.compute_silhouette_scores(tsne_feats, class_labels)"
   ]
  },
  {
   "cell_type": "code",
   "execution_count": null,
   "id": "c2f291c9",
   "metadata": {},
   "outputs": [],
   "source": [
    "# json.dump() cannot serialize NumPy float32 types; convert to native Python floats first\n",
    "silhouette_scores = {k: float(v) for k, v in silhouette_scores.items()}\n",
    "futils.write_json_file(silhouette_scores, './semanticity.json')"
   ]
  },
  {
   "cell_type": "code",
   "execution_count": null,
   "id": "ac800e13",
   "metadata": {},
   "outputs": [],
   "source": [
    "silhouette_df = pd.DataFrame(list(silhouette_scores.items()), columns=['layer', 'silhouette_score'])\n",
    "silhouette_df"
   ]
  },
  {
   "cell_type": "code",
   "execution_count": null,
   "id": "d87684c6",
   "metadata": {},
   "outputs": [],
   "source": [
    "ordered_class_names = ['car', 'truck', 'ship', 'airplane', 'bird', 'cat',\n",
    "                       'dog', 'deer', 'horse', 'monkey']\n",
    "\n",
    "tsne_visualiser.plot_clusters_all_layers(tsne_feats, class_labels, custom_legend_order=ordered_class_names)"
   ]
  },
  {
   "cell_type": "code",
   "execution_count": null,
   "id": "375a06a5",
   "metadata": {},
   "outputs": [],
   "source": [
    "merged_results = pd.merge(best_fev_per_layer, silhouette_df, on='layer')\n",
    "merged_results"
   ]
  },
  {
   "cell_type": "code",
   "execution_count": null,
   "id": "88682e41",
   "metadata": {},
   "outputs": [],
   "source": [
    "colours = merged_results['layer'].map(vgg19_colours)\n",
    "\n",
    "plt.figure(figsize=(10, 6))\n",
    "plt.scatter(merged_results['silhouette_score'], merged_results['mean_fev'], c=colours)\n",
    "\n",
    "texts = []\n",
    "for _, row in merged_results.iterrows():\n",
    "    texts.append(\n",
    "        plt.text(row['silhouette_score'], row['mean_fev'], row['layer'],\n",
    "                 color=vgg19_colours[row['layer']], fontsize=10)\n",
    "        )            \n",
    "\n",
    "adjust_text(texts, arrowprops=dict(arrowstyle='-', color='gray'))\n",
    "\n",
    "plt.xlabel('Silhouette Score')\n",
    "plt.ylabel('Mean FEV')\n",
    "plt.title('VGG19 Layers: Semanticity vs. Predictive Power (Neural Data)')\n",
    "plt.grid(True)\n",
    "plt.tight_layout()\n",
    "plt.show()"
   ]
  }
 ],
 "metadata": {
  "kernelspec": {
   "display_name": "myenv",
   "language": "python",
   "name": "python3"
  },
  "language_info": {
   "codemirror_mode": {
    "name": "ipython",
    "version": 3
   },
   "file_extension": ".py",
   "mimetype": "text/x-python",
   "name": "python",
   "nbconvert_exporter": "python",
   "pygments_lexer": "ipython3",
   "version": "3.11.4"
  }
 },
 "nbformat": 4,
 "nbformat_minor": 5
}
