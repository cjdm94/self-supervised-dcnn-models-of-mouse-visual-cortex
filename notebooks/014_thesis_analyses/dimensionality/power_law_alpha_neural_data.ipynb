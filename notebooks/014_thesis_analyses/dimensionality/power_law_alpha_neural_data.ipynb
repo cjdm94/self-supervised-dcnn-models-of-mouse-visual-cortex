{
 "cells": [
  {
   "cell_type": "markdown",
   "id": "f2b5db0b",
   "metadata": {},
   "source": [
    "# Power Law Alpha - Neural Data\n",
    "\n",
    "This notebook computes the power-law exponent (α) of the eigenspectrum of neural responses. It calculates α both with and without the first principal component (PC1) to assess how much PC1 dominates the variance."
   ]
  },
  {
   "cell_type": "code",
   "execution_count": 1,
   "id": "f1952374",
   "metadata": {},
   "outputs": [],
   "source": [
    "from cortexlib.power_law import PowerLawAlphaEstimator\n",
    "from cortexlib.utils.logging import Logger\n",
    "from cortexlib.utils.random import set_global_seed\n",
    "import pandas as pd\n",
    "import torch\n",
    "import warnings\n",
    "\n",
    "logger = Logger()\n",
    "set_global_seed()"
   ]
  },
  {
   "cell_type": "code",
   "execution_count": 2,
   "id": "ef9561be",
   "metadata": {},
   "outputs": [
    {
     "name": "stderr",
     "output_type": "stream",
     "text": [
      "\u001b[1;37m19:17:01 | INFO     | ⏳ Computing α for neural data...\u001b[0m\n",
      "\u001b[1;32m19:17:01 | SUCCESS  | ✅ Alphas computed for neural data!\u001b[0m\n"
     ]
    },
    {
     "name": "stdout",
     "output_type": "stream",
     "text": [
      "xmin progress: 99%\r"
     ]
    },
    {
     "data": {
      "text/html": [
       "<div>\n",
       "<style scoped>\n",
       "    .dataframe tbody tr th:only-of-type {\n",
       "        vertical-align: middle;\n",
       "    }\n",
       "\n",
       "    .dataframe tbody tr th {\n",
       "        vertical-align: top;\n",
       "    }\n",
       "\n",
       "    .dataframe thead th {\n",
       "        text-align: right;\n",
       "    }\n",
       "</style>\n",
       "<table border=\"1\" class=\"dataframe\">\n",
       "  <thead>\n",
       "    <tr style=\"text-align: right;\">\n",
       "      <th></th>\n",
       "      <th>layer</th>\n",
       "      <th>alpha</th>\n",
       "      <th>alpha_no_pc1</th>\n",
       "    </tr>\n",
       "  </thead>\n",
       "  <tbody>\n",
       "    <tr>\n",
       "      <th>0</th>\n",
       "      <td>neural_data</td>\n",
       "      <td>2.618053</td>\n",
       "      <td>2.670324</td>\n",
       "    </tr>\n",
       "  </tbody>\n",
       "</table>\n",
       "</div>"
      ],
      "text/plain": [
       "         layer     alpha  alpha_no_pc1\n",
       "0  neural_data  2.618053      2.670324"
      ]
     },
     "execution_count": 2,
     "metadata": {},
     "output_type": "execute_result"
    }
   ],
   "source": [
    "with warnings.catch_warnings():\n",
    "    warnings.simplefilter(\"ignore\", category=FutureWarning)\n",
    "    neural_data = torch.load('../regressions/neural_data/neural_responses_mean.pt')\n",
    "\n",
    "neural_responses_mean = neural_data['neural_responses_mean']\n",
    "\n",
    "neural_pla_estimator = PowerLawAlphaEstimator()\n",
    "\n",
    "neural_alpha_results = []\n",
    "\n",
    "logger.progress(f\"Computing α for neural data\")\n",
    "alpha = neural_pla_estimator.compute_alpha(neural_responses_mean)\n",
    "neural_alpha_results.append({\n",
    "    'layer': 'neural_data',\n",
    "    'alpha': alpha['alpha'],\n",
    "    'alpha_no_pc1': alpha['alpha_no_pc1'],\n",
    "})\n",
    "logger.success(f\"Alphas computed for neural data\")\n",
    "\n",
    "neural_alpha_results_df = pd.DataFrame(neural_alpha_results)\n",
    "neural_alpha_results_df"
   ]
  }
 ],
 "metadata": {
  "kernelspec": {
   "display_name": "myenv",
   "language": "python",
   "name": "python3"
  },
  "language_info": {
   "codemirror_mode": {
    "name": "ipython",
    "version": 3
   },
   "file_extension": ".py",
   "mimetype": "text/x-python",
   "name": "python",
   "nbconvert_exporter": "python",
   "pygments_lexer": "ipython3",
   "version": "3.11.4"
  }
 },
 "nbformat": 4,
 "nbformat_minor": 5
}
