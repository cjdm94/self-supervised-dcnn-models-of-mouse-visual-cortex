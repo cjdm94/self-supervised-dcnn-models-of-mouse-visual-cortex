{
 "cells": [
  {
   "cell_type": "code",
   "execution_count": null,
   "id": "a528f70d",
   "metadata": {},
   "outputs": [],
   "source": [
    "from cortexlib.mouse import CortexlabMouse\n",
    "from cortexlib.images import CortexlabImages\n",
    "from cortexlib.simclr import PreTrainedSimCLRModel\n",
    "from cortexlib.predictor import NeuralResponsePredictor\n",
    "from cortexlib.utils.file import write_json_file\n",
    "from cortexlib.utils.plotting import simclr_colours\n",
    "from cortexlib.utils.random import set_global_seed\n",
    "from cortexlib.utils.logging import Logger\n",
    "import matplotlib.pyplot as plt\n",
    "import pandas as pd\n",
    "\n",
    "logger = Logger()\n",
    "set_global_seed()"
   ]
  },
  {
   "cell_type": "code",
   "execution_count": null,
   "id": "71df9aa2",
   "metadata": {},
   "outputs": [],
   "source": [
    "mouse = CortexlabMouse()\n",
    "\n",
    "logger.progress(\"Computing null distributions for all neurons...\")\n",
    "null_srv_all_neurons = mouse.compute_null_all_neurons(n_shuffles=100)\n",
    "\n",
    "real_srv_all_neurons = mouse.compute_real_srv_all_neurons()\n",
    "reliable_neuron_indices = mouse.get_reliable_neuron_indices(\n",
    "            null_srv_all_neurons, real_srv_all_neurons, percentile_threshold=99)\n",
    "neural_responses_mean, neural_responses, _ = mouse.get_responses_for_reliable_neurons(reliable_neuron_indices, real_srv_all_neurons, num_neurons=500)\n",
    "\n",
    "logger.info(f\"Neural responses shape: {neural_responses.shape}\")"
   ]
  },
  {
   "cell_type": "code",
   "execution_count": null,
   "id": "291f9315",
   "metadata": {},
   "outputs": [],
   "source": [
    "images = CortexlabImages()\n",
    "\n",
    "logger.progress(\"Loading and preprocessing images shown to mouse...\")\n",
    "image_dataset = images.load_images_shown_to_mouse(mouse.image_ids)\n",
    "logger.success(\"Images processed\")"
   ]
  },
  {
   "cell_type": "code",
   "execution_count": null,
   "id": "6ccdd29e",
   "metadata": {},
   "outputs": [],
   "source": [
    "simclr = PreTrainedSimCLRModel()\n",
    "\n",
    "logger.progress(\"SimCLR: extracting features from images shown to mouse\")\n",
    "simclr_feats, labels = simclr.extract_features(image_dataset)\n",
    "logger.success(\"SimCLR features extracted\")\n",
    "\n",
    "for layer, feats in simclr_feats.items():\n",
    "    logger.info(f\"SimCLR {layer} feats shape: {tuple(feats.shape)}\")"
   ]
  },
  {
   "cell_type": "code",
   "execution_count": null,
   "id": "9abbe6ad",
   "metadata": {},
   "outputs": [],
   "source": [
    "results = []\n",
    "\n",
    "logger.progress(\"Running regressions: SimCLR Feats => Neural Data\")\n",
    "for layer, feats in simclr_feats.items():\n",
    "    logger.progress(f\"SimCLR {layer}\")\n",
    "\n",
    "    predictor = NeuralResponsePredictor()\n",
    "    r_squared = predictor.compute_r_squared(feats, neural_responses)\n",
    "    fev = predictor.compute_fev(feats, neural_responses)\n",
    "    \n",
    "    results.append({\n",
    "        'layer': layer,\n",
    "        'test_r2': r_squared['test_r2'],\n",
    "        'mean_fev': fev['mean_fev']\n",
    "    })\n",
    "\n",
    "logger.success(f\"Regressions complete\")"
   ]
  },
  {
   "cell_type": "code",
   "execution_count": null,
   "id": "4f3647d6",
   "metadata": {},
   "outputs": [],
   "source": [
    "write_json_file(results, f'./results/simclr_feats_to_neural_data.json')"
   ]
  },
  {
   "cell_type": "code",
   "execution_count": null,
   "id": "753f6385",
   "metadata": {},
   "outputs": [],
   "source": [
    "results_df = pd.DataFrame(results)\n",
    "results_df.head(12)"
   ]
  },
  {
   "cell_type": "code",
   "execution_count": null,
   "id": "4e042dcf",
   "metadata": {},
   "outputs": [],
   "source": [
    "layers = [r['layer'] for r in results]\n",
    "mean_fevs = [r['mean_fev'] for r in results]\n",
    "\n",
    "colors = [simclr_colours[layer] for layer in layers]\n",
    "\n",
    "plt.figure(figsize=(8, 5))\n",
    "plt.bar(layers, mean_fevs, color=colors)\n",
    "plt.ylabel(\"Mean FEV\")\n",
    "plt.xlabel(\"SimCLR Layer\")\n",
    "plt.title(\"Raw Neural Data: Mean FEV per Layer\")\n",
    "plt.xticks(rotation=45)\n",
    "plt.tight_layout()\n",
    "plt.show()"
   ]
  }
 ],
 "metadata": {
  "kernelspec": {
   "display_name": "myenv",
   "language": "python",
   "name": "python3"
  },
  "language_info": {
   "codemirror_mode": {
    "name": "ipython",
    "version": 3
   },
   "file_extension": ".py",
   "mimetype": "text/x-python",
   "name": "python",
   "nbconvert_exporter": "python",
   "pygments_lexer": "ipython3",
   "version": "3.11.4"
  }
 },
 "nbformat": 4,
 "nbformat_minor": 5
}
