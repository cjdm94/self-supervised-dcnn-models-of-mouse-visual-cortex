{
 "cells": [
  {
   "cell_type": "code",
   "execution_count": null,
   "id": "71df9aa2",
   "metadata": {},
   "outputs": [],
   "source": [
    "from cortexlib.mouse import CortexlabMouse\n",
    "\n",
    "mouse = CortexlabMouse()\n",
    "\n",
    "null_srv_all_neurons = mouse.compute_null_all_neurons(n_shuffles=100)\n",
    "real_srv_all_neurons = mouse.compute_real_srv_all_neurons()\n",
    "reliable_neuron_indices = mouse.get_reliable_neuron_indices(\n",
    "            null_srv_all_neurons, real_srv_all_neurons, percentile_threshold=99)\n",
    "neural_responses_mean, neural_responses, _ = mouse.get_responses_for_reliable_neurons(reliable_neuron_indices, real_srv_all_neurons, num_neurons=500)"
   ]
  },
  {
   "cell_type": "code",
   "execution_count": null,
   "id": "291f9315",
   "metadata": {},
   "outputs": [],
   "source": [
    "from cortexlib.images import CortexlabImages\n",
    "\n",
    "images = CortexlabImages()\n",
    "image_dataset = images.load_images_shown_to_mouse(mouse.image_ids)"
   ]
  },
  {
   "cell_type": "code",
   "execution_count": null,
   "id": "6ccdd29e",
   "metadata": {},
   "outputs": [],
   "source": [
    "from cortexlib.simclr import PreTrainedSimCLRModel\n",
    "\n",
    "simclr = PreTrainedSimCLRModel()\n",
    "simclr_features, labels = simclr.extract_features(image_dataset)"
   ]
  },
  {
   "cell_type": "code",
   "execution_count": null,
   "id": "f5554e9b",
   "metadata": {},
   "outputs": [],
   "source": [
    "from cortexlib.predictor import NeuralResponsePredictor\n",
    "\n",
    "results = []\n",
    "\n",
    "for layer, feats in simclr_features.items():\n",
    "    predictor = NeuralResponsePredictor(neural_data_pc_index=0)\n",
    "    r_squared = predictor.compute_r_squared(feats, neural_responses)\n",
    "    fev = predictor.compute_fev(feats, neural_responses)\n",
    "    \n",
    "    results.append({\n",
    "        'layer': layer,\n",
    "        'test_r2': r_squared['test_r2'],\n",
    "        'mean_fev': fev['mean_fev']\n",
    "    })"
   ]
  },
  {
   "cell_type": "code",
   "execution_count": null,
   "id": "b6dad88b",
   "metadata": {},
   "outputs": [],
   "source": [
    "from cortexlib.utils.file import write_json_file\n",
    "\n",
    "write_json_file(results, f'./results/simclr_feats_to_pc1_neural_data.json')"
   ]
  },
  {
   "cell_type": "code",
   "execution_count": null,
   "id": "7bdcfde9",
   "metadata": {},
   "outputs": [],
   "source": [
    "import matplotlib.pyplot as plt\n",
    "from cortexlib.utils.plotting import simclr_colors\n",
    "\n",
    "layers = [r['layer'] for r in results]\n",
    "mean_fevs = [r['mean_fev'] for r in results]\n",
    "\n",
    "colors = [simclr_colors[layer] for layer in layers]\n",
    "\n",
    "plt.figure(figsize=(8, 5))\n",
    "plt.bar(layers, mean_fevs, color=colors)\n",
    "plt.ylabel(\"Mean FEV\")\n",
    "plt.xlabel(\"SimCLR Layer\")\n",
    "plt.title(\"PC1 Neural Data: Mean FEV per Layer\")\n",
    "plt.xticks(rotation=45)\n",
    "plt.tight_layout()\n",
    "plt.show()"
   ]
  }
 ],
 "metadata": {
  "kernelspec": {
   "display_name": "myenv",
   "language": "python",
   "name": "python3"
  },
  "language_info": {
   "codemirror_mode": {
    "name": "ipython",
    "version": 3
   },
   "file_extension": ".py",
   "mimetype": "text/x-python",
   "name": "python",
   "nbconvert_exporter": "python",
   "pygments_lexer": "ipython3",
   "version": "3.11.4"
  }
 },
 "nbformat": 4,
 "nbformat_minor": 5
}
