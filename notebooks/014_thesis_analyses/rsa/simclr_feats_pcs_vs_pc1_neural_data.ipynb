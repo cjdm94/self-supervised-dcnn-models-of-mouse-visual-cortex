{
 "cells": [
  {
   "cell_type": "code",
   "execution_count": null,
   "id": "a159b1c7",
   "metadata": {},
   "outputs": [],
   "source": [
    "from cortexlib.utils.random import set_global_seed\n",
    "\n",
    "set_global_seed()"
   ]
  },
  {
   "cell_type": "code",
   "execution_count": null,
   "id": "e990db33",
   "metadata": {},
   "outputs": [],
   "source": [
    "from cortexlib.utils.file import read_json_file_as_dataframe\n",
    "\n",
    "# For each layer, results has an FEV score for predicting neural data from SimCLR features reduced to N PCs\n",
    "# Load results and filter the best FEV per layer (e.g. feats reduced to optimal number of PCs)\n",
    "fev_results = read_json_file_as_dataframe('../regressions/results/simclr_feats_pcs_to_neural_data.json')\n",
    "best_fev_per_layer = fev_results.loc[fev_results.groupby(\"layer\")[\"mean_fev\"].idxmax()]\n",
    "\n",
    "best_fev_per_layer"
   ]
  },
  {
   "cell_type": "code",
   "execution_count": null,
   "id": "608c80f2",
   "metadata": {},
   "outputs": [],
   "source": [
    "import torch\n",
    "import warnings\n",
    "\n",
    "with warnings.catch_warnings():\n",
    "    warnings.simplefilter(\"ignore\", category=FutureWarning)\n",
    "    simclr_data = torch.load('../regressions/features/simclr_features_all_layers.pt')\n",
    "\n",
    "simclr_feats = simclr_data['features']"
   ]
  },
  {
   "cell_type": "code",
   "execution_count": null,
   "id": "dfcdfeee",
   "metadata": {},
   "outputs": [],
   "source": [
    "with warnings.catch_warnings():\n",
    "    warnings.simplefilter(\"ignore\", category=FutureWarning)\n",
    "    neural_data = torch.load('../regressions/neural_data/neural_responses_mean.pt')\n",
    "\n",
    "neural_responses_mean = neural_data['neural_responses_mean']"
   ]
  },
  {
   "cell_type": "code",
   "execution_count": null,
   "id": "480d58c8",
   "metadata": {},
   "outputs": [],
   "source": [
    "from cortexlib.rsa import RSA\n",
    "import pandas as pd\n",
    "from sklearn.decomposition import PCA\n",
    "from tqdm import tqdm\n",
    "\n",
    "rsa = RSA(neural_data=neural_responses_mean, neural_data_pc_index=0)\n",
    "\n",
    "rsa_results = []\n",
    "\n",
    "for layer, feats in tqdm(simclr_feats.items()):\n",
    "    feats = feats if feats.dim() <= 2 else feats.view(feats.size(0), -1)\n",
    "    \n",
    "    for n_pcs in [None, 10, 20, 50, 100, 200, 300, 400, 500]:\n",
    "        feats_pca = feats if n_pcs is None else PCA(n_pcs).fit_transform(feats)\n",
    "        sim = rsa.compute_similarity_with_neural_data(feats_pca)\n",
    "        rsa_results.append({\n",
    "            'layer': layer,\n",
    "            'n_pcs': n_pcs,\n",
    "            'spearman_correlation': sim,\n",
    "        })"
   ]
  },
  {
   "cell_type": "code",
   "execution_count": null,
   "id": "7accaa03",
   "metadata": {},
   "outputs": [],
   "source": [
    "from cortexlib.utils.file import write_json_file\n",
    "\n",
    "write_json_file(rsa_results, './results/rsa_simclr_feats_pcs_vs_pc1_neural_data.json')"
   ]
  },
  {
   "cell_type": "code",
   "execution_count": null,
   "id": "3b1b273a",
   "metadata": {},
   "outputs": [],
   "source": [
    "rsa_results_df = pd.DataFrame(rsa_results)\n",
    "\n",
    "best_rsa_per_layer = rsa_results_df.loc[\n",
    "    rsa_results_df.groupby('layer')['spearman_correlation'].idxmax()\n",
    "].reset_index(drop=True)\n",
    "\n",
    "best_rsa_per_layer"
   ]
  },
  {
   "cell_type": "code",
   "execution_count": null,
   "id": "e88fc400",
   "metadata": {},
   "outputs": [],
   "source": [
    "merged_results = pd.merge(best_fev_per_layer, best_rsa_per_layer, on='layer')\n",
    "merged_results"
   ]
  },
  {
   "cell_type": "code",
   "execution_count": null,
   "id": "7f921ee5",
   "metadata": {},
   "outputs": [],
   "source": [
    "import matplotlib.pyplot as plt\n",
    "from cortexlib.utils.plotting import simclr_colours\n",
    "from adjustText import adjust_text\n",
    "\n",
    "# TODO: compose into plotting function\n",
    "\n",
    "colours = merged_results['layer'].map(simclr_colours)\n",
    "\n",
    "plt.figure(figsize=(10, 6))\n",
    "plt.scatter(merged_results['spearman_correlation'], merged_results['mean_fev'], c=colours)\n",
    "\n",
    "texts = []\n",
    "for _, row in merged_results.iterrows():\n",
    "    texts.append(\n",
    "        plt.text(row['spearman_correlation'], row['mean_fev'], row['layer'],\n",
    "                 color=simclr_colours[row['layer']], fontsize=10)\n",
    "    )\n",
    "\n",
    "adjust_text(texts, arrowprops=dict(arrowstyle='-', color='gray'))\n",
    "\n",
    "plt.xlabel('RSA (Spearman Correlation)')\n",
    "plt.ylabel('Mean FEV')\n",
    "plt.title('SimCLR Layers: RSA vs. Predictive Power (PC1 Neural Data)')\n",
    "plt.grid(True)\n",
    "plt.tight_layout()\n",
    "plt.show()"
   ]
  }
 ],
 "metadata": {
  "kernelspec": {
   "display_name": "myenv",
   "language": "python",
   "name": "python3"
  },
  "language_info": {
   "codemirror_mode": {
    "name": "ipython",
    "version": 3
   },
   "file_extension": ".py",
   "mimetype": "text/x-python",
   "name": "python",
   "nbconvert_exporter": "python",
   "pygments_lexer": "ipython3",
   "version": "3.11.4"
  }
 },
 "nbformat": 4,
 "nbformat_minor": 5
}
