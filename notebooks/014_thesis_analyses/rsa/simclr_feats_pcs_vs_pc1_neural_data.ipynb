{
 "cells": [
  {
   "cell_type": "code",
   "execution_count": 1,
   "id": "a159b1c7",
   "metadata": {},
   "outputs": [],
   "source": [
    "from cortexlib.utils.random import set_global_seed\n",
    "\n",
    "set_global_seed()"
   ]
  },
  {
   "cell_type": "code",
   "execution_count": 2,
   "id": "e990db33",
   "metadata": {},
   "outputs": [
    {
     "data": {
      "text/html": [
       "<div>\n",
       "<style scoped>\n",
       "    .dataframe tbody tr th:only-of-type {\n",
       "        vertical-align: middle;\n",
       "    }\n",
       "\n",
       "    .dataframe tbody tr th {\n",
       "        vertical-align: top;\n",
       "    }\n",
       "\n",
       "    .dataframe thead th {\n",
       "        text-align: right;\n",
       "    }\n",
       "</style>\n",
       "<table border=\"1\" class=\"dataframe\">\n",
       "  <thead>\n",
       "    <tr style=\"text-align: right;\">\n",
       "      <th></th>\n",
       "      <th>layer</th>\n",
       "      <th>n_pcs</th>\n",
       "      <th>test_r2</th>\n",
       "      <th>mean_fev</th>\n",
       "    </tr>\n",
       "  </thead>\n",
       "  <tbody>\n",
       "    <tr>\n",
       "      <th>37</th>\n",
       "      <td>fc</td>\n",
       "      <td>10.0</td>\n",
       "      <td>0.017885</td>\n",
       "      <td>0.112693</td>\n",
       "    </tr>\n",
       "    <tr>\n",
       "      <th>2</th>\n",
       "      <td>layer1</td>\n",
       "      <td>20.0</td>\n",
       "      <td>0.026780</td>\n",
       "      <td>0.127222</td>\n",
       "    </tr>\n",
       "    <tr>\n",
       "      <th>9</th>\n",
       "      <td>layer2</td>\n",
       "      <td>NaN</td>\n",
       "      <td>0.030758</td>\n",
       "      <td>0.177962</td>\n",
       "    </tr>\n",
       "    <tr>\n",
       "      <th>26</th>\n",
       "      <td>layer3</td>\n",
       "      <td>500.0</td>\n",
       "      <td>0.035916</td>\n",
       "      <td>0.157459</td>\n",
       "    </tr>\n",
       "    <tr>\n",
       "      <th>27</th>\n",
       "      <td>layer4</td>\n",
       "      <td>NaN</td>\n",
       "      <td>0.022729</td>\n",
       "      <td>0.112540</td>\n",
       "    </tr>\n",
       "  </tbody>\n",
       "</table>\n",
       "</div>"
      ],
      "text/plain": [
       "     layer  n_pcs   test_r2  mean_fev\n",
       "37      fc   10.0  0.017885  0.112693\n",
       "2   layer1   20.0  0.026780  0.127222\n",
       "9   layer2    NaN  0.030758  0.177962\n",
       "26  layer3  500.0  0.035916  0.157459\n",
       "27  layer4    NaN  0.022729  0.112540"
      ]
     },
     "execution_count": 2,
     "metadata": {},
     "output_type": "execute_result"
    }
   ],
   "source": [
    "from cortexlib.utils.file import read_json_file_as_dataframe\n",
    "\n",
    "# For each layer, results has an FEV score for predicting neural data from SimCLR features reduced to N PCs\n",
    "# Load results and filter the best FEV per layer (e.g. feats reduced to optimal number of PCs)\n",
    "fev_results = read_json_file_as_dataframe('../regressions/results/simclr_feats_pcs_to_neural_data.json')\n",
    "best_fev_per_layer = fev_results.loc[fev_results.groupby(\"layer\")[\"mean_fev\"].idxmax()]\n",
    "\n",
    "best_fev_per_layer"
   ]
  },
  {
   "cell_type": "code",
   "execution_count": 3,
   "id": "608c80f2",
   "metadata": {},
   "outputs": [],
   "source": [
    "import torch\n",
    "import warnings\n",
    "\n",
    "with warnings.catch_warnings():\n",
    "    warnings.simplefilter(\"ignore\", category=FutureWarning)\n",
    "    simclr_data = torch.load('../regressions/features/simclr_features_all_layers.pt')\n",
    "\n",
    "simclr_feats = simclr_data['features']"
   ]
  },
  {
   "cell_type": "code",
   "execution_count": 4,
   "id": "dfcdfeee",
   "metadata": {},
   "outputs": [],
   "source": [
    "with warnings.catch_warnings():\n",
    "    warnings.simplefilter(\"ignore\", category=FutureWarning)\n",
    "    neural_data = torch.load('../regressions/neural_data/neural_responses_mean.pt')\n",
    "\n",
    "neural_responses_mean = neural_data['neural_responses_mean']"
   ]
  },
  {
   "cell_type": "code",
   "execution_count": null,
   "id": "480d58c8",
   "metadata": {},
   "outputs": [
    {
     "name": "stderr",
     "output_type": "stream",
     "text": [
      "  0%|          | 0/5 [00:00<?, ?it/s]"
     ]
    }
   ],
   "source": [
    "from scipy.spatial.distance import pdist, squareform\n",
    "from scipy.stats import rankdata\n",
    "import numpy as np\n",
    "import pandas as pd\n",
    "from sklearn.decomposition import PCA\n",
    "from tqdm import tqdm\n",
    "\n",
    "# TODO: compose into an RSA class\n",
    "\n",
    "def stable_spearman(a, b):\n",
    "    \"\"\"\n",
    "    Computes a numerically stable Spearman rank correlation coefficient between two vectors.\n",
    "\n",
    "    This function is equivalent to scipy.stats.spearmanr(a, b).correlation,\n",
    "    but is more stable when applied to long vectors with many tied or nearly-tied values,\n",
    "    which can cause spearmanr() or kendalltau() to return NaN due to rank degeneracy.\n",
    "    \"\"\"\n",
    "    mask = ~np.isnan(a) & ~np.isnan(b)\n",
    "    if np.sum(mask) < 2:\n",
    "        return np.nan\n",
    "\n",
    "    r1 = rankdata(a[mask])\n",
    "    r2 = rankdata(b[mask])\n",
    "    if np.std(r1) == 0 or np.std(r2) == 0:\n",
    "        return np.nan\n",
    "\n",
    "    return np.corrcoef(r1, r2)[0, 1]\n",
    "\n",
    "\n",
    "def compute_rdm(X, metric='correlation'):\n",
    "    return squareform(pdist(X, metric=metric))\n",
    "\n",
    "def vectorise_rdm(rdm):\n",
    "    triu_idx = np.triu_indices(rdm.shape[0], k=1)\n",
    "    return rdm[triu_idx]\n",
    "\n",
    "# Get first PC of neural data\n",
    "neural_pca = PCA(n_components=1)\n",
    "neural_data_pc1 = neural_pca.fit_transform(neural_responses_mean)\n",
    "\n",
    "# Compute neural RDM once\n",
    "rdm_neural = compute_rdm(neural_data_pc1, metric='euclidean') # because PC1 is 1D, metric='correlation' distance is undefined\n",
    "vec_neural = vectorise_rdm(rdm_neural)\n",
    "\n",
    "rsa_results = []\n",
    "\n",
    "for layer, feats in tqdm(simclr_feats.items()):\n",
    "    if feats.dim() > 2:\n",
    "        feats = feats.view(feats.size(0), -1)\n",
    "    feats = feats.numpy()\n",
    "    \n",
    "    for n_pcs in [None, 10, 20, 50, 100, 200, 300, 400, 500]:\n",
    "        feats_pca = feats if n_pcs is None else PCA(n_pcs).fit_transform(feats)\n",
    "\n",
    "        rdm_simclr = compute_rdm(feats_pca, metric='correlation')\n",
    "        vec_simclr = vectorise_rdm(rdm_simclr)\n",
    "\n",
    "        sim = stable_spearman(vec_neural, vec_simclr)\n",
    "\n",
    "        rsa_results.append({\n",
    "            'layer': layer,\n",
    "            'n_pcs': n_pcs,\n",
    "            'spearman_correlation': sim,\n",
    "        })"
   ]
  },
  {
   "cell_type": "code",
   "execution_count": null,
   "id": "7accaa03",
   "metadata": {},
   "outputs": [],
   "source": [
    "from cortexlib.utils.file import write_json_file\n",
    "\n",
    "write_json_file(rsa_results, './results/rsa_simclr_feats_pcs_vs_pc1_neural_data.json')"
   ]
  },
  {
   "cell_type": "code",
   "execution_count": null,
   "id": "3b1b273a",
   "metadata": {},
   "outputs": [],
   "source": [
    "rsa_results_df = pd.DataFrame(rsa_results)\n",
    "\n",
    "best_rsa_per_layer = rsa_results_df.loc[\n",
    "    rsa_results_df.groupby('layer')['spearman_correlation'].idxmax()\n",
    "].reset_index(drop=True)\n",
    "\n",
    "best_rsa_per_layer"
   ]
  },
  {
   "cell_type": "code",
   "execution_count": null,
   "id": "e88fc400",
   "metadata": {},
   "outputs": [],
   "source": [
    "merged_results = pd.merge(best_fev_per_layer, best_rsa_per_layer, on='layer')\n",
    "merged_results"
   ]
  },
  {
   "cell_type": "code",
   "execution_count": null,
   "id": "7f921ee5",
   "metadata": {},
   "outputs": [],
   "source": [
    "import matplotlib.pyplot as plt\n",
    "from cortexlib.utils.plotting import simclr_colours\n",
    "from adjustText import adjust_text\n",
    "\n",
    "# TODO: compose into plotting function\n",
    "\n",
    "colours = merged_results['layer'].map(simclr_colours)\n",
    "\n",
    "plt.figure(figsize=(10, 6))\n",
    "plt.scatter(merged_results['spearman_correlation'], merged_results['mean_fev'], c=colours)\n",
    "\n",
    "texts = []\n",
    "for _, row in merged_results.iterrows():\n",
    "    texts.append(\n",
    "        plt.text(row['spearman_correlation'], row['mean_fev'], row['layer'],\n",
    "                 color=simclr_colours[row['layer']], fontsize=10)\n",
    "    )\n",
    "\n",
    "adjust_text(texts, arrowprops=dict(arrowstyle='-', color='gray'))\n",
    "\n",
    "plt.xlabel('RSA (Spearman Correlation)')\n",
    "plt.ylabel('Mean FEV')\n",
    "plt.title('SimCLR Layers: RSA vs. Predictive Power (PC1 Neural Data)')\n",
    "plt.grid(True)\n",
    "plt.tight_layout()\n",
    "plt.show()"
   ]
  }
 ],
 "metadata": {
  "kernelspec": {
   "display_name": "myenv",
   "language": "python",
   "name": "python3"
  },
  "language_info": {
   "codemirror_mode": {
    "name": "ipython",
    "version": 3
   },
   "file_extension": ".py",
   "mimetype": "text/x-python",
   "name": "python",
   "nbconvert_exporter": "python",
   "pygments_lexer": "ipython3",
   "version": "3.11.4"
  }
 },
 "nbformat": 4,
 "nbformat_minor": 5
}
