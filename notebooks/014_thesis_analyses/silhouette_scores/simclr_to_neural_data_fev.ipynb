{
 "cells": [
  {
   "cell_type": "code",
   "execution_count": 1,
   "id": "413f17fc",
   "metadata": {},
   "outputs": [
    {
     "data": {
      "text/html": [
       "<div>\n",
       "<style scoped>\n",
       "    .dataframe tbody tr th:only-of-type {\n",
       "        vertical-align: middle;\n",
       "    }\n",
       "\n",
       "    .dataframe tbody tr th {\n",
       "        vertical-align: top;\n",
       "    }\n",
       "\n",
       "    .dataframe thead th {\n",
       "        text-align: right;\n",
       "    }\n",
       "</style>\n",
       "<table border=\"1\" class=\"dataframe\">\n",
       "  <thead>\n",
       "    <tr style=\"text-align: right;\">\n",
       "      <th></th>\n",
       "      <th>layer</th>\n",
       "      <th>n_pcs</th>\n",
       "      <th>test_r2</th>\n",
       "      <th>mean_fev</th>\n",
       "    </tr>\n",
       "  </thead>\n",
       "  <tbody>\n",
       "    <tr>\n",
       "      <th>37</th>\n",
       "      <td>fc</td>\n",
       "      <td>10.0</td>\n",
       "      <td>0.017885</td>\n",
       "      <td>0.112693</td>\n",
       "    </tr>\n",
       "    <tr>\n",
       "      <th>2</th>\n",
       "      <td>layer1</td>\n",
       "      <td>20.0</td>\n",
       "      <td>0.026780</td>\n",
       "      <td>0.127222</td>\n",
       "    </tr>\n",
       "    <tr>\n",
       "      <th>9</th>\n",
       "      <td>layer2</td>\n",
       "      <td>NaN</td>\n",
       "      <td>0.030758</td>\n",
       "      <td>0.177962</td>\n",
       "    </tr>\n",
       "    <tr>\n",
       "      <th>26</th>\n",
       "      <td>layer3</td>\n",
       "      <td>500.0</td>\n",
       "      <td>0.035916</td>\n",
       "      <td>0.157459</td>\n",
       "    </tr>\n",
       "    <tr>\n",
       "      <th>27</th>\n",
       "      <td>layer4</td>\n",
       "      <td>NaN</td>\n",
       "      <td>0.022729</td>\n",
       "      <td>0.112540</td>\n",
       "    </tr>\n",
       "  </tbody>\n",
       "</table>\n",
       "</div>"
      ],
      "text/plain": [
       "     layer  n_pcs   test_r2  mean_fev\n",
       "37      fc   10.0  0.017885  0.112693\n",
       "2   layer1   20.0  0.026780  0.127222\n",
       "9   layer2    NaN  0.030758  0.177962\n",
       "26  layer3  500.0  0.035916  0.157459\n",
       "27  layer4    NaN  0.022729  0.112540"
      ]
     },
     "execution_count": 1,
     "metadata": {},
     "output_type": "execute_result"
    }
   ],
   "source": [
    "from cortexlib.utils.file import read_json_file_as_dataframe\n",
    "\n",
    "# For each layer, results has an FEV score for predicting neural data from SimCLR features reduced to N PCs\n",
    "# Load results and filter the best FEV per layer (e.g. feats reduced to optimal number of PCs)\n",
    "results = read_json_file_as_dataframe('../regressions/results/simclr_feats_pcs_to_neural_data.json')\n",
    "best_fev_per_layer = results.loc[results.groupby(\"layer\")[\"mean_fev\"].idxmax()]\n",
    "\n",
    "best_fev_per_layer"
   ]
  },
  {
   "cell_type": "code",
   "execution_count": 2,
   "id": "ea5bb764",
   "metadata": {},
   "outputs": [
    {
     "name": "stdout",
     "output_type": "stream",
     "text": [
      "Files already downloaded and verified\n",
      "Files already downloaded and verified\n"
     ]
    }
   ],
   "source": [
    "from cortexlib.stl10 import STL10FewShotDataset\n",
    "\n",
    "stl10 = STL10FewShotDataset(n_per_class=100, image_size=96)"
   ]
  },
  {
   "cell_type": "code",
   "execution_count": 3,
   "id": "00197b6a",
   "metadata": {},
   "outputs": [
    {
     "name": "stdout",
     "output_type": "stream",
     "text": [
      "Already downloaded pretrained model: https://raw.githubusercontent.com/phlippe/saved_models/main/tutorial17/SimCLR.ckpt\n"
     ]
    },
    {
     "data": {
      "application/vnd.jupyter.widget-view+json": {
       "model_id": "6dd4d57496ae4717a3aa4cb6e811e0e3",
       "version_major": 2,
       "version_minor": 0
      },
      "text/plain": [
       "  0%|          | 0/16 [00:00<?, ?it/s]"
      ]
     },
     "metadata": {},
     "output_type": "display_data"
    }
   ],
   "source": [
    "from cortexlib.simclr import PreTrainedSimCLRModel\n",
    "\n",
    "simclr = PreTrainedSimCLRModel()\n",
    "simclr_feats, labels = simclr.extract_features(stl10.dataset)"
   ]
  },
  {
   "cell_type": "code",
   "execution_count": 4,
   "id": "ce5bbdd2",
   "metadata": {},
   "outputs": [
    {
     "data": {
      "text/html": [
       "<div>\n",
       "<style scoped>\n",
       "    .dataframe tbody tr th:only-of-type {\n",
       "        vertical-align: middle;\n",
       "    }\n",
       "\n",
       "    .dataframe tbody tr th {\n",
       "        vertical-align: top;\n",
       "    }\n",
       "\n",
       "    .dataframe thead th {\n",
       "        text-align: right;\n",
       "    }\n",
       "</style>\n",
       "<table border=\"1\" class=\"dataframe\">\n",
       "  <thead>\n",
       "    <tr style=\"text-align: right;\">\n",
       "      <th></th>\n",
       "      <th>layer</th>\n",
       "      <th>silhouette</th>\n",
       "    </tr>\n",
       "  </thead>\n",
       "  <tbody>\n",
       "    <tr>\n",
       "      <th>0</th>\n",
       "      <td>layer1</td>\n",
       "      <td>-0.084380</td>\n",
       "    </tr>\n",
       "    <tr>\n",
       "      <th>1</th>\n",
       "      <td>layer2</td>\n",
       "      <td>-0.092757</td>\n",
       "    </tr>\n",
       "    <tr>\n",
       "      <th>2</th>\n",
       "      <td>layer3</td>\n",
       "      <td>-0.006451</td>\n",
       "    </tr>\n",
       "    <tr>\n",
       "      <th>3</th>\n",
       "      <td>layer4</td>\n",
       "      <td>0.068421</td>\n",
       "    </tr>\n",
       "    <tr>\n",
       "      <th>4</th>\n",
       "      <td>fc</td>\n",
       "      <td>0.087653</td>\n",
       "    </tr>\n",
       "  </tbody>\n",
       "</table>\n",
       "</div>"
      ],
      "text/plain": [
       "    layer  silhouette\n",
       "0  layer1   -0.084380\n",
       "1  layer2   -0.092757\n",
       "2  layer3   -0.006451\n",
       "3  layer4    0.068421\n",
       "4      fc    0.087653"
      ]
     },
     "execution_count": 4,
     "metadata": {},
     "output_type": "execute_result"
    }
   ],
   "source": [
    "from sklearn.manifold import TSNE\n",
    "from sklearn.metrics import silhouette_score\n",
    "import matplotlib.pyplot as plt\n",
    "from sklearn.decomposition import PCA\n",
    "import pandas as pd\n",
    "\n",
    "# TODO: compose; plot cluster visuals in grid\n",
    "\n",
    "# Map each label to its corresponding class name\n",
    "class_labels = [stl10.class_names[label] for label in labels]\n",
    "\n",
    "silhouette_scores = {}\n",
    "\n",
    "for layer, feats in simclr_feats.items():\n",
    "    if feats.dim() == 4:\n",
    "        feats = feats.view(feats.size(0), -1)\n",
    "\n",
    "    feats_pca = PCA(n_components=100).fit_transform(feats)\n",
    "    tsne_feats = TSNE(n_components=2, perplexity=30).fit_transform(feats_pca)\n",
    "\n",
    "    score = silhouette_score(tsne_feats, class_labels)\n",
    "    silhouette_scores[layer] = score\n",
    "\n",
    "silhouette_df = pd.DataFrame(list(silhouette_scores.items()), columns=['layer', 'silhouette'])\n",
    "\n",
    "silhouette_df"
   ]
  },
  {
   "cell_type": "code",
   "execution_count": 7,
   "id": "88682e41",
   "metadata": {},
   "outputs": [
    {
     "data": {
      "image/png": "[encoded data removed]",
      "text/plain": [
       "<Figure size 800x600 with 1 Axes>"
      ]
     },
     "metadata": {},
     "output_type": "display_data"
    }
   ],
   "source": [
    "from cortexlib.utils.plotting import simclr_colours\n",
    "\n",
    "silhouette_df = pd.DataFrame(list(silhouette_scores.items()), columns=['layer', 'silhouette'])\n",
    "merged_results = pd.merge(best_fev_per_layer, silhouette_df, on='layer')\n",
    "\n",
    "colours = merged_results['layer'].map(simclr_colours)\n",
    "\n",
    "plt.figure(figsize=(8, 6))\n",
    "plt.scatter(merged_results['silhouette'], merged_results['mean_fev'], c=colours)\n",
    "\n",
    "for _, row in merged_results.iterrows():\n",
    "    plt.annotate(row['layer'], (row['silhouette'], row['mean_fev']), textcoords=\"offset points\", xytext=(5,5), ha='left', color=simclr_colours[row['layer']])\n",
    "\n",
    "plt.xlabel('Silhouette Score')\n",
    "plt.ylabel('Mean FEV')\n",
    "plt.title('Relationship between Feature Clustering and Predictive Power')\n",
    "plt.grid(True)\n",
    "plt.tight_layout()\n",
    "plt.show()"
   ]
  }
 ],
 "metadata": {
  "kernelspec": {
   "display_name": "myenv",
   "language": "python",
   "name": "python3"
  },
  "language_info": {
   "codemirror_mode": {
    "name": "ipython",
    "version": 3
   },
   "file_extension": ".py",
   "mimetype": "text/x-python",
   "name": "python",
   "nbconvert_exporter": "python",
   "pygments_lexer": "ipython3",
   "version": "3.11.4"
  }
 },
 "nbformat": 4,
 "nbformat_minor": 5
}
