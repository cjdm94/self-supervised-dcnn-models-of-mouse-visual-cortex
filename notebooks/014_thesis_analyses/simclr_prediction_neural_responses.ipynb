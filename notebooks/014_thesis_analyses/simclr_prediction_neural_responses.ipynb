{
 "cells": [
  {
   "cell_type": "code",
   "execution_count": null,
   "id": "71df9aa2",
   "metadata": {},
   "outputs": [],
   "source": [
    "from cortexlib.mouse import CortexlabMouse\n",
    "\n",
    "mouse = CortexlabMouse()\n",
    "\n",
    "null_srv_all_neurons = mouse.compute_null_all_neurons(n_shuffles=100)\n",
    "real_srv_all_neurons = mouse.compute_real_srv_all_neurons()\n",
    "reliable_neuron_indices = mouse.get_reliable_neuron_indices(\n",
    "            null_srv_all_neurons, real_srv_all_neurons, percentile_threshold=99)\n",
    "neural_responses_mean, neural_responses, _ = mouse.get_responses_for_reliable_neurons(reliable_neuron_indices, real_srv_all_neurons, num_neurons=500)\n",
    "\n",
    "mouse.plot_null_distribution_for_neuron(null_srv_all_neurons, neuron_index=0)\n",
    "mouse.plot_real_srv_distribution(real_srv_all_neurons, reliable_neuron_indices)"
   ]
  },
  {
   "cell_type": "code",
   "execution_count": null,
   "id": "291f9315",
   "metadata": {},
   "outputs": [],
   "source": [
    "from cortexlib.images import CortexlabImages\n",
    "\n",
    "images = CortexlabImages()\n",
    "images.plot_raw_image(int(mouse.stimulus_ids[0]))\n",
    "image_dataset = images.load_images_shown_to_mouse(mouse.stimulus_ids)\n",
    "images.show_sample(image_dataset, n=5)"
   ]
  },
  {
   "cell_type": "code",
   "execution_count": null,
   "id": "6ccdd29e",
   "metadata": {},
   "outputs": [],
   "source": [
    "from cortexlib.simclr import PreTrainedSimCLRModel\n",
    "\n",
    "simclr = PreTrainedSimCLRModel()\n",
    "simclr_features, _ = simclr.extract_features(image_dataset)"
   ]
  },
  {
   "cell_type": "code",
   "execution_count": null,
   "id": "9abbe6ad",
   "metadata": {},
   "outputs": [],
   "source": [
    "from cortexlib.predictor import NeuralResponsePredictor\n",
    "\n",
    "for layer, feats in simclr_features.items():\n",
    "    predictor = NeuralResponsePredictor()\n",
    "    r_squared = predictor.compute_r_squared(feats, neural_responses)\n",
    "    fev = predictor.compute_fev(feats, neural_responses)\n",
    "    print(f\"SimCLR Layer: {layer}, R^2: {r_squared['test_r2']:.4f} FEV: {fev['mean_fev']:.4f}\")"
   ]
  }
 ],
 "metadata": {
  "kernelspec": {
   "display_name": "myenv",
   "language": "python",
   "name": "python3"
  },
  "language_info": {
   "codemirror_mode": {
    "name": "ipython",
    "version": 3
   },
   "file_extension": ".py",
   "mimetype": "text/x-python",
   "name": "python",
   "nbconvert_exporter": "python",
   "pygments_lexer": "ipython3",
   "version": "3.11.4"
  }
 },
 "nbformat": 4,
 "nbformat_minor": 5
}
